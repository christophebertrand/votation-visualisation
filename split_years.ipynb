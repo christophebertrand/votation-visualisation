{
 "cells": [
  {
   "cell_type": "code",
   "execution_count": 1,
   "metadata": {
    "collapsed": true
   },
   "outputs": [],
   "source": [
    "# imports\n",
    "import pandas as pd\n",
    "import numpy as np\n",
    "import seaborn as sns\n",
    "import matplotlib.pyplot as plt\n",
    "from matplotlib.pyplot import show\n",
    "import re"
   ]
  },
  {
   "cell_type": "code",
   "execution_count": 2,
   "metadata": {
    "collapsed": true
   },
   "outputs": [],
   "source": [
    "df = pd.read_csv('data/population_cleaned.csv')"
   ]
  },
  {
   "cell_type": "code",
   "execution_count": 3,
   "metadata": {
    "collapsed": true
   },
   "outputs": [],
   "source": [
    "#group the ages by categories :{[0, 18), [18, 40), [40, 65), [65, 100)}\n",
    "d = pd.DataFrame(columns=['commune', 'sex', 'year', 'nationality', 'age', 'value'])\n",
    "for l, u in [(0, 18), (18, 40), (40, 65), (65, 100)]:\n",
    "    tmp = df[df['age'] >= l]\n",
    "    tmp = tmp[tmp['age'] < u]\n",
    "    tmp = tmp.groupby(['commune', 'sex', 'year', 'nationality'], as_index=False).sum()\n",
    "    tmp['age'] = int(u)\n",
    "    d = pd.concat([d, tmp])\n",
    "for s in ['year', 'age', 'value']:\n",
    "    d[s] = d[s].astype(int)\n",
    "df = d"
   ]
  },
  {
   "cell_type": "code",
   "execution_count": 4,
   "metadata": {
    "collapsed": false
   },
   "outputs": [],
   "source": [
    "ids =  pd.read_csv('data/ids')\n",
    "ids.rename(columns={'name':'commune'}, inplace=True)\n",
    "ids = ids.sort_values('commune', ascending=True)"
   ]
  },
  {
   "cell_type": "code",
   "execution_count": 11,
   "metadata": {
    "collapsed": true
   },
   "outputs": [],
   "source": [
    "def merge(df, year):\n",
    "    da = df.groupby(['commune','sex', 'nationality', 'age']).sum()\n",
    "    da = da.unstack(level=0).T\n",
    "    da.columns = ['%s%s%s' % (a, '%s' % b if b else '', '%s' % c if c else '') for a, b,c in da.columns]\n",
    "    da.index = da.index.droplevel()\n",
    "    da = da.reset_index(level=0)\n",
    "    result = pd.merge(ids, da, left_on='commune', right_on='commune')\n",
    "    result = result.sort_values('id')\n",
    "    result['id'] = result['id'].astype(int)\n",
    "    result.to_csv('data/clean%d.csv' % year, index=False)"
   ]
  },
  {
   "cell_type": "code",
   "execution_count": 12,
   "metadata": {
    "collapsed": false
   },
   "outputs": [
    {
     "name": "stdout",
     "output_type": "stream",
     "text": [
      "year 2010: done\n",
      "year 2011: done\n",
      "year 2012: done\n",
      "year 2013: done\n",
      "year 2014: done\n",
      "year 2015: done\n"
     ]
    }
   ],
   "source": [
    "for i in range(2010, 2016):\n",
    "    tmp = df[df['year'] == i]\n",
    "    tmp = tmp.drop('year', axis=1)\n",
    "    merge(tmp, i)\n",
    "    print('year %d: done' % i)"
   ]
  }
 ],
 "metadata": {
  "anaconda-cloud": {},
  "kernelspec": {
   "display_name": "Python [Root]",
   "language": "python",
   "name": "Python [Root]"
  },
  "language_info": {
   "codemirror_mode": {
    "name": "ipython",
    "version": 3
   },
   "file_extension": ".py",
   "mimetype": "text/x-python",
   "name": "python",
   "nbconvert_exporter": "python",
   "pygments_lexer": "ipython3",
   "version": "3.5.2"
  }
 },
 "nbformat": 4,
 "nbformat_minor": 0
}
