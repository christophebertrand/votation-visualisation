{
 "cells": [
  {
   "cell_type": "code",
   "execution_count": 1,
   "metadata": {
    "collapsed": false
   },
   "outputs": [],
   "source": [
    "# imports\n",
    "import pandas as pd\n",
    "import numpy as np\n",
    "import seaborn as sns\n",
    "import matplotlib.pyplot as plt\n",
    "from matplotlib.pyplot import show\n",
    "import re"
   ]
  },
  {
   "cell_type": "code",
   "execution_count": 2,
   "metadata": {
    "collapsed": false
   },
   "outputs": [],
   "source": [
    "df = pd.read_csv('data/population.csv')"
   ]
  },
  {
   "cell_type": "code",
   "execution_count": 3,
   "metadata": {
    "collapsed": false
   },
   "outputs": [
    {
     "data": {
      "text/plain": [
       "(27528984, 8)"
      ]
     },
     "execution_count": 3,
     "metadata": {},
     "output_type": "execute_result"
    }
   ],
   "source": [
    "df.shape"
   ]
  },
  {
   "cell_type": "code",
   "execution_count": 4,
   "metadata": {
    "collapsed": false
   },
   "outputs": [],
   "source": [
    "df.columns = ['id', 'age', 'nationality', 'sex', 'population_type', 'commune', 'year', 'value']"
   ]
  },
  {
   "cell_type": "code",
   "execution_count": 5,
   "metadata": {
    "collapsed": true
   },
   "outputs": [],
   "source": [
    "df = df.drop('id', 1)"
   ]
  },
  {
   "cell_type": "code",
   "execution_count": 6,
   "metadata": {
    "collapsed": false
   },
   "outputs": [
    {
     "data": {
      "text/html": [
       "<div>\n",
       "<table border=\"1\" class=\"dataframe\">\n",
       "  <thead>\n",
       "    <tr style=\"text-align: right;\">\n",
       "      <th></th>\n",
       "      <th>age</th>\n",
       "      <th>nationality</th>\n",
       "      <th>sex</th>\n",
       "      <th>population_type</th>\n",
       "      <th>commune</th>\n",
       "      <th>year</th>\n",
       "      <th>value</th>\n",
       "    </tr>\n",
       "  </thead>\n",
       "  <tbody>\n",
       "    <tr>\n",
       "      <th>0</th>\n",
       "      <td>Alter - Total</td>\n",
       "      <td>Staatsangehörigkeit - Total</td>\n",
       "      <td>Geschlecht - Total</td>\n",
       "      <td>Ständige Wohnbevölkerung</td>\n",
       "      <td>Schweiz</td>\n",
       "      <td>2010</td>\n",
       "      <td>7870134</td>\n",
       "    </tr>\n",
       "    <tr>\n",
       "      <th>1</th>\n",
       "      <td>0 Jahre</td>\n",
       "      <td>Staatsangehörigkeit - Total</td>\n",
       "      <td>Geschlecht - Total</td>\n",
       "      <td>Ständige Wohnbevölkerung</td>\n",
       "      <td>Schweiz</td>\n",
       "      <td>2010</td>\n",
       "      <td>78031</td>\n",
       "    </tr>\n",
       "    <tr>\n",
       "      <th>2</th>\n",
       "      <td>1 Jahr</td>\n",
       "      <td>Staatsangehörigkeit - Total</td>\n",
       "      <td>Geschlecht - Total</td>\n",
       "      <td>Ständige Wohnbevölkerung</td>\n",
       "      <td>Schweiz</td>\n",
       "      <td>2010</td>\n",
       "      <td>79351</td>\n",
       "    </tr>\n",
       "    <tr>\n",
       "      <th>3</th>\n",
       "      <td>2 Jahre</td>\n",
       "      <td>Staatsangehörigkeit - Total</td>\n",
       "      <td>Geschlecht - Total</td>\n",
       "      <td>Ständige Wohnbevölkerung</td>\n",
       "      <td>Schweiz</td>\n",
       "      <td>2010</td>\n",
       "      <td>78793</td>\n",
       "    </tr>\n",
       "    <tr>\n",
       "      <th>4</th>\n",
       "      <td>3 Jahre</td>\n",
       "      <td>Staatsangehörigkeit - Total</td>\n",
       "      <td>Geschlecht - Total</td>\n",
       "      <td>Ständige Wohnbevölkerung</td>\n",
       "      <td>Schweiz</td>\n",
       "      <td>2010</td>\n",
       "      <td>77708</td>\n",
       "    </tr>\n",
       "  </tbody>\n",
       "</table>\n",
       "</div>"
      ],
      "text/plain": [
       "             age                  nationality                 sex  \\\n",
       "0  Alter - Total  Staatsangehörigkeit - Total  Geschlecht - Total   \n",
       "1        0 Jahre  Staatsangehörigkeit - Total  Geschlecht - Total   \n",
       "2         1 Jahr  Staatsangehörigkeit - Total  Geschlecht - Total   \n",
       "3        2 Jahre  Staatsangehörigkeit - Total  Geschlecht - Total   \n",
       "4        3 Jahre  Staatsangehörigkeit - Total  Geschlecht - Total   \n",
       "\n",
       "            population_type  commune  year    value  \n",
       "0  Ständige Wohnbevölkerung  Schweiz  2010  7870134  \n",
       "1  Ständige Wohnbevölkerung  Schweiz  2010    78031  \n",
       "2  Ständige Wohnbevölkerung  Schweiz  2010    79351  \n",
       "3  Ständige Wohnbevölkerung  Schweiz  2010    78793  \n",
       "4  Ständige Wohnbevölkerung  Schweiz  2010    77708  "
      ]
     },
     "execution_count": 6,
     "metadata": {},
     "output_type": "execute_result"
    }
   ],
   "source": [
    "df.head()"
   ]
  },
  {
   "cell_type": "code",
   "execution_count": 7,
   "metadata": {
    "collapsed": false
   },
   "outputs": [],
   "source": [
    "df = df[df['commune'] != 'Schweiz']\n",
    "df = df.loc[(df.population_type.str.contains('Ständige Wohnbevölkerung') == True)]\n",
    "df = df.drop('population_type', 1)\n",
    "df = df.loc[(df.sex.str.contains('Total') == False)]\n",
    "df = df.loc[(df.nationality.str.contains('Total') == False)]\n",
    "df = df.loc[(df.age.str.contains('Total') == False)]"
   ]
  },
  {
   "cell_type": "code",
   "execution_count": 8,
   "metadata": {
    "collapsed": false
   },
   "outputs": [
    {
     "data": {
      "text/plain": [
       "(6055152, 6)"
      ]
     },
     "execution_count": 8,
     "metadata": {},
     "output_type": "execute_result"
    }
   ],
   "source": [
    "df.shape"
   ]
  },
  {
   "cell_type": "code",
   "execution_count": 9,
   "metadata": {
    "collapsed": false
   },
   "outputs": [],
   "source": [
    "df = df.loc[(df.commune.str.contains('>>') == False)]\n",
    "df = df.loc[(df.commune.str.contains('- ') == False)]\n"
   ]
  },
  {
   "cell_type": "code",
   "execution_count": null,
   "metadata": {
    "collapsed": false
   },
   "outputs": [
    {
     "data": {
      "text/plain": [
       "(5633376, 6)"
      ]
     },
     "execution_count": 10,
     "metadata": {},
     "output_type": "execute_result"
    }
   ],
   "source": [
    "df.shape"
   ]
  },
  {
   "cell_type": "code",
   "execution_count": null,
   "metadata": {
    "collapsed": false
   },
   "outputs": [],
   "source": [
    "df['sex'] = df['sex'].str.replace(\"Frau\",\"F\")\n",
    "df['sex'] = df['sex'].str.replace(\"Mann\",\"M\")"
   ]
  },
  {
   "cell_type": "code",
   "execution_count": null,
   "metadata": {
    "collapsed": true
   },
   "outputs": [],
   "source": [
    "df['nationality'] = df['nationality'].str.replace(\"Ausland\",\"A\")\n",
    "df['nationality'] = df['nationality'].str.replace(\"Schweiz\",\"S\")"
   ]
  },
  {
   "cell_type": "code",
   "execution_count": null,
   "metadata": {
    "collapsed": false
   },
   "outputs": [],
   "source": [
    "regex = re.compile(r\"( Jahr(e)?| und mehr)\")\n",
    "df['age'].replace(to_replace=regex, value='', inplace=True,regex=True)"
   ]
  },
  {
   "cell_type": "code",
   "execution_count": null,
   "metadata": {
    "collapsed": false
   },
   "outputs": [],
   "source": [
    "regex = re.compile(r\"\\.{6}\\d{4} \")\n",
    "df['commune'].replace(to_replace=regex, value='', inplace=True, regex=True)"
   ]
  },
  {
   "cell_type": "code",
   "execution_count": null,
   "metadata": {
    "collapsed": false
   },
   "outputs": [],
   "source": [
    "df.head()"
   ]
  },
  {
   "cell_type": "code",
   "execution_count": null,
   "metadata": {
    "collapsed": true
   },
   "outputs": [],
   "source": [
    "df.to_csv('data/population_cleaned.csv', index=False)"
   ]
  }
 ],
 "metadata": {
  "anaconda-cloud": {},
  "kernelspec": {
   "display_name": "Python [Root]",
   "language": "python",
   "name": "Python [Root]"
  },
  "language_info": {
   "codemirror_mode": {
    "name": "ipython",
    "version": 3
   },
   "file_extension": ".py",
   "mimetype": "text/x-python",
   "name": "python",
   "nbconvert_exporter": "python",
   "pygments_lexer": "ipython3",
   "version": "3.5.2"
  }
 },
 "nbformat": 4,
 "nbformat_minor": 0
}
