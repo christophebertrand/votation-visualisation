{
 "cells": [
  {
   "cell_type": "code",
   "execution_count": 9,
   "metadata": {
    "collapsed": true
   },
   "outputs": [],
   "source": [
    "# imports\n",
    "import pandas as pd\n",
    "import numpy as np\n",
    "import seaborn as sns\n",
    "import matplotlib.pyplot as plt\n",
    "from matplotlib.pyplot import show\n",
    "import warnings\n",
    "import os\n",
    "import glob\n",
    "%matplotlib inline\n",
    "sns.set_context('notebook')\n",
    "pd.options.mode.chained_assignment = None  # default='warn'\n",
    "pd.set_option('display.max_columns', 500) # show more columns\n",
    "nan = np.nan # store numpy.nan in 'nan'"
   ]
  },
  {
   "cell_type": "code",
   "execution_count": 20,
   "metadata": {
    "collapsed": true
   },
   "outputs": [],
   "source": [
    "def _check_df(filename):\n",
    "    print(filename)\n",
    "    correct_ids = pd.read_csv('municipalities/2015/id_commune_2015.csv')\n",
    "    df = pd.read_csv(filename)\n",
    "    if len(df) != len(correct_ids):\n",
    "        warnings.warn('{} has not the correct number of entries (has {}, needs{})'\n",
    "                      .format(filename, len(df), len(correct_ids)))\n",
    "    if 'commune_id' in df.columns:\n",
    "        df['id'] = df['commune_id']\n",
    "    if 'id' not in df.columns:\n",
    "        warnings.warn('no id in '+filename)\n",
    "        return None\n",
    "    missing_in_df = []\n",
    "    missing_in_id = []\n",
    "    for i in correct_ids['id'].values:\n",
    "        if i not in df['id'].values:\n",
    "            missing_in_df.append(i)\n",
    "    for i in df['id'].values:\n",
    "        if i not in correct_ids['id'].values:\n",
    "            missing_in_id.append(i)\n",
    "    print(filename+\":\")\n",
    "    print(\"missing: \", missing_in_df)\n",
    "    print(\"too much: \", missing_in_id)\n"
   ]
  },
  {
   "cell_type": "code",
   "execution_count": 21,
   "metadata": {
    "collapsed": false
   },
   "outputs": [
    {
     "name": "stdout",
     "output_type": "stream",
     "text": [
      "municipalities/cleaned_language.csv\n",
      "municipalities/cleaned_language.csv:\n",
      "missing:  []\n",
      "too much:  []\n",
      "municipalities/2013/area_data.csv\n",
      "municipalities/2013/area_data.csv:\n",
      "missing:  []\n",
      "too much:  []\n",
      "municipalities/2013/cleaned_language.csv\n",
      "municipalities/2013/cleaned_language.csv:\n",
      "missing:  []\n",
      "too much:  []\n",
      "municipalities/2013/commune_canton_map.csv\n",
      "municipalities/2013/commune_canton_map.csv:\n",
      "missing:  []\n",
      "too much:  []\n",
      "municipalities/2013/data_commune.csv\n",
      "municipalities/2013/data_commune.csv:\n",
      "missing:  []\n",
      "too much:  []\n",
      "municipalities/2013/data_cows.csv\n",
      "municipalities/2013/data_cows.csv:\n",
      "missing:  []\n",
      "too much:  []\n",
      "municipalities/2013/politique_data.csv\n",
      "municipalities/2013/politique_data.csv:\n",
      "missing:  []\n",
      "too much:  []\n",
      "municipalities/2013/population_density.csv\n",
      "municipalities/2013/population_density.csv:\n",
      "missing:  []\n",
      "too much:  []\n",
      "municipalities/2014/area_data.csv\n",
      "municipalities/2014/area_data.csv:\n",
      "missing:  []\n",
      "too much:  []\n",
      "municipalities/2014/cleaned_language.csv\n",
      "municipalities/2014/cleaned_language.csv:\n",
      "missing:  []\n",
      "too much:  []\n",
      "municipalities/2014/commune_canton_map.csv\n",
      "municipalities/2014/commune_canton_map.csv:\n",
      "missing:  []\n",
      "too much:  []\n",
      "municipalities/2014/data_commune.csv\n",
      "municipalities/2014/data_commune.csv:\n",
      "missing:  []\n",
      "too much:  []\n",
      "municipalities/2014/data_cows.csv\n",
      "municipalities/2014/data_cows.csv:\n",
      "missing:  []\n",
      "too much:  []\n",
      "municipalities/2014/politique_data.csv\n",
      "municipalities/2014/politique_data.csv:\n",
      "missing:  []\n",
      "too much:  []\n",
      "municipalities/2014/population_density.csv\n",
      "municipalities/2014/population_density.csv:\n",
      "missing:  []\n",
      "too much:  []\n",
      "municipalities/2015/area_data.csv\n",
      "municipalities/2015/area_data.csv:\n",
      "missing:  []\n",
      "too much:  []\n",
      "municipalities/2015/cleaned_language.csv\n",
      "municipalities/2015/cleaned_language.csv:\n",
      "missing:  []\n",
      "too much:  []\n",
      "municipalities/2015/commune_canton_map.csv\n",
      "municipalities/2015/commune_canton_map.csv:\n",
      "missing:  []\n",
      "too much:  []\n",
      "municipalities/2015/data_commune.csv\n",
      "municipalities/2015/data_commune.csv:\n",
      "missing:  []\n",
      "too much:  []\n",
      "municipalities/2015/data_cows.csv\n",
      "municipalities/2015/data_cows.csv:\n",
      "missing:  []\n",
      "too much:  []\n",
      "municipalities/2015/id_commune_2015.csv\n",
      "municipalities/2015/id_commune_2015.csv:\n",
      "missing:  []\n",
      "too much:  []\n",
      "municipalities/2015/politique_data.csv\n",
      "municipalities/2015/politique_data.csv:\n",
      "missing:  []\n",
      "too much:  []\n",
      "municipalities/2015/population_density.csv\n",
      "municipalities/2015/population_density.csv:\n",
      "missing:  []\n",
      "too much:  []\n",
      "municipalities/2016/area_data.csv\n",
      "municipalities/2016/area_data.csv:\n",
      "missing:  []\n",
      "too much:  []\n",
      "municipalities/2016/clean2015.csv\n",
      "municipalities/2016/clean2015.csv:\n",
      "missing:  [174, 175, 389, 408, 417, 419, 422, 532, 535, 661, 868, 877, 878, 978, 2013, 2014, 2024, 2040, 2172, 2184, 2192, 2222, 2223, 2231, 2251, 2264, 2270, 2277, 2280, 2281, 3531, 3532, 3533, 3534, 3536, 3538, 3539, 3540, 3541, 3612, 3617, 3883, 3893, 5081, 5109, 5119, 5132, 5137, 5782, 5789, 5791, 6405]\n",
      "too much:  [296]\n",
      "municipalities/2016/cleaned_language.csv\n",
      "municipalities/2016/cleaned_language.csv:\n",
      "missing:  []\n",
      "too much:  []\n",
      "municipalities/2016/commune_canton_map.csv\n",
      "municipalities/2016/commune_canton_map.csv:\n",
      "missing:  []\n",
      "too much:  []\n",
      "municipalities/2016/data_commune.csv\n"
     ]
    },
    {
     "name": "stderr",
     "output_type": "stream",
     "text": [
      "/home/lukas/anaconda3/lib/python3.5/site-packages/ipykernel/__main__.py:7: UserWarning: municipalities/2016/clean2015.csv has not the correct number of entries (has 2273, needs2324)\n"
     ]
    },
    {
     "name": "stdout",
     "output_type": "stream",
     "text": [
      "municipalities/2016/data_commune.csv:\n",
      "missing:  []\n",
      "too much:  []\n",
      "municipalities/2016/data_cows.csv\n",
      "municipalities/2016/data_cows.csv:\n",
      "missing:  []\n",
      "too much:  []\n",
      "municipalities/2016/politique_data.csv\n",
      "municipalities/2016/politique_data.csv:\n",
      "missing:  []\n",
      "too much:  []\n",
      "municipalities/2016/population_density.csv\n",
      "municipalities/2016/population_density.csv:\n",
      "missing:  []\n",
      "too much:  []\n"
     ]
    }
   ],
   "source": [
    "for filename in glob.iglob('municipalities/**/*.csv', recursive=True):\n",
    "    _check_df(filename)"
   ]
  },
  {
   "cell_type": "code",
   "execution_count": null,
   "metadata": {
    "collapsed": true
   },
   "outputs": [],
   "source": []
  }
 ],
 "metadata": {
  "anaconda-cloud": {},
  "kernelspec": {
   "display_name": "Python [Root]",
   "language": "python",
   "name": "Python [Root]"
  },
  "language_info": {
   "codemirror_mode": {
    "name": "ipython",
    "version": 3
   },
   "file_extension": ".py",
   "mimetype": "text/x-python",
   "name": "python",
   "nbconvert_exporter": "python",
   "pygments_lexer": "ipython3",
   "version": "3.5.2"
  }
 },
 "nbformat": 4,
 "nbformat_minor": 0
}
