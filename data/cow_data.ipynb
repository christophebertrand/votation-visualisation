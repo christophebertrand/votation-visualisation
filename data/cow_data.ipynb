{
 "cells": [
  {
   "cell_type": "markdown",
   "metadata": {},
   "source": [
    "The data used here can be found [here](https://www.pxweb.bfs.admin.ch/Selection.aspx?px_language=fr&px_db=px-x-0702000000_104&px_tableid=px-x-0702000000_104\\px-x-0702000000_104.px&px_type=PX).\n",
    "\n",
    "We gathered the data from 2013-2015 (2016) is not available. However, the names of the municipalities are those from the year 2016 (or later). In ordrer to have some data for the right municipality names, we assume that the ratio cow/inhabitant doesn't change between the municipalities that merge together."
   ]
  },
  {
   "cell_type": "code",
   "execution_count": 81,
   "metadata": {
    "collapsed": true
   },
   "outputs": [],
   "source": [
    "# imports\n",
    "import pandas as pd\n",
    "import numpy as np\n",
    "import seaborn as sns\n",
    "import matplotlib.pyplot as plt\n",
    "from matplotlib.pyplot import show\n",
    "import re"
   ]
  },
  {
   "cell_type": "code",
   "execution_count": 82,
   "metadata": {
    "collapsed": false
   },
   "outputs": [],
   "source": [
    "df = pd.read_csv('data_to_be_processed/cows.csv', encoding='latin_1', skiprows=2, delimiter=';')"
   ]
  },
  {
   "cell_type": "code",
   "execution_count": 83,
   "metadata": {
    "collapsed": false
   },
   "outputs": [
    {
     "data": {
      "text/html": [
       "<div>\n",
       "<table border=\"1\" class=\"dataframe\">\n",
       "  <thead>\n",
       "    <tr style=\"text-align: right;\">\n",
       "      <th></th>\n",
       "      <th>year</th>\n",
       "      <th>commune</th>\n",
       "      <th>cows</th>\n",
       "    </tr>\n",
       "  </thead>\n",
       "  <tbody>\n",
       "    <tr>\n",
       "      <th>0</th>\n",
       "      <td>2013</td>\n",
       "      <td>- Suisse</td>\n",
       "      <td>1557474</td>\n",
       "    </tr>\n",
       "    <tr>\n",
       "      <th>1</th>\n",
       "      <td>2013</td>\n",
       "      <td>- Zürich</td>\n",
       "      <td>93233</td>\n",
       "    </tr>\n",
       "    <tr>\n",
       "      <th>2</th>\n",
       "      <td>2013</td>\n",
       "      <td>&gt;&gt;  Bezirk Affoltern</td>\n",
       "      <td>9315</td>\n",
       "    </tr>\n",
       "    <tr>\n",
       "      <th>3</th>\n",
       "      <td>2013</td>\n",
       "      <td>......0001 Aeugst am Albis</td>\n",
       "      <td>622</td>\n",
       "    </tr>\n",
       "    <tr>\n",
       "      <th>4</th>\n",
       "      <td>2013</td>\n",
       "      <td>......0002 Affoltern am Albis</td>\n",
       "      <td>596</td>\n",
       "    </tr>\n",
       "  </tbody>\n",
       "</table>\n",
       "</div>"
      ],
      "text/plain": [
       "   year                        commune     cows\n",
       "0  2013                       - Suisse  1557474\n",
       "1  2013                       - Zürich    93233\n",
       "2  2013           >>  Bezirk Affoltern     9315\n",
       "3  2013     ......0001 Aeugst am Albis      622\n",
       "4  2013  ......0002 Affoltern am Albis      596"
      ]
     },
     "execution_count": 83,
     "metadata": {},
     "output_type": "execute_result"
    }
   ],
   "source": [
    "df = df.drop(['Système d\\'exploitation'], axis=1)\n",
    "df.columns = ['year', 'commune', 'cows']\n",
    "df.head()\n"
   ]
  },
  {
   "cell_type": "markdown",
   "metadata": {},
   "source": [
    "### Preprocessing"
   ]
  },
  {
   "cell_type": "code",
   "execution_count": 84,
   "metadata": {
    "collapsed": false
   },
   "outputs": [],
   "source": [
    "#remove districts\n",
    "df = df.loc[(df.commune.str.contains('>>') == False)]\n",
    "#remove cantons\n",
    "df = df.loc[(df.commune.str.contains('- ') == False)]\n",
    "#remove swiss total\n",
    "df = df[df['commune'] != '- Suisse']\n",
    "#rewrite commune name\n",
    "df['id'], df['commune'] = df['commune'].str.split(' ', 1).str\n",
    "regex = re.compile(r\"\\.{6}\")\n",
    "df['id'].replace(to_replace=regex, value='', inplace=True, regex=True)\n",
    "df['id'] = df['id'].astype(int)\n",
    "\n",
    "\n",
    "df = df[~df.commune.str.isnumeric()]"
   ]
  },
  {
   "cell_type": "code",
   "execution_count": 99,
   "metadata": {
    "collapsed": false
   },
   "outputs": [
    {
     "data": {
      "text/html": [
       "<div>\n",
       "<table border=\"1\" class=\"dataframe\">\n",
       "  <thead>\n",
       "    <tr style=\"text-align: right;\">\n",
       "      <th></th>\n",
       "      <th>year</th>\n",
       "      <th>commune</th>\n",
       "      <th>cows</th>\n",
       "      <th>id</th>\n",
       "    </tr>\n",
       "  </thead>\n",
       "  <tbody>\n",
       "    <tr>\n",
       "      <th>1766</th>\n",
       "      <td>2013</td>\n",
       "      <td>Sobrio</td>\n",
       "      <td>27</td>\n",
       "      <td>5081</td>\n",
       "    </tr>\n",
       "    <tr>\n",
       "      <th>4271</th>\n",
       "      <td>2014</td>\n",
       "      <td>Sobrio</td>\n",
       "      <td>32</td>\n",
       "      <td>5081</td>\n",
       "    </tr>\n",
       "    <tr>\n",
       "      <th>6776</th>\n",
       "      <td>2015</td>\n",
       "      <td>Sobrio</td>\n",
       "      <td>25</td>\n",
       "      <td>5081</td>\n",
       "    </tr>\n",
       "  </tbody>\n",
       "</table>\n",
       "</div>"
      ],
      "text/plain": [
       "      year commune  cows    id\n",
       "1766  2013  Sobrio    27  5081\n",
       "4271  2014  Sobrio    32  5081\n",
       "6776  2015  Sobrio    25  5081"
      ]
     },
     "execution_count": 99,
     "metadata": {},
     "output_type": "execute_result"
    }
   ],
   "source": [
    "df[df.id == 5081]"
   ]
  },
  {
   "cell_type": "code",
   "execution_count": 85,
   "metadata": {
    "collapsed": false
   },
   "outputs": [
    {
     "data": {
      "text/plain": [
       "(54, 5)"
      ]
     },
     "execution_count": 85,
     "metadata": {},
     "output_type": "execute_result"
    }
   ],
   "source": [
    "f = pd.read_csv(\"data_to_be_processed/fusion_mappings.csv\")\n",
    "f = f[f.date.str.contains('2016')]\n",
    "f.head()\n",
    "df[df['id'] == 310]\n",
    "f.shape"
   ]
  },
  {
   "cell_type": "code",
   "execution_count": 86,
   "metadata": {
    "collapsed": false
   },
   "outputs": [
    {
     "data": {
      "text/html": [
       "<div>\n",
       "<table border=\"1\" class=\"dataframe\">\n",
       "  <thead>\n",
       "    <tr style=\"text-align: right;\">\n",
       "      <th></th>\n",
       "      <th>pre_id</th>\n",
       "      <th>pre_name</th>\n",
       "      <th>post_id</th>\n",
       "      <th>post_name</th>\n",
       "      <th>date</th>\n",
       "    </tr>\n",
       "  </thead>\n",
       "  <tbody>\n",
       "    <tr>\n",
       "      <th>700</th>\n",
       "      <td>532</td>\n",
       "      <td>Bangerten</td>\n",
       "      <td>310</td>\n",
       "      <td>Rapperswil (BE)</td>\n",
       "      <td>01.01.2016</td>\n",
       "    </tr>\n",
       "    <tr>\n",
       "      <th>783</th>\n",
       "      <td>310</td>\n",
       "      <td>Rapperswil (BE)</td>\n",
       "      <td>310</td>\n",
       "      <td>Rapperswil (BE)</td>\n",
       "      <td>01.01.2016</td>\n",
       "    </tr>\n",
       "  </tbody>\n",
       "</table>\n",
       "</div>"
      ],
      "text/plain": [
       "     pre_id         pre_name  post_id        post_name        date\n",
       "700     532        Bangerten      310  Rapperswil (BE)  01.01.2016\n",
       "783     310  Rapperswil (BE)      310  Rapperswil (BE)  01.01.2016"
      ]
     },
     "execution_count": 86,
     "metadata": {},
     "output_type": "execute_result"
    }
   ],
   "source": [
    "f[f['post_name'] == 'Rapperswil (BE)']"
   ]
  },
  {
   "cell_type": "code",
   "execution_count": 87,
   "metadata": {
    "collapsed": false
   },
   "outputs": [
    {
     "data": {
      "text/html": [
       "<div>\n",
       "<table border=\"1\" class=\"dataframe\">\n",
       "  <thead>\n",
       "    <tr style=\"text-align: right;\">\n",
       "      <th></th>\n",
       "      <th>pre_id</th>\n",
       "      <th>pre_name</th>\n",
       "      <th>post_id</th>\n",
       "      <th>post_name</th>\n",
       "      <th>date</th>\n",
       "      <th>year</th>\n",
       "      <th>commune</th>\n",
       "      <th>cows</th>\n",
       "      <th>id</th>\n",
       "    </tr>\n",
       "  </thead>\n",
       "  <tbody>\n",
       "    <tr>\n",
       "      <th>6</th>\n",
       "      <td>532.0</td>\n",
       "      <td>Bangerten</td>\n",
       "      <td>310.0</td>\n",
       "      <td>Rapperswil (BE)</td>\n",
       "      <td>01.01.2016</td>\n",
       "      <td>2013</td>\n",
       "      <td>Bangerten</td>\n",
       "      <td>1716</td>\n",
       "      <td>310</td>\n",
       "    </tr>\n",
       "    <tr>\n",
       "      <th>7</th>\n",
       "      <td>310.0</td>\n",
       "      <td>Rapperswil (BE)</td>\n",
       "      <td>310.0</td>\n",
       "      <td>Rapperswil (BE)</td>\n",
       "      <td>01.01.2016</td>\n",
       "      <td>2013</td>\n",
       "      <td>Rapperswil (BE)</td>\n",
       "      <td>1716</td>\n",
       "      <td>310</td>\n",
       "    </tr>\n",
       "    <tr>\n",
       "      <th>8</th>\n",
       "      <td>532.0</td>\n",
       "      <td>Bangerten</td>\n",
       "      <td>310.0</td>\n",
       "      <td>Rapperswil (BE)</td>\n",
       "      <td>01.01.2016</td>\n",
       "      <td>2014</td>\n",
       "      <td>Bangerten</td>\n",
       "      <td>1679</td>\n",
       "      <td>310</td>\n",
       "    </tr>\n",
       "    <tr>\n",
       "      <th>9</th>\n",
       "      <td>310.0</td>\n",
       "      <td>Rapperswil (BE)</td>\n",
       "      <td>310.0</td>\n",
       "      <td>Rapperswil (BE)</td>\n",
       "      <td>01.01.2016</td>\n",
       "      <td>2014</td>\n",
       "      <td>Rapperswil (BE)</td>\n",
       "      <td>1679</td>\n",
       "      <td>310</td>\n",
       "    </tr>\n",
       "    <tr>\n",
       "      <th>10</th>\n",
       "      <td>532.0</td>\n",
       "      <td>Bangerten</td>\n",
       "      <td>310.0</td>\n",
       "      <td>Rapperswil (BE)</td>\n",
       "      <td>01.01.2016</td>\n",
       "      <td>2015</td>\n",
       "      <td>Bangerten</td>\n",
       "      <td>1695</td>\n",
       "      <td>310</td>\n",
       "    </tr>\n",
       "    <tr>\n",
       "      <th>11</th>\n",
       "      <td>310.0</td>\n",
       "      <td>Rapperswil (BE)</td>\n",
       "      <td>310.0</td>\n",
       "      <td>Rapperswil (BE)</td>\n",
       "      <td>01.01.2016</td>\n",
       "      <td>2015</td>\n",
       "      <td>Rapperswil (BE)</td>\n",
       "      <td>1695</td>\n",
       "      <td>310</td>\n",
       "    </tr>\n",
       "  </tbody>\n",
       "</table>\n",
       "</div>"
      ],
      "text/plain": [
       "    pre_id         pre_name  post_id        post_name        date  year  \\\n",
       "6    532.0        Bangerten    310.0  Rapperswil (BE)  01.01.2016  2013   \n",
       "7    310.0  Rapperswil (BE)    310.0  Rapperswil (BE)  01.01.2016  2013   \n",
       "8    532.0        Bangerten    310.0  Rapperswil (BE)  01.01.2016  2014   \n",
       "9    310.0  Rapperswil (BE)    310.0  Rapperswil (BE)  01.01.2016  2014   \n",
       "10   532.0        Bangerten    310.0  Rapperswil (BE)  01.01.2016  2015   \n",
       "11   310.0  Rapperswil (BE)    310.0  Rapperswil (BE)  01.01.2016  2015   \n",
       "\n",
       "            commune  cows   id  \n",
       "6         Bangerten  1716  310  \n",
       "7   Rapperswil (BE)  1716  310  \n",
       "8         Bangerten  1679  310  \n",
       "9   Rapperswil (BE)  1679  310  \n",
       "10        Bangerten  1695  310  \n",
       "11  Rapperswil (BE)  1695  310  "
      ]
     },
     "execution_count": 87,
     "metadata": {},
     "output_type": "execute_result"
    }
   ],
   "source": [
    "fu = pd.merge(f, df, left_on='post_name', right_on='commune', how='right')\n",
    "fu['commune'] = fu['pre_name'].fillna(fu['commune'])\n",
    "\n",
    "fu[fu['id'] == 310]"
   ]
  },
  {
   "cell_type": "code",
   "execution_count": null,
   "metadata": {
    "collapsed": true
   },
   "outputs": [],
   "source": []
  },
  {
   "cell_type": "code",
   "execution_count": 88,
   "metadata": {
    "collapsed": false
   },
   "outputs": [
    {
     "data": {
      "text/html": [
       "<div>\n",
       "<table border=\"1\" class=\"dataframe\">\n",
       "  <thead>\n",
       "    <tr style=\"text-align: right;\">\n",
       "      <th></th>\n",
       "      <th>year</th>\n",
       "      <th>commune</th>\n",
       "      <th>cows</th>\n",
       "      <th>id</th>\n",
       "      <th>compute_ratio_id</th>\n",
       "    </tr>\n",
       "  </thead>\n",
       "  <tbody>\n",
       "    <tr>\n",
       "      <th>0</th>\n",
       "      <td>2013</td>\n",
       "      <td>Kyburg</td>\n",
       "      <td>1573</td>\n",
       "      <td>175</td>\n",
       "      <td>296</td>\n",
       "    </tr>\n",
       "    <tr>\n",
       "      <th>1</th>\n",
       "      <td>2013</td>\n",
       "      <td>Illnau-Effretikon</td>\n",
       "      <td>1573</td>\n",
       "      <td>174</td>\n",
       "      <td>296</td>\n",
       "    </tr>\n",
       "    <tr>\n",
       "      <th>2</th>\n",
       "      <td>2014</td>\n",
       "      <td>Kyburg</td>\n",
       "      <td>1590</td>\n",
       "      <td>175</td>\n",
       "      <td>296</td>\n",
       "    </tr>\n",
       "    <tr>\n",
       "      <th>3</th>\n",
       "      <td>2014</td>\n",
       "      <td>Illnau-Effretikon</td>\n",
       "      <td>1590</td>\n",
       "      <td>174</td>\n",
       "      <td>296</td>\n",
       "    </tr>\n",
       "    <tr>\n",
       "      <th>4</th>\n",
       "      <td>2015</td>\n",
       "      <td>Kyburg</td>\n",
       "      <td>1675</td>\n",
       "      <td>175</td>\n",
       "      <td>296</td>\n",
       "    </tr>\n",
       "  </tbody>\n",
       "</table>\n",
       "</div>"
      ],
      "text/plain": [
       "   year            commune  cows   id  compute_ratio_id\n",
       "0  2013             Kyburg  1573  175               296\n",
       "1  2013  Illnau-Effretikon  1573  174               296\n",
       "2  2014             Kyburg  1590  175               296\n",
       "3  2014  Illnau-Effretikon  1590  174               296\n",
       "4  2015             Kyburg  1675  175               296"
      ]
     },
     "execution_count": 88,
     "metadata": {},
     "output_type": "execute_result"
    }
   ],
   "source": [
    "fu = pd.merge(f, df, left_on='post_name', right_on='commune', how='right')\n",
    "fu[fu.id.duplicated()]\n",
    "fu['commune'] = fu['pre_name'].fillna(fu['commune'])\n",
    "fu['compute_ratio_id'] = fu['id']\n",
    "fu['id'] = fu['pre_id'].fillna(fu['id'])\n",
    "fu['id'] = fu['id'].astype(int)\n",
    "fu['compute_ratio_id'] = fu['compute_ratio_id'].astype(int)\n",
    "fu.drop(['pre_id', 'pre_name', 'post_id', 'post_name', 'date'], axis=1, inplace=True)\n",
    "fu.head()"
   ]
  },
  {
   "cell_type": "code",
   "execution_count": 90,
   "metadata": {
    "collapsed": false
   },
   "outputs": [
    {
     "data": {
      "text/plain": [
       "2329.0"
      ]
     },
     "execution_count": 90,
     "metadata": {},
     "output_type": "execute_result"
    }
   ],
   "source": [
    "fu.shape[0]/3"
   ]
  },
  {
   "cell_type": "code",
   "execution_count": 10,
   "metadata": {
    "collapsed": true
   },
   "outputs": [],
   "source": [
    "# tmp = df[df['year'] == 2015]\n",
    "# # tmp = tmp.drop('year', axis=1)\n",
    "\n",
    "# fu = pd.merge(f, df, left_on='pre_name', right_on='commune', how='outer')\n",
    "# fu['commune'] = fu['post_name'].fillna(fu['commune'])\n",
    "# fu['id'] = fu['post_id'].fillna(fu['id'])\n",
    "# fu['id'] = fu['id'].astype(int)\n",
    "# fu.drop(['pre_id', 'pre_name', 'post_id', 'post_name', 'date'], axis=1, inplace=True)\n",
    "# fu = fu.groupby(['id', 'commune', 'sex', 'nationality', 'age'], as_index=False).sum()"
   ]
  },
  {
   "cell_type": "code",
   "execution_count": 11,
   "metadata": {
    "collapsed": false
   },
   "outputs": [],
   "source": [
    "# def create_2016_data(data):\n",
    "# regex = re.compile(r\"\\d\\d\\.\\d\\d\\.\")\n",
    "# f['date'].replace(to_replace=regex, value='', inplace=True, regex=True)\n",
    "# fu = pd.merge(f, tmp, left_on='post_name', right_on='commune', how='right')\n",
    "# # fu['commune'] = fu['post_name'].fillna(fu['commune'])\n",
    "# fu.drop(['pre_id', 'pre_name', 'post_id', 'post_name', 'date'], axis=1, inplace=True)\n",
    "# fu = fu.groupby(['commune', 'id', 'nationality', 'age'], as_index=False).sum()\n",
    "#     return fu"
   ]
  },
  {
   "cell_type": "code",
   "execution_count": 12,
   "metadata": {
    "collapsed": false
   },
   "outputs": [],
   "source": [
    "# fu[fu.date.astype(float) < fu.year] # commune = pre_name, id = pr_id\n",
    "\n",
    "# #final: compute_ratio_id, id, commune, cows, year\n",
    "# #compute_ratio_id = id of municipality of current name (column 'id')\n",
    "# #id, commune : id of municipality adjusted by the years (pre_id if mun has merged ( date > year), else id)\n",
    "# #year = column year\n",
    "# fu['compute_ratio_id'] = fu['id']\n",
    "# #check if equality is in the right direction\n",
    "# fu['id'] = fu.apply((lambda x: x.pre_id if (float(x.date) > x.year) else x.id ), axis=1 )\n",
    "# fu['commune'] = fu.apply((lambda x: x.pre_name if (float(x.date) > x.year) else x.commune ), axis=1 )"
   ]
  },
  {
   "cell_type": "code",
   "execution_count": 91,
   "metadata": {
    "collapsed": false
   },
   "outputs": [
    {
     "data": {
      "text/plain": [
       "(6987, 5)"
      ]
     },
     "execution_count": 91,
     "metadata": {},
     "output_type": "execute_result"
    }
   ],
   "source": [
    "fu.shape"
   ]
  },
  {
   "cell_type": "code",
   "execution_count": 14,
   "metadata": {
    "collapsed": false
   },
   "outputs": [],
   "source": [
    "# fu = fu.drop(['pre_id', 'pre_name', 'post_id', 'post_name', 'date'], axis=1)"
   ]
  },
  {
   "cell_type": "code",
   "execution_count": 92,
   "metadata": {
    "collapsed": false
   },
   "outputs": [
    {
     "data": {
      "text/html": [
       "<div>\n",
       "<table border=\"1\" class=\"dataframe\">\n",
       "  <thead>\n",
       "    <tr style=\"text-align: right;\">\n",
       "      <th></th>\n",
       "      <th>commune</th>\n",
       "      <th>cows</th>\n",
       "      <th>id</th>\n",
       "      <th>compute_ratio_id</th>\n",
       "    </tr>\n",
       "  </thead>\n",
       "  <tbody>\n",
       "    <tr>\n",
       "      <th>4</th>\n",
       "      <td>Kyburg</td>\n",
       "      <td>1675</td>\n",
       "      <td>175</td>\n",
       "      <td>296</td>\n",
       "    </tr>\n",
       "    <tr>\n",
       "      <th>5</th>\n",
       "      <td>Illnau-Effretikon</td>\n",
       "      <td>1675</td>\n",
       "      <td>174</td>\n",
       "      <td>296</td>\n",
       "    </tr>\n",
       "    <tr>\n",
       "      <th>10</th>\n",
       "      <td>Bangerten</td>\n",
       "      <td>1695</td>\n",
       "      <td>532</td>\n",
       "      <td>310</td>\n",
       "    </tr>\n",
       "    <tr>\n",
       "      <th>11</th>\n",
       "      <td>Rapperswil (BE)</td>\n",
       "      <td>1695</td>\n",
       "      <td>310</td>\n",
       "      <td>310</td>\n",
       "    </tr>\n",
       "    <tr>\n",
       "      <th>18</th>\n",
       "      <td>Niederösch</td>\n",
       "      <td>1016</td>\n",
       "      <td>417</td>\n",
       "      <td>405</td>\n",
       "    </tr>\n",
       "  </tbody>\n",
       "</table>\n",
       "</div>"
      ],
      "text/plain": [
       "              commune  cows   id  compute_ratio_id\n",
       "4              Kyburg  1675  175               296\n",
       "5   Illnau-Effretikon  1675  174               296\n",
       "10          Bangerten  1695  532               310\n",
       "11    Rapperswil (BE)  1695  310               310\n",
       "18         Niederösch  1016  417               405"
      ]
     },
     "execution_count": 92,
     "metadata": {},
     "output_type": "execute_result"
    }
   ],
   "source": [
    "# fu['id'] = fu['id'].astype(int)\n",
    "for year in range (2013, 2017):    \n",
    "    #filter out by year\n",
    "    if(year == 2016):\n",
    "        tmp = fu[fu['year'] == 2015]\n",
    "        tmp = tmp.drop('year', axis=1)\n",
    "    else:\n",
    "        tmp = fu[fu['year'] == year]\n",
    "        tmp = tmp.drop('year', axis=1)\n",
    "    tmp.to_csv('municipalities/%d/data_cows.csv' % year, index=False)\n",
    "tmp.head()"
   ]
  },
  {
   "cell_type": "code",
   "execution_count": 93,
   "metadata": {
    "collapsed": false
   },
   "outputs": [
    {
     "data": {
      "text/html": [
       "<div>\n",
       "<table border=\"1\" class=\"dataframe\">\n",
       "  <thead>\n",
       "    <tr style=\"text-align: right;\">\n",
       "      <th></th>\n",
       "      <th>commune</th>\n",
       "      <th>cows</th>\n",
       "      <th>id</th>\n",
       "      <th>compute_ratio_id</th>\n",
       "    </tr>\n",
       "  </thead>\n",
       "  <tbody>\n",
       "  </tbody>\n",
       "</table>\n",
       "</div>"
      ],
      "text/plain": [
       "Empty DataFrame\n",
       "Columns: [commune, cows, id, compute_ratio_id]\n",
       "Index: []"
      ]
     },
     "execution_count": 93,
     "metadata": {},
     "output_type": "execute_result"
    }
   ],
   "source": [
    "tmp.shape\n",
    "tmp[tmp.isnull().any(1)]"
   ]
  },
  {
   "cell_type": "code",
   "execution_count": 94,
   "metadata": {
    "collapsed": true
   },
   "outputs": [],
   "source": [
    "mun = pd.read_csv('municipalities/2016/data_commune.csv')"
   ]
  },
  {
   "cell_type": "code",
   "execution_count": 95,
   "metadata": {
    "collapsed": false
   },
   "outputs": [
    {
     "data": {
      "text/plain": [
       "(2324, 9)"
      ]
     },
     "execution_count": 95,
     "metadata": {},
     "output_type": "execute_result"
    }
   ],
   "source": [
    "mun.shape"
   ]
  },
  {
   "cell_type": "code",
   "execution_count": 96,
   "metadata": {
    "collapsed": false
   },
   "outputs": [],
   "source": [
    "foo = pd.merge(tmp, mun, left_on='id', right_on='id', how='outer')\n"
   ]
  },
  {
   "cell_type": "code",
   "execution_count": 97,
   "metadata": {
    "collapsed": false
   },
   "outputs": [
    {
     "data": {
      "text/plain": [
       "2324"
      ]
     },
     "execution_count": 97,
     "metadata": {},
     "output_type": "execute_result"
    }
   ],
   "source": [
    "len(foo.id.unique())"
   ]
  },
  {
   "cell_type": "code",
   "execution_count": 98,
   "metadata": {
    "collapsed": false
   },
   "outputs": [
    {
     "data": {
      "text/html": [
       "<div>\n",
       "<table border=\"1\" class=\"dataframe\">\n",
       "  <thead>\n",
       "    <tr style=\"text-align: right;\">\n",
       "      <th></th>\n",
       "      <th>commune_x</th>\n",
       "      <th>cows</th>\n",
       "      <th>id</th>\n",
       "      <th>compute_ratio_id</th>\n",
       "      <th>commune_y</th>\n",
       "      <th>total_inhabitants</th>\n",
       "      <th>percentage_18</th>\n",
       "      <th>percentage_40</th>\n",
       "      <th>percentage_65</th>\n",
       "      <th>percentage_100</th>\n",
       "      <th>percentage_men</th>\n",
       "      <th>percentage_swiss</th>\n",
       "    </tr>\n",
       "  </thead>\n",
       "  <tbody>\n",
       "    <tr>\n",
       "      <th>45</th>\n",
       "      <td>Sobrio</td>\n",
       "      <td>25</td>\n",
       "      <td>5081</td>\n",
       "      <td>5081</td>\n",
       "      <td>Sobrio</td>\n",
       "      <td>77</td>\n",
       "      <td>0.16</td>\n",
       "      <td>0.13</td>\n",
       "      <td>0.43</td>\n",
       "      <td>0.29</td>\n",
       "      <td>0.49</td>\n",
       "      <td>0.94</td>\n",
       "    </tr>\n",
       "    <tr>\n",
       "      <th>48</th>\n",
       "      <td>Vergeletto</td>\n",
       "      <td>0</td>\n",
       "      <td>5132</td>\n",
       "      <td>5132</td>\n",
       "      <td>Vergeletto</td>\n",
       "      <td>64</td>\n",
       "      <td>0.00</td>\n",
       "      <td>0.16</td>\n",
       "      <td>0.38</td>\n",
       "      <td>0.47</td>\n",
       "      <td>0.52</td>\n",
       "      <td>0.91</td>\n",
       "    </tr>\n",
       "    <tr>\n",
       "      <th>50</th>\n",
       "      <td>Gresso</td>\n",
       "      <td>0</td>\n",
       "      <td>5109</td>\n",
       "      <td>5109</td>\n",
       "      <td>Gresso</td>\n",
       "      <td>38</td>\n",
       "      <td>0.13</td>\n",
       "      <td>0.08</td>\n",
       "      <td>0.39</td>\n",
       "      <td>0.39</td>\n",
       "      <td>0.58</td>\n",
       "      <td>1.00</td>\n",
       "    </tr>\n",
       "    <tr>\n",
       "      <th>52</th>\n",
       "      <td>Mosogno</td>\n",
       "      <td>2</td>\n",
       "      <td>5119</td>\n",
       "      <td>5119</td>\n",
       "      <td>Mosogno</td>\n",
       "      <td>52</td>\n",
       "      <td>0.12</td>\n",
       "      <td>0.12</td>\n",
       "      <td>0.52</td>\n",
       "      <td>0.25</td>\n",
       "      <td>0.52</td>\n",
       "      <td>0.92</td>\n",
       "    </tr>\n",
       "    <tr>\n",
       "      <th>54</th>\n",
       "      <td>Isorno</td>\n",
       "      <td>0</td>\n",
       "      <td>5137</td>\n",
       "      <td>5137</td>\n",
       "      <td>Isorno</td>\n",
       "      <td>302</td>\n",
       "      <td>0.13</td>\n",
       "      <td>0.17</td>\n",
       "      <td>0.46</td>\n",
       "      <td>0.25</td>\n",
       "      <td>0.52</td>\n",
       "      <td>0.91</td>\n",
       "    </tr>\n",
       "  </tbody>\n",
       "</table>\n",
       "</div>"
      ],
      "text/plain": [
       "     commune_x  cows    id  compute_ratio_id   commune_y  total_inhabitants  \\\n",
       "45      Sobrio    25  5081              5081      Sobrio                 77   \n",
       "48  Vergeletto     0  5132              5132  Vergeletto                 64   \n",
       "50      Gresso     0  5109              5109      Gresso                 38   \n",
       "52     Mosogno     2  5119              5119     Mosogno                 52   \n",
       "54      Isorno     0  5137              5137      Isorno                302   \n",
       "\n",
       "    percentage_18  percentage_40  percentage_65  percentage_100  \\\n",
       "45           0.16           0.13           0.43            0.29   \n",
       "48           0.00           0.16           0.38            0.47   \n",
       "50           0.13           0.08           0.39            0.39   \n",
       "52           0.12           0.12           0.52            0.25   \n",
       "54           0.13           0.17           0.46            0.25   \n",
       "\n",
       "    percentage_men  percentage_swiss  \n",
       "45            0.49              0.94  \n",
       "48            0.52              0.91  \n",
       "50            0.58              1.00  \n",
       "52            0.52              0.92  \n",
       "54            0.52              0.91  "
      ]
     },
     "execution_count": 98,
     "metadata": {},
     "output_type": "execute_result"
    }
   ],
   "source": [
    "foo[foo.id.duplicated()]"
   ]
  },
  {
   "cell_type": "code",
   "execution_count": 100,
   "metadata": {
    "collapsed": false
   },
   "outputs": [
    {
     "data": {
      "text/html": [
       "<div>\n",
       "<table border=\"1\" class=\"dataframe\">\n",
       "  <thead>\n",
       "    <tr style=\"text-align: right;\">\n",
       "      <th></th>\n",
       "      <th>commune_x</th>\n",
       "      <th>cows</th>\n",
       "      <th>id</th>\n",
       "      <th>compute_ratio_id</th>\n",
       "      <th>commune_y</th>\n",
       "      <th>total_inhabitants</th>\n",
       "      <th>percentage_18</th>\n",
       "      <th>percentage_40</th>\n",
       "      <th>percentage_65</th>\n",
       "      <th>percentage_100</th>\n",
       "      <th>percentage_men</th>\n",
       "      <th>percentage_swiss</th>\n",
       "    </tr>\n",
       "  </thead>\n",
       "  <tbody>\n",
       "    <tr>\n",
       "      <th>44</th>\n",
       "      <td>Sobrio</td>\n",
       "      <td>496</td>\n",
       "      <td>5081</td>\n",
       "      <td>5072</td>\n",
       "      <td>Sobrio</td>\n",
       "      <td>77</td>\n",
       "      <td>0.16</td>\n",
       "      <td>0.13</td>\n",
       "      <td>0.43</td>\n",
       "      <td>0.29</td>\n",
       "      <td>0.49</td>\n",
       "      <td>0.94</td>\n",
       "    </tr>\n",
       "    <tr>\n",
       "      <th>45</th>\n",
       "      <td>Sobrio</td>\n",
       "      <td>25</td>\n",
       "      <td>5081</td>\n",
       "      <td>5081</td>\n",
       "      <td>Sobrio</td>\n",
       "      <td>77</td>\n",
       "      <td>0.16</td>\n",
       "      <td>0.13</td>\n",
       "      <td>0.43</td>\n",
       "      <td>0.29</td>\n",
       "      <td>0.49</td>\n",
       "      <td>0.94</td>\n",
       "    </tr>\n",
       "  </tbody>\n",
       "</table>\n",
       "</div>"
      ],
      "text/plain": [
       "   commune_x  cows    id  compute_ratio_id commune_y  total_inhabitants  \\\n",
       "44    Sobrio   496  5081              5072    Sobrio                 77   \n",
       "45    Sobrio    25  5081              5081    Sobrio                 77   \n",
       "\n",
       "    percentage_18  percentage_40  percentage_65  percentage_100  \\\n",
       "44           0.16           0.13           0.43            0.29   \n",
       "45           0.16           0.13           0.43            0.29   \n",
       "\n",
       "    percentage_men  percentage_swiss  \n",
       "44            0.49              0.94  \n",
       "45            0.49              0.94  "
      ]
     },
     "execution_count": 100,
     "metadata": {},
     "output_type": "execute_result"
    }
   ],
   "source": [
    "foo[foo.id == 5081]"
   ]
  },
  {
   "cell_type": "code",
   "execution_count": null,
   "metadata": {
    "collapsed": true
   },
   "outputs": [],
   "source": []
  }
 ],
 "metadata": {
  "anaconda-cloud": {},
  "kernelspec": {
   "display_name": "Python [conda root]",
   "language": "python",
   "name": "conda-root-py"
  },
  "language_info": {
   "codemirror_mode": {
    "name": "ipython",
    "version": 3
   },
   "file_extension": ".py",
   "mimetype": "text/x-python",
   "name": "python",
   "nbconvert_exporter": "python",
   "pygments_lexer": "ipython3",
   "version": "3.5.2"
  }
 },
 "nbformat": 4,
 "nbformat_minor": 0
}
