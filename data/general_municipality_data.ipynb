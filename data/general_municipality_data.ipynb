{
 "cells": [
  {
   "cell_type": "code",
   "execution_count": 1,
   "metadata": {
    "collapsed": true
   },
   "outputs": [],
   "source": [
    "# imports\n",
    "import pandas as pd\n",
    "import numpy as np\n",
    "import seaborn as sns\n",
    "import matplotlib.pyplot as plt\n",
    "from matplotlib.pyplot import show\n",
    "import re"
   ]
  },
  {
   "cell_type": "code",
   "execution_count": 2,
   "metadata": {
    "collapsed": false
   },
   "outputs": [],
   "source": [
    "df = pd.read_csv('data_to_be_processed/population_cleaned.csv')"
   ]
  },
  {
   "cell_type": "code",
   "execution_count": 3,
   "metadata": {
    "collapsed": false
   },
   "outputs": [
    {
     "data": {
      "text/html": [
       "<div>\n",
       "<table border=\"1\" class=\"dataframe\">\n",
       "  <thead>\n",
       "    <tr style=\"text-align: right;\">\n",
       "      <th></th>\n",
       "      <th>age</th>\n",
       "      <th>nationality</th>\n",
       "      <th>sex</th>\n",
       "      <th>commune</th>\n",
       "      <th>year</th>\n",
       "      <th>value</th>\n",
       "      <th>id</th>\n",
       "    </tr>\n",
       "  </thead>\n",
       "  <tbody>\n",
       "    <tr>\n",
       "      <th>0</th>\n",
       "      <td>0</td>\n",
       "      <td>S</td>\n",
       "      <td>M</td>\n",
       "      <td>Aeugst am Albis</td>\n",
       "      <td>2010</td>\n",
       "      <td>8</td>\n",
       "      <td>1</td>\n",
       "    </tr>\n",
       "    <tr>\n",
       "      <th>1</th>\n",
       "      <td>1</td>\n",
       "      <td>S</td>\n",
       "      <td>M</td>\n",
       "      <td>Aeugst am Albis</td>\n",
       "      <td>2010</td>\n",
       "      <td>9</td>\n",
       "      <td>1</td>\n",
       "    </tr>\n",
       "    <tr>\n",
       "      <th>2</th>\n",
       "      <td>2</td>\n",
       "      <td>S</td>\n",
       "      <td>M</td>\n",
       "      <td>Aeugst am Albis</td>\n",
       "      <td>2010</td>\n",
       "      <td>7</td>\n",
       "      <td>1</td>\n",
       "    </tr>\n",
       "    <tr>\n",
       "      <th>3</th>\n",
       "      <td>3</td>\n",
       "      <td>S</td>\n",
       "      <td>M</td>\n",
       "      <td>Aeugst am Albis</td>\n",
       "      <td>2010</td>\n",
       "      <td>13</td>\n",
       "      <td>1</td>\n",
       "    </tr>\n",
       "    <tr>\n",
       "      <th>4</th>\n",
       "      <td>4</td>\n",
       "      <td>S</td>\n",
       "      <td>M</td>\n",
       "      <td>Aeugst am Albis</td>\n",
       "      <td>2010</td>\n",
       "      <td>5</td>\n",
       "      <td>1</td>\n",
       "    </tr>\n",
       "  </tbody>\n",
       "</table>\n",
       "</div>"
      ],
      "text/plain": [
       "   age nationality sex          commune  year  value  id\n",
       "0    0           S   M  Aeugst am Albis  2010      8   1\n",
       "1    1           S   M  Aeugst am Albis  2010      9   1\n",
       "2    2           S   M  Aeugst am Albis  2010      7   1\n",
       "3    3           S   M  Aeugst am Albis  2010     13   1\n",
       "4    4           S   M  Aeugst am Albis  2010      5   1"
      ]
     },
     "execution_count": 3,
     "metadata": {},
     "output_type": "execute_result"
    }
   ],
   "source": [
    "df.head()"
   ]
  },
  {
   "cell_type": "code",
   "execution_count": 4,
   "metadata": {
    "collapsed": false
   },
   "outputs": [],
   "source": [
    "#group the ages by categories :{[0, 18), [18, 40), [40, 65), [65, 100)}\n",
    "\n",
    "d = pd.DataFrame(columns=[ 'commune', 'sex', 'year', 'nationality', 'age', 'value'])\n",
    "for l, u in [(0, 18), (18, 40), (40, 65), (65, 100)]:\n",
    "    tmp = df[df['age'] >= l]\n",
    "    tmp = tmp[tmp['age'] < u]\n",
    "    tmp = tmp.groupby(['id', 'commune', 'sex', 'year', 'nationality'], as_index=False).sum()\n",
    "    tmp['age'] = int(u)\n",
    "    d = pd.concat([d, tmp])\n",
    "for s in ['id', 'year', 'age', 'value']:\n",
    "    d[s] = d[s].astype(int)\n",
    "df = d"
   ]
  },
  {
   "cell_type": "code",
   "execution_count": 5,
   "metadata": {
    "collapsed": false
   },
   "outputs": [
    {
     "data": {
      "text/html": [
       "<div>\n",
       "<table border=\"1\" class=\"dataframe\">\n",
       "  <thead>\n",
       "    <tr style=\"text-align: right;\">\n",
       "      <th></th>\n",
       "      <th>age</th>\n",
       "      <th>commune</th>\n",
       "      <th>id</th>\n",
       "      <th>nationality</th>\n",
       "      <th>sex</th>\n",
       "      <th>value</th>\n",
       "      <th>year</th>\n",
       "    </tr>\n",
       "  </thead>\n",
       "  <tbody>\n",
       "    <tr>\n",
       "      <th>0</th>\n",
       "      <td>18</td>\n",
       "      <td>Aeugst am Albis</td>\n",
       "      <td>1</td>\n",
       "      <td>A</td>\n",
       "      <td>F</td>\n",
       "      <td>26</td>\n",
       "      <td>2010</td>\n",
       "    </tr>\n",
       "    <tr>\n",
       "      <th>1</th>\n",
       "      <td>18</td>\n",
       "      <td>Aeugst am Albis</td>\n",
       "      <td>1</td>\n",
       "      <td>S</td>\n",
       "      <td>F</td>\n",
       "      <td>144</td>\n",
       "      <td>2010</td>\n",
       "    </tr>\n",
       "    <tr>\n",
       "      <th>2</th>\n",
       "      <td>18</td>\n",
       "      <td>Aeugst am Albis</td>\n",
       "      <td>1</td>\n",
       "      <td>A</td>\n",
       "      <td>F</td>\n",
       "      <td>29</td>\n",
       "      <td>2011</td>\n",
       "    </tr>\n",
       "    <tr>\n",
       "      <th>3</th>\n",
       "      <td>18</td>\n",
       "      <td>Aeugst am Albis</td>\n",
       "      <td>1</td>\n",
       "      <td>S</td>\n",
       "      <td>F</td>\n",
       "      <td>150</td>\n",
       "      <td>2011</td>\n",
       "    </tr>\n",
       "    <tr>\n",
       "      <th>4</th>\n",
       "      <td>18</td>\n",
       "      <td>Aeugst am Albis</td>\n",
       "      <td>1</td>\n",
       "      <td>A</td>\n",
       "      <td>F</td>\n",
       "      <td>33</td>\n",
       "      <td>2012</td>\n",
       "    </tr>\n",
       "  </tbody>\n",
       "</table>\n",
       "</div>"
      ],
      "text/plain": [
       "   age          commune  id nationality sex  value  year\n",
       "0   18  Aeugst am Albis   1           A   F     26  2010\n",
       "1   18  Aeugst am Albis   1           S   F    144  2010\n",
       "2   18  Aeugst am Albis   1           A   F     29  2011\n",
       "3   18  Aeugst am Albis   1           S   F    150  2011\n",
       "4   18  Aeugst am Albis   1           A   F     33  2012"
      ]
     },
     "execution_count": 5,
     "metadata": {},
     "output_type": "execute_result"
    }
   ],
   "source": [
    "df.head()"
   ]
  },
  {
   "cell_type": "markdown",
   "metadata": {},
   "source": [
    "no data are available for 2016. We have therefore decided to keep the data from 2015 and sum the data of the municipalities that have merged in beginning of 2016"
   ]
  },
  {
   "cell_type": "code",
   "execution_count": 6,
   "metadata": {
    "collapsed": true
   },
   "outputs": [],
   "source": [
    "def create_2016_data(data):\n",
    "    f = pd.read_csv(\"data_to_be_processed/fusion_mappings.csv\")\n",
    "    f = f[f.date.str.contains('2016')]\n",
    "    f['post_id'] = f['post_id'].astype(int)\n",
    "    #if use again check if outer is the rigth join\n",
    "    fu = pd.merge(f, data, left_on='pre_name', right_on='commune', how='outer')\n",
    "    fu['commune'] = fu['post_name'].fillna(fu['commune'])\n",
    "    fu['id'] = fu['post_id'].fillna(fu['id'])\n",
    "    fu['id'] = fu['id'].astype(int)\n",
    "    fu.drop(['pre_id', 'pre_name', 'post_id', 'post_name', 'date'], axis=1, inplace=True)\n",
    "    fu = fu.groupby(['id', 'commune', 'sex', 'nationality', 'age'], as_index=False).sum()\n",
    "    return fu"
   ]
  },
  {
   "cell_type": "code",
   "execution_count": 7,
   "metadata": {
    "collapsed": false
   },
   "outputs": [],
   "source": [
    "for year in range (2013, 2017):    \n",
    "    #filter out by year\n",
    "    if(year == 2016):\n",
    "        tmp = df[df['year'] == 2015]\n",
    "        tmp = tmp.drop('year', axis=1)\n",
    "#         tmp = create_2016_data(tmp)\n",
    "    else:\n",
    "        tmp = df[df['year'] == year]\n",
    "        tmp = tmp.drop('year', axis=1)\n",
    "        \n",
    "    #compute total population by municipality\n",
    "    total = tmp.groupby(['id', 'commune']).sum()\n",
    "    total = total.drop('age', axis=1)\n",
    "    total.columns = ['total_inhabitants']\n",
    "    \n",
    "    #for each age category compute the percentage of inhabitants in it and add the row to total\n",
    "    for i in [18, 40, 65, 100]:\n",
    "        age = tmp[tmp['age'] == i].groupby(['id', 'commune']).sum()\n",
    "        age = age.drop('age', axis=1)\n",
    "        age.columns = ['percentage_%d' %i]\n",
    "        total = pd.merge(total, age, left_index=True, right_index=True)\n",
    "        total['percentage_%d' %i] = total['percentage_%d' %i] / total['total_inhabitants']\n",
    "    \n",
    "    #compute percentage of men in each municipality\n",
    "    men = tmp[tmp.sex == 'M'].groupby(['id', 'commune']).sum()\n",
    "    men = men.drop('age', axis=1)\n",
    "    men.columns = ['percentage_men']\n",
    "    total = pd.merge(total, men, left_index=True, right_index=True)\n",
    "    total['percentage_men'] =  total['percentage_men'] / total['total_inhabitants']\n",
    "    \n",
    "    #compute percentage of swiss in each municipality\n",
    "    swiss = tmp[tmp.nationality == 'S'].groupby(['id', 'commune']).sum()\n",
    "    swiss = swiss.drop('age', axis=1)\n",
    "    swiss.columns = ['percentage_swiss']\n",
    "    total = pd.merge(total, swiss, left_index=True, right_index=True)\n",
    "    total['percentage_swiss'] = total['percentage_swiss'] / total['total_inhabitants']\n",
    "    total = total.reset_index()\n",
    "\n",
    "    #check that we have no empty values\n",
    "    inds = total[pd.isnull(total).any(1)]\n",
    "    assert(inds.empty)\n",
    "    \n",
    "    #round percentages to 2 decimals\n",
    "    total = total.round(2)\n",
    "    total.to_csv('municipalities/%d/data_commune.csv' % year, index=False)"
   ]
  },
  {
   "cell_type": "code",
   "execution_count": 8,
   "metadata": {
    "collapsed": false
   },
   "outputs": [
    {
     "data": {
      "text/html": [
       "<div>\n",
       "<table border=\"1\" class=\"dataframe\">\n",
       "  <thead>\n",
       "    <tr style=\"text-align: right;\">\n",
       "      <th></th>\n",
       "      <th>id</th>\n",
       "      <th>commune</th>\n",
       "      <th>total_inhabitants</th>\n",
       "      <th>percentage_18</th>\n",
       "      <th>percentage_40</th>\n",
       "      <th>percentage_65</th>\n",
       "      <th>percentage_100</th>\n",
       "      <th>percentage_men</th>\n",
       "      <th>percentage_swiss</th>\n",
       "    </tr>\n",
       "  </thead>\n",
       "  <tbody>\n",
       "    <tr>\n",
       "      <th>0</th>\n",
       "      <td>1</td>\n",
       "      <td>Aeugst am Albis</td>\n",
       "      <td>1981</td>\n",
       "      <td>0.19</td>\n",
       "      <td>0.23</td>\n",
       "      <td>0.42</td>\n",
       "      <td>0.16</td>\n",
       "      <td>0.50</td>\n",
       "      <td>0.87</td>\n",
       "    </tr>\n",
       "    <tr>\n",
       "      <th>1</th>\n",
       "      <td>2</td>\n",
       "      <td>Affoltern am Albis</td>\n",
       "      <td>11707</td>\n",
       "      <td>0.18</td>\n",
       "      <td>0.30</td>\n",
       "      <td>0.35</td>\n",
       "      <td>0.17</td>\n",
       "      <td>0.50</td>\n",
       "      <td>0.73</td>\n",
       "    </tr>\n",
       "    <tr>\n",
       "      <th>2</th>\n",
       "      <td>3</td>\n",
       "      <td>Bonstetten</td>\n",
       "      <td>5326</td>\n",
       "      <td>0.22</td>\n",
       "      <td>0.26</td>\n",
       "      <td>0.37</td>\n",
       "      <td>0.15</td>\n",
       "      <td>0.49</td>\n",
       "      <td>0.86</td>\n",
       "    </tr>\n",
       "    <tr>\n",
       "      <th>3</th>\n",
       "      <td>4</td>\n",
       "      <td>Hausen am Albis</td>\n",
       "      <td>3477</td>\n",
       "      <td>0.20</td>\n",
       "      <td>0.23</td>\n",
       "      <td>0.40</td>\n",
       "      <td>0.17</td>\n",
       "      <td>0.49</td>\n",
       "      <td>0.86</td>\n",
       "    </tr>\n",
       "    <tr>\n",
       "      <th>4</th>\n",
       "      <td>5</td>\n",
       "      <td>Hedingen</td>\n",
       "      <td>3659</td>\n",
       "      <td>0.21</td>\n",
       "      <td>0.25</td>\n",
       "      <td>0.39</td>\n",
       "      <td>0.15</td>\n",
       "      <td>0.50</td>\n",
       "      <td>0.85</td>\n",
       "    </tr>\n",
       "  </tbody>\n",
       "</table>\n",
       "</div>"
      ],
      "text/plain": [
       "   id             commune  total_inhabitants  percentage_18  percentage_40  \\\n",
       "0   1     Aeugst am Albis               1981           0.19           0.23   \n",
       "1   2  Affoltern am Albis              11707           0.18           0.30   \n",
       "2   3          Bonstetten               5326           0.22           0.26   \n",
       "3   4     Hausen am Albis               3477           0.20           0.23   \n",
       "4   5            Hedingen               3659           0.21           0.25   \n",
       "\n",
       "   percentage_65  percentage_100  percentage_men  percentage_swiss  \n",
       "0           0.42            0.16            0.50              0.87  \n",
       "1           0.35            0.17            0.50              0.73  \n",
       "2           0.37            0.15            0.49              0.86  \n",
       "3           0.40            0.17            0.49              0.86  \n",
       "4           0.39            0.15            0.50              0.85  "
      ]
     },
     "execution_count": 8,
     "metadata": {},
     "output_type": "execute_result"
    }
   ],
   "source": [
    "#data for 2016\n",
    "total.head()"
   ]
  },
  {
   "cell_type": "code",
   "execution_count": null,
   "metadata": {
    "collapsed": true
   },
   "outputs": [],
   "source": []
  }
 ],
 "metadata": {
  "anaconda-cloud": {},
  "kernelspec": {
   "display_name": "Python [Root]",
   "language": "python",
   "name": "Python [Root]"
  },
  "language_info": {
   "codemirror_mode": {
    "name": "ipython",
    "version": 3
   },
   "file_extension": ".py",
   "mimetype": "text/x-python",
   "name": "python",
   "nbconvert_exporter": "python",
   "pygments_lexer": "ipython3",
   "version": "3.5.2"
  }
 },
 "nbformat": 4,
 "nbformat_minor": 0
}
