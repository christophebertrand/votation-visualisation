{
 "cells": [
  {
   "cell_type": "markdown",
   "metadata": {},
   "source": [
    "Data from https://www.pxweb.bfs.admin.ch/default.aspx"
   ]
  },
  {
   "cell_type": "code",
   "execution_count": 1,
   "metadata": {
    "collapsed": true
   },
   "outputs": [],
   "source": [
    "# imports\n",
    "import pandas as pd\n",
    "import numpy as np\n",
    "import seaborn as sns\n",
    "import matplotlib.pyplot as plt\n",
    "from matplotlib.pyplot import show\n",
    "\n",
    "%matplotlib inline\n",
    "sns.set_context('notebook')\n",
    "pd.options.mode.chained_assignment = None  # default='warn'\n",
    "pd.set_option('display.max_columns', 500) # show more columns\n",
    "nan = np.nan # store numpy.nan in 'nan'"
   ]
  },
  {
   "cell_type": "code",
   "execution_count": 2,
   "metadata": {
    "collapsed": false
   },
   "outputs": [
    {
     "data": {
      "text/plain": [
       "(2560, 2)"
      ]
     },
     "execution_count": 2,
     "metadata": {},
     "output_type": "execute_result"
    }
   ],
   "source": [
    "raw_data = pd.read_csv('area_utf8_raw.csv', sep=';', header=1)\n",
    "raw_data.shape"
   ]
  },
  {
   "cell_type": "code",
   "execution_count": 3,
   "metadata": {
    "collapsed": false
   },
   "outputs": [],
   "source": [
    "# rename the columns\n",
    "d = {'Fläche - Total 2004/09':'area', 'Bezirk (>>) / Gemeinde (......)': 'commune_name'}\n",
    "raw_data.rename(columns=d, inplace=True)"
   ]
  },
  {
   "cell_type": "code",
   "execution_count": 4,
   "metadata": {
    "collapsed": false
   },
   "outputs": [
    {
     "data": {
      "text/html": [
       "<div>\n",
       "<table border=\"1\" class=\"dataframe\">\n",
       "  <thead>\n",
       "    <tr style=\"text-align: right;\">\n",
       "      <th></th>\n",
       "      <th>commune_name</th>\n",
       "      <th>area</th>\n",
       "    </tr>\n",
       "  </thead>\n",
       "  <tbody>\n",
       "    <tr>\n",
       "      <th>0</th>\n",
       "      <td>&gt;&gt; Affoltern</td>\n",
       "      <td>11308</td>\n",
       "    </tr>\n",
       "    <tr>\n",
       "      <th>1</th>\n",
       "      <td>......Aeugst am Albis</td>\n",
       "      <td>787</td>\n",
       "    </tr>\n",
       "    <tr>\n",
       "      <th>2</th>\n",
       "      <td>......Affoltern am Albis</td>\n",
       "      <td>1060</td>\n",
       "    </tr>\n",
       "    <tr>\n",
       "      <th>3</th>\n",
       "      <td>......Bonstetten</td>\n",
       "      <td>745</td>\n",
       "    </tr>\n",
       "    <tr>\n",
       "      <th>4</th>\n",
       "      <td>......Hausen am Albis</td>\n",
       "      <td>1368</td>\n",
       "    </tr>\n",
       "  </tbody>\n",
       "</table>\n",
       "</div>"
      ],
      "text/plain": [
       "               commune_name   area\n",
       "0              >> Affoltern  11308\n",
       "1     ......Aeugst am Albis    787\n",
       "2  ......Affoltern am Albis   1060\n",
       "3          ......Bonstetten    745\n",
       "4     ......Hausen am Albis   1368"
      ]
     },
     "execution_count": 4,
     "metadata": {},
     "output_type": "execute_result"
    }
   ],
   "source": [
    "raw_data.head()"
   ]
  },
  {
   "cell_type": "code",
   "execution_count": 5,
   "metadata": {
    "collapsed": false
   },
   "outputs": [],
   "source": [
    "# remove cantons and bezirk and remove '......' from names\n",
    "def _remove_dots(row):\n",
    "    return row['commune_name'].replace('......', '')\n",
    "def _keep_only_communes(df):\n",
    "    tmp = df[df['commune_name'].str.find('......') >= 0]\n",
    "    tmp['commune_name'] = tmp.apply(_remove_dots, axis=1)\n",
    "    return tmp\n"
   ]
  },
  {
   "cell_type": "code",
   "execution_count": 6,
   "metadata": {
    "collapsed": false
   },
   "outputs": [
    {
     "data": {
      "text/plain": [
       "(2412, 2)"
      ]
     },
     "execution_count": 6,
     "metadata": {},
     "output_type": "execute_result"
    }
   ],
   "source": [
    "data = _keep_only_communes(raw_data)\n",
    "data.shape"
   ]
  },
  {
   "cell_type": "code",
   "execution_count": 7,
   "metadata": {
    "collapsed": false
   },
   "outputs": [
    {
     "data": {
      "text/plain": [
       "(2324, 2)"
      ]
     },
     "execution_count": 7,
     "metadata": {},
     "output_type": "execute_result"
    }
   ],
   "source": [
    "ids_commune = pd.read_csv(\"../../municipalities/2015/id_commune_2015.csv\")\n",
    "ids_commune.shape"
   ]
  },
  {
   "cell_type": "code",
   "execution_count": 8,
   "metadata": {
    "collapsed": true
   },
   "outputs": [],
   "source": [
    "# make fusions\n",
    "fusions = pd.read_csv('../fusion_mappings.csv', parse_dates=[4])\n",
    "def _get_fusions(f, from_date, to_date):\n",
    "    \"\"\"\n",
    "    returns a dataframe containig only the rows where f['date'] \n",
    "    is between the two given dates (including from_date but EXCLUDING to_date)\n",
    "    \n",
    "    dates must be either parsable strings or numpy.datetime64\n",
    "    Example: _get_fusions(fusions, '2014-01-01', '2016-01-01')\n",
    "    \"\"\"\n",
    "    f1 = f[f['date'] >= np.datetime64(from_date)]\n",
    "    f2 = f1[f1['date'] < np.datetime64(to_date)]\n",
    "    return f2\n",
    "\n",
    "def _apply_fusion_year(df, year):\n",
    "    fs = _get_fusions(fusions, '{}-01-01'.format(year), '{}-01-01'.format(year+1))\n",
    "    df_cpy = df.copy()\n",
    "    assert fs['pre_name'].is_unique\n",
    "    for index, f in fs.iterrows():\n",
    "        df_cpy.replace(to_replace=f['pre_name'], value=f['post_name'], inplace=True)\n",
    "    return df_cpy"
   ]
  },
  {
   "cell_type": "code",
   "execution_count": 9,
   "metadata": {
    "collapsed": false
   },
   "outputs": [
    {
     "data": {
      "text/plain": [
       "(2412, 2)"
      ]
     },
     "execution_count": 9,
     "metadata": {},
     "output_type": "execute_result"
    }
   ],
   "source": [
    "res = {2012: data}\n",
    "for y in range(2013, 2016):\n",
    "    res[y] = _apply_fusion_year(res[y-1], y)\n",
    "del res[2012]\n",
    "fusioned_data = res[2015]\n",
    "fusioned_data.shape"
   ]
  },
  {
   "cell_type": "code",
   "execution_count": 10,
   "metadata": {
    "collapsed": false
   },
   "outputs": [],
   "source": [
    "grouped = fusioned_data.groupby(by='commune_name', as_index=False).sum()"
   ]
  },
  {
   "cell_type": "code",
   "execution_count": 11,
   "metadata": {
    "collapsed": false
   },
   "outputs": [
    {
     "data": {
      "text/plain": [
       "(2322, 4)"
      ]
     },
     "execution_count": 11,
     "metadata": {},
     "output_type": "execute_result"
    }
   ],
   "source": [
    "merged = grouped.merge(ids_commune, left_on='commune_name', right_on='commune')\n",
    "merged.shape"
   ]
  },
  {
   "cell_type": "code",
   "execution_count": 12,
   "metadata": {
    "collapsed": false
   },
   "outputs": [
    {
     "data": {
      "text/html": [
       "<div>\n",
       "<table border=\"1\" class=\"dataframe\">\n",
       "  <thead>\n",
       "    <tr style=\"text-align: right;\">\n",
       "      <th></th>\n",
       "      <th>commune_name</th>\n",
       "      <th>area</th>\n",
       "      <th>id</th>\n",
       "      <th>commune</th>\n",
       "    </tr>\n",
       "  </thead>\n",
       "  <tbody>\n",
       "    <tr>\n",
       "      <th>0</th>\n",
       "      <td>Aadorf</td>\n",
       "      <td>1990</td>\n",
       "      <td>4551</td>\n",
       "      <td>Aadorf</td>\n",
       "    </tr>\n",
       "    <tr>\n",
       "      <th>1</th>\n",
       "      <td>Aarau</td>\n",
       "      <td>1233</td>\n",
       "      <td>4001</td>\n",
       "      <td>Aarau</td>\n",
       "    </tr>\n",
       "    <tr>\n",
       "      <th>2</th>\n",
       "      <td>Aarberg</td>\n",
       "      <td>792</td>\n",
       "      <td>301</td>\n",
       "      <td>Aarberg</td>\n",
       "    </tr>\n",
       "    <tr>\n",
       "      <th>3</th>\n",
       "      <td>Aarburg</td>\n",
       "      <td>442</td>\n",
       "      <td>4271</td>\n",
       "      <td>Aarburg</td>\n",
       "    </tr>\n",
       "    <tr>\n",
       "      <th>4</th>\n",
       "      <td>Aarwangen</td>\n",
       "      <td>987</td>\n",
       "      <td>321</td>\n",
       "      <td>Aarwangen</td>\n",
       "    </tr>\n",
       "  </tbody>\n",
       "</table>\n",
       "</div>"
      ],
      "text/plain": [
       "  commune_name  area    id    commune\n",
       "0       Aadorf  1990  4551     Aadorf\n",
       "1        Aarau  1233  4001      Aarau\n",
       "2      Aarberg   792   301    Aarberg\n",
       "3      Aarburg   442  4271    Aarburg\n",
       "4    Aarwangen   987   321  Aarwangen"
      ]
     },
     "execution_count": 12,
     "metadata": {},
     "output_type": "execute_result"
    }
   ],
   "source": [
    "merged.head()"
   ]
  },
  {
   "cell_type": "code",
   "execution_count": 13,
   "metadata": {
    "collapsed": false
   },
   "outputs": [
    {
     "name": "stdout",
     "output_type": "stream",
     "text": [
      "correct_ids_comune (2324, 2)\n",
      "fusioned_data (2322, 4)\n",
      "\n",
      "len(missing_in_merged) 2\n",
      "missing_in_merged [5624, 5702]\n",
      "len(missing_in_id) 0\n",
      "missing_in_id []\n"
     ]
    }
   ],
   "source": [
    "# check integrity\n",
    "correct_ids = np.array(ids_commune['id'].values)\n",
    "\n",
    "missing_in_merged = []\n",
    "missing_in_id = []\n",
    "for i in correct_ids:\n",
    "    if i not in merged['id'].values:\n",
    "        missing_in_merged.append(i)\n",
    "for i in merged['id'].values:\n",
    "    if i not in correct_ids:\n",
    "        missing_in_id.append(i)\n",
    "\n",
    "print(\"correct_ids_comune\", ids_commune.shape)\n",
    "print(\"fusioned_data\", merged.shape)\n",
    "print()\n",
    "\n",
    "print(\"len(missing_in_merged)\", len(missing_in_merged))\n",
    "print(\"missing_in_merged\", missing_in_merged)\n",
    "\n",
    "print(\"len(missing_in_id)\", len(missing_in_id))\n",
    "print(\"missing_in_id\", missing_in_id)"
   ]
  },
  {
   "cell_type": "code",
   "execution_count": 14,
   "metadata": {
    "collapsed": false
   },
   "outputs": [
    {
     "data": {
      "text/html": [
       "<div>\n",
       "<table border=\"1\" class=\"dataframe\">\n",
       "  <thead>\n",
       "    <tr style=\"text-align: right;\">\n",
       "      <th></th>\n",
       "      <th>id</th>\n",
       "      <th>commune</th>\n",
       "    </tr>\n",
       "  </thead>\n",
       "  <tbody>\n",
       "    <tr>\n",
       "      <th>1862</th>\n",
       "      <td>5624</td>\n",
       "      <td>Bussigny</td>\n",
       "    </tr>\n",
       "    <tr>\n",
       "      <th>1912</th>\n",
       "      <td>5702</td>\n",
       "      <td>Arzier-Le Muids</td>\n",
       "    </tr>\n",
       "  </tbody>\n",
       "</table>\n",
       "</div>"
      ],
      "text/plain": [
       "        id          commune\n",
       "1862  5624         Bussigny\n",
       "1912  5702  Arzier-Le Muids"
      ]
     },
     "execution_count": 14,
     "metadata": {},
     "output_type": "execute_result"
    }
   ],
   "source": [
    "ids_commune[ids_commune['id'].isin([5624, 5702])]"
   ]
  },
  {
   "cell_type": "code",
   "execution_count": 15,
   "metadata": {
    "collapsed": false
   },
   "outputs": [
    {
     "data": {
      "text/html": [
       "<div>\n",
       "<table border=\"1\" class=\"dataframe\">\n",
       "  <thead>\n",
       "    <tr style=\"text-align: right;\">\n",
       "      <th></th>\n",
       "      <th>commune_name</th>\n",
       "      <th>area</th>\n",
       "      <th>id</th>\n",
       "    </tr>\n",
       "  </thead>\n",
       "  <tbody>\n",
       "    <tr>\n",
       "      <th>0</th>\n",
       "      <td>Aadorf</td>\n",
       "      <td>1990</td>\n",
       "      <td>4551</td>\n",
       "    </tr>\n",
       "    <tr>\n",
       "      <th>1</th>\n",
       "      <td>Aarau</td>\n",
       "      <td>1233</td>\n",
       "      <td>4001</td>\n",
       "    </tr>\n",
       "    <tr>\n",
       "      <th>2</th>\n",
       "      <td>Aarberg</td>\n",
       "      <td>792</td>\n",
       "      <td>301</td>\n",
       "    </tr>\n",
       "    <tr>\n",
       "      <th>3</th>\n",
       "      <td>Aarburg</td>\n",
       "      <td>442</td>\n",
       "      <td>4271</td>\n",
       "    </tr>\n",
       "    <tr>\n",
       "      <th>4</th>\n",
       "      <td>Aarwangen</td>\n",
       "      <td>987</td>\n",
       "      <td>321</td>\n",
       "    </tr>\n",
       "  </tbody>\n",
       "</table>\n",
       "</div>"
      ],
      "text/plain": [
       "  commune_name  area    id\n",
       "0       Aadorf  1990  4551\n",
       "1        Aarau  1233  4001\n",
       "2      Aarberg   792   301\n",
       "3      Aarburg   442  4271\n",
       "4    Aarwangen   987   321"
      ]
     },
     "execution_count": 15,
     "metadata": {},
     "output_type": "execute_result"
    }
   ],
   "source": [
    "merged.drop('commune', axis=1, inplace=True)\n",
    "merged.head()"
   ]
  },
  {
   "cell_type": "code",
   "execution_count": 16,
   "metadata": {
    "collapsed": false
   },
   "outputs": [
    {
     "data": {
      "text/html": [
       "<div>\n",
       "<table border=\"1\" class=\"dataframe\">\n",
       "  <thead>\n",
       "    <tr style=\"text-align: right;\">\n",
       "      <th></th>\n",
       "      <th>commune_name</th>\n",
       "      <th>area</th>\n",
       "      <th>id</th>\n",
       "    </tr>\n",
       "  </thead>\n",
       "  <tbody>\n",
       "    <tr>\n",
       "      <th>2322</th>\n",
       "      <td>Bussigny</td>\n",
       "      <td>482</td>\n",
       "      <td>5624</td>\n",
       "    </tr>\n",
       "    <tr>\n",
       "      <th>2323</th>\n",
       "      <td>Arzier-Le Muids</td>\n",
       "      <td>5191</td>\n",
       "      <td>5702</td>\n",
       "    </tr>\n",
       "  </tbody>\n",
       "</table>\n",
       "</div>"
      ],
      "text/plain": [
       "         commune_name  area    id\n",
       "2322         Bussigny   482  5624\n",
       "2323  Arzier-Le Muids  5191  5702"
      ]
     },
     "execution_count": 16,
     "metadata": {},
     "output_type": "execute_result"
    }
   ],
   "source": [
    "# add the missing communes by hand\n",
    "merged = merged.append(pd.DataFrame([['Bussigny',482,5624]], columns=merged.columns), ignore_index=True)\n",
    "merged = merged.append(pd.DataFrame([['Arzier-Le Muids',5191,5702]], columns=merged.columns), ignore_index=True)\n",
    "merged[merged['id'].isin([5624, 5702])]"
   ]
  },
  {
   "cell_type": "code",
   "execution_count": 17,
   "metadata": {
    "collapsed": true
   },
   "outputs": [],
   "source": [
    "merged.drop('commune_name', axis=1, inplace=True)"
   ]
  },
  {
   "cell_type": "code",
   "execution_count": 19,
   "metadata": {
    "collapsed": false
   },
   "outputs": [],
   "source": [
    "merged.to_csv('../cleaned_data/2013/cleaned_area.csv', index=False)\n",
    "merged.to_csv('../cleaned_data/2014/cleaned_area.csv', index=False)\n",
    "merged.to_csv('../cleaned_data/2015/cleaned_area.csv', index=False)\n",
    "merged.to_csv('../cleaned_data/2016/cleaned_area.csv', index=False)"
   ]
  },
  {
   "cell_type": "code",
   "execution_count": null,
   "metadata": {
    "collapsed": true
   },
   "outputs": [],
   "source": []
  }
 ],
 "metadata": {
  "anaconda-cloud": {},
  "kernelspec": {
   "display_name": "Python [Root]",
   "language": "python",
   "name": "Python [Root]"
  },
  "language_info": {
   "codemirror_mode": {
    "name": "ipython",
    "version": 3
   },
   "file_extension": ".py",
   "mimetype": "text/x-python",
   "name": "python",
   "nbconvert_exporter": "python",
   "pygments_lexer": "ipython3",
   "version": "3.5.2"
  }
 },
 "nbformat": 4,
 "nbformat_minor": 0
}
