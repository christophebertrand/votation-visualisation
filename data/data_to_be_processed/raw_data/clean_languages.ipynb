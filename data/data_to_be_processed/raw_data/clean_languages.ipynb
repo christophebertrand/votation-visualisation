{
 "cells": [
  {
   "cell_type": "code",
   "execution_count": 573,
   "metadata": {
    "collapsed": true
   },
   "outputs": [],
   "source": [
    "# imports\n",
    "import pandas as pd\n",
    "import numpy as np\n",
    "import seaborn as sns\n",
    "import matplotlib.pyplot as plt\n",
    "from matplotlib.pyplot import show\n",
    "import json\n",
    "\n",
    "%matplotlib inline\n",
    "sns.set_context('notebook')\n",
    "pd.options.mode.chained_assignment = None  # default='warn'\n",
    "pd.set_option('display.max_columns', 500) # show more columns\n",
    "nan = np.nan # store numpy.nan in 'nan'"
   ]
  },
  {
   "cell_type": "code",
   "execution_count": 574,
   "metadata": {
    "collapsed": true
   },
   "outputs": [],
   "source": [
    "raw_data = pd.read_csv('languages_utf8_raw.csv', sep=';', header=1)"
   ]
  },
  {
   "cell_type": "code",
   "execution_count": 575,
   "metadata": {
    "collapsed": false
   },
   "outputs": [],
   "source": [
    "raw_data.drop('Année', axis=1, inplace=True)\n",
    "# rename the columns\n",
    "d = {'Canton (-) / District (>>) / Commune (......)': 'commune_name', \n",
    "                   'Allemand Suisses':'German',\n",
    "                   'Français Suisses':'French',\n",
    "                   'Italien Suisses':'Italian', \n",
    "                   'Romanche Suisses':'Romansh'}\n",
    "raw_data.rename(columns=d, inplace=True)"
   ]
  },
  {
   "cell_type": "code",
   "execution_count": 576,
   "metadata": {
    "collapsed": false
   },
   "outputs": [
    {
     "data": {
      "text/html": [
       "<div>\n",
       "<table border=\"1\" class=\"dataframe\">\n",
       "  <thead>\n",
       "    <tr style=\"text-align: right;\">\n",
       "      <th></th>\n",
       "      <th>commune_name</th>\n",
       "      <th>German</th>\n",
       "      <th>French</th>\n",
       "      <th>Italian</th>\n",
       "      <th>Romansh</th>\n",
       "    </tr>\n",
       "  </thead>\n",
       "  <tbody>\n",
       "    <tr>\n",
       "      <th>0</th>\n",
       "      <td>Suisse</td>\n",
       "      <td>4201237</td>\n",
       "      <td>1216304</td>\n",
       "      <td>248980</td>\n",
       "      <td>33868</td>\n",
       "    </tr>\n",
       "    <tr>\n",
       "      <th>1</th>\n",
       "      <td>- Kanton Zürich</td>\n",
       "      <td>915926</td>\n",
       "      <td>12971</td>\n",
       "      <td>10953</td>\n",
       "      <td>2419</td>\n",
       "    </tr>\n",
       "    <tr>\n",
       "      <th>2</th>\n",
       "      <td>&gt;&gt; Bezirk Affoltern</td>\n",
       "      <td>34433</td>\n",
       "      <td>299</td>\n",
       "      <td>190</td>\n",
       "      <td>67</td>\n",
       "    </tr>\n",
       "    <tr>\n",
       "      <th>3</th>\n",
       "      <td>......0001 Aeugst am Albis</td>\n",
       "      <td>1412</td>\n",
       "      <td>12</td>\n",
       "      <td>5</td>\n",
       "      <td>1</td>\n",
       "    </tr>\n",
       "    <tr>\n",
       "      <th>4</th>\n",
       "      <td>......0002 Affoltern am Albis</td>\n",
       "      <td>7215</td>\n",
       "      <td>58</td>\n",
       "      <td>41</td>\n",
       "      <td>13</td>\n",
       "    </tr>\n",
       "  </tbody>\n",
       "</table>\n",
       "</div>"
      ],
      "text/plain": [
       "                    commune_name   German   French  Italian  Romansh\n",
       "0                         Suisse  4201237  1216304   248980    33868\n",
       "1                - Kanton Zürich   915926    12971    10953     2419\n",
       "2            >> Bezirk Affoltern    34433      299      190       67\n",
       "3     ......0001 Aeugst am Albis     1412       12        5        1\n",
       "4  ......0002 Affoltern am Albis     7215       58       41       13"
      ]
     },
     "execution_count": 576,
     "metadata": {},
     "output_type": "execute_result"
    }
   ],
   "source": [
    "raw_data.head()"
   ]
  },
  {
   "cell_type": "code",
   "execution_count": 577,
   "metadata": {
    "collapsed": true
   },
   "outputs": [],
   "source": [
    "# remove cantons and bezirk and remove '......' from names\n",
    "def _remove_dots(row):\n",
    "    return row['commune_name'].replace('......', '')\n",
    "def _keep_only_communes(df):\n",
    "    tmp = df[df['commune_name'].str.find('......') >= 0]\n",
    "    tmp['commune_name'] = tmp.apply(_remove_dots, axis=1)\n",
    "    return tmp"
   ]
  },
  {
   "cell_type": "code",
   "execution_count": 578,
   "metadata": {
    "collapsed": true
   },
   "outputs": [],
   "source": [
    "raw_data = _keep_only_communes(raw_data)"
   ]
  },
  {
   "cell_type": "code",
   "execution_count": 579,
   "metadata": {
    "collapsed": false
   },
   "outputs": [
    {
     "data": {
      "text/html": [
       "<div>\n",
       "<table border=\"1\" class=\"dataframe\">\n",
       "  <thead>\n",
       "    <tr style=\"text-align: right;\">\n",
       "      <th></th>\n",
       "      <th>commune_name</th>\n",
       "      <th>German</th>\n",
       "      <th>French</th>\n",
       "      <th>Italian</th>\n",
       "      <th>Romansh</th>\n",
       "    </tr>\n",
       "  </thead>\n",
       "  <tbody>\n",
       "    <tr>\n",
       "      <th>3</th>\n",
       "      <td>0001 Aeugst am Albis</td>\n",
       "      <td>1412</td>\n",
       "      <td>12</td>\n",
       "      <td>5</td>\n",
       "      <td>1</td>\n",
       "    </tr>\n",
       "    <tr>\n",
       "      <th>4</th>\n",
       "      <td>0002 Affoltern am Albis</td>\n",
       "      <td>7215</td>\n",
       "      <td>58</td>\n",
       "      <td>41</td>\n",
       "      <td>13</td>\n",
       "    </tr>\n",
       "    <tr>\n",
       "      <th>5</th>\n",
       "      <td>0003 Bonstetten</td>\n",
       "      <td>3282</td>\n",
       "      <td>29</td>\n",
       "      <td>27</td>\n",
       "      <td>11</td>\n",
       "    </tr>\n",
       "    <tr>\n",
       "      <th>6</th>\n",
       "      <td>0004 Hausen am Albis</td>\n",
       "      <td>2706</td>\n",
       "      <td>16</td>\n",
       "      <td>16</td>\n",
       "      <td>1</td>\n",
       "    </tr>\n",
       "    <tr>\n",
       "      <th>7</th>\n",
       "      <td>0005 Hedingen</td>\n",
       "      <td>2420</td>\n",
       "      <td>21</td>\n",
       "      <td>17</td>\n",
       "      <td>9</td>\n",
       "    </tr>\n",
       "  </tbody>\n",
       "</table>\n",
       "</div>"
      ],
      "text/plain": [
       "              commune_name  German  French  Italian  Romansh\n",
       "3     0001 Aeugst am Albis    1412      12        5        1\n",
       "4  0002 Affoltern am Albis    7215      58       41       13\n",
       "5          0003 Bonstetten    3282      29       27       11\n",
       "6     0004 Hausen am Albis    2706      16       16        1\n",
       "7            0005 Hedingen    2420      21       17        9"
      ]
     },
     "execution_count": 579,
     "metadata": {},
     "output_type": "execute_result"
    }
   ],
   "source": [
    "raw_data.head()"
   ]
  },
  {
   "cell_type": "code",
   "execution_count": 580,
   "metadata": {
    "collapsed": true
   },
   "outputs": [],
   "source": [
    "# parse commune_id\n",
    "def _parse_commune_id(row):\n",
    "    return int(row['commune_name'].split()[0])\n",
    "\n",
    "def _remove_id_from_name(row):\n",
    "    return ' '.join(row['commune_name'].split()[1:])"
   ]
  },
  {
   "cell_type": "code",
   "execution_count": 581,
   "metadata": {
    "collapsed": false
   },
   "outputs": [
    {
     "data": {
      "text/html": [
       "<div>\n",
       "<table border=\"1\" class=\"dataframe\">\n",
       "  <thead>\n",
       "    <tr style=\"text-align: right;\">\n",
       "      <th></th>\n",
       "      <th>commune_name</th>\n",
       "      <th>German</th>\n",
       "      <th>French</th>\n",
       "      <th>Italian</th>\n",
       "      <th>Romansh</th>\n",
       "      <th>id</th>\n",
       "    </tr>\n",
       "  </thead>\n",
       "  <tbody>\n",
       "    <tr>\n",
       "      <th>3</th>\n",
       "      <td>Aeugst am Albis</td>\n",
       "      <td>1412</td>\n",
       "      <td>12</td>\n",
       "      <td>5</td>\n",
       "      <td>1</td>\n",
       "      <td>1</td>\n",
       "    </tr>\n",
       "    <tr>\n",
       "      <th>4</th>\n",
       "      <td>Affoltern am Albis</td>\n",
       "      <td>7215</td>\n",
       "      <td>58</td>\n",
       "      <td>41</td>\n",
       "      <td>13</td>\n",
       "      <td>2</td>\n",
       "    </tr>\n",
       "    <tr>\n",
       "      <th>5</th>\n",
       "      <td>Bonstetten</td>\n",
       "      <td>3282</td>\n",
       "      <td>29</td>\n",
       "      <td>27</td>\n",
       "      <td>11</td>\n",
       "      <td>3</td>\n",
       "    </tr>\n",
       "    <tr>\n",
       "      <th>6</th>\n",
       "      <td>Hausen am Albis</td>\n",
       "      <td>2706</td>\n",
       "      <td>16</td>\n",
       "      <td>16</td>\n",
       "      <td>1</td>\n",
       "      <td>4</td>\n",
       "    </tr>\n",
       "    <tr>\n",
       "      <th>7</th>\n",
       "      <td>Hedingen</td>\n",
       "      <td>2420</td>\n",
       "      <td>21</td>\n",
       "      <td>17</td>\n",
       "      <td>9</td>\n",
       "      <td>5</td>\n",
       "    </tr>\n",
       "  </tbody>\n",
       "</table>\n",
       "</div>"
      ],
      "text/plain": [
       "         commune_name  German  French  Italian  Romansh  id\n",
       "3     Aeugst am Albis    1412      12        5        1   1\n",
       "4  Affoltern am Albis    7215      58       41       13   2\n",
       "5          Bonstetten    3282      29       27       11   3\n",
       "6     Hausen am Albis    2706      16       16        1   4\n",
       "7            Hedingen    2420      21       17        9   5"
      ]
     },
     "execution_count": 581,
     "metadata": {},
     "output_type": "execute_result"
    }
   ],
   "source": [
    "data = raw_data\n",
    "data['id'] = data.apply(_parse_commune_id, axis=1)\n",
    "data['commune_name'] = data.apply(_remove_id_from_name, axis=1)\n",
    "data.head()"
   ]
  },
  {
   "cell_type": "code",
   "execution_count": 582,
   "metadata": {
    "collapsed": false
   },
   "outputs": [
    {
     "data": {
      "text/plain": [
       "(2896, 6)"
      ]
     },
     "execution_count": 582,
     "metadata": {},
     "output_type": "execute_result"
    }
   ],
   "source": [
    "data.shape"
   ]
  },
  {
   "cell_type": "code",
   "execution_count": 583,
   "metadata": {
    "collapsed": false,
    "scrolled": true
   },
   "outputs": [
    {
     "name": "stdout",
     "output_type": "stream",
     "text": [
      "pre_id                int64\n",
      "pre_name             object\n",
      "post_id               int64\n",
      "post_name            object\n",
      "date         datetime64[ns]\n",
      "dtype: object\n",
      "(804, 5)\n"
     ]
    },
    {
     "data": {
      "text/html": [
       "<div>\n",
       "<table border=\"1\" class=\"dataframe\">\n",
       "  <thead>\n",
       "    <tr style=\"text-align: right;\">\n",
       "      <th></th>\n",
       "      <th>pre_id</th>\n",
       "      <th>pre_name</th>\n",
       "      <th>post_id</th>\n",
       "      <th>post_name</th>\n",
       "      <th>date</th>\n",
       "    </tr>\n",
       "  </thead>\n",
       "  <tbody>\n",
       "    <tr>\n",
       "      <th>0</th>\n",
       "      <td>2028</td>\n",
       "      <td>Montagny-la-Ville</td>\n",
       "      <td>2029</td>\n",
       "      <td>Montagny (FR)</td>\n",
       "      <td>2000-01-01</td>\n",
       "    </tr>\n",
       "    <tr>\n",
       "      <th>1</th>\n",
       "      <td>2029</td>\n",
       "      <td>Montagny-les-Monts</td>\n",
       "      <td>2029</td>\n",
       "      <td>Montagny (FR)</td>\n",
       "      <td>2000-01-01</td>\n",
       "    </tr>\n",
       "    <tr>\n",
       "      <th>2</th>\n",
       "      <td>2249</td>\n",
       "      <td>Corsalettes</td>\n",
       "      <td>2200</td>\n",
       "      <td>Grolley</td>\n",
       "      <td>2000-01-01</td>\n",
       "    </tr>\n",
       "    <tr>\n",
       "      <th>3</th>\n",
       "      <td>2267</td>\n",
       "      <td>Kleingurmels</td>\n",
       "      <td>2262</td>\n",
       "      <td>Gurmels</td>\n",
       "      <td>2000-01-01</td>\n",
       "    </tr>\n",
       "    <tr>\n",
       "      <th>4</th>\n",
       "      <td>4542</td>\n",
       "      <td>Willisdorf</td>\n",
       "      <td>4545</td>\n",
       "      <td>Diessenhofen</td>\n",
       "      <td>2000-01-01</td>\n",
       "    </tr>\n",
       "  </tbody>\n",
       "</table>\n",
       "</div>"
      ],
      "text/plain": [
       "   pre_id            pre_name  post_id      post_name       date\n",
       "0    2028   Montagny-la-Ville     2029  Montagny (FR) 2000-01-01\n",
       "1    2029  Montagny-les-Monts     2029  Montagny (FR) 2000-01-01\n",
       "2    2249         Corsalettes     2200        Grolley 2000-01-01\n",
       "3    2267        Kleingurmels     2262        Gurmels 2000-01-01\n",
       "4    4542          Willisdorf     4545   Diessenhofen 2000-01-01"
      ]
     },
     "execution_count": 583,
     "metadata": {},
     "output_type": "execute_result"
    }
   ],
   "source": [
    "fusions = pd.read_csv('../fusion_mappings.csv', parse_dates=[4])\n",
    "print(fusions.dtypes)\n",
    "print(fusions.shape)\n",
    "fusions.head()"
   ]
  },
  {
   "cell_type": "code",
   "execution_count": 584,
   "metadata": {
    "collapsed": false,
    "scrolled": true
   },
   "outputs": [],
   "source": [
    "# filter all fusions from 2000 to dez.2015\n",
    "def _get_fusions(f, from_date, to_date):\n",
    "    \"\"\"\n",
    "    returns a dataframe containig only the rows where f['date'] \n",
    "    is between the two given dates (including from_date but EXCLUDING to_date)\n",
    "    \n",
    "    dates must be either parsable strings or numpy.datetime64\n",
    "    Example: _get_fusions(fusions, '2014-01-01', '2016-01-01')\n",
    "    \"\"\"\n",
    "    f1 = f[f['date'] >= np.datetime64(from_date)]\n",
    "    f2 = f1[f1['date'] < np.datetime64(to_date)]\n",
    "    return f2"
   ]
  },
  {
   "cell_type": "code",
   "execution_count": 585,
   "metadata": {
    "collapsed": true
   },
   "outputs": [],
   "source": [
    "def _apply_fusion_year(df, year):\n",
    "    fs = _get_fusions(fusions, '{}-01-01'.format(year), '{}-01-01'.format(year+1))\n",
    "    df_cpy = df.copy()\n",
    "    assert fs['pre_id'].is_unique\n",
    "    for index, f in fs.iterrows():\n",
    "        df_cpy.replace(to_replace=f['pre_id'], value=f['post_id'], inplace=True)\n",
    "    return df_cpy\n",
    "        "
   ]
  },
  {
   "cell_type": "code",
   "execution_count": 586,
   "metadata": {
    "collapsed": false,
    "scrolled": true
   },
   "outputs": [
    {
     "data": {
      "text/html": [
       "<div>\n",
       "<table border=\"1\" class=\"dataframe\">\n",
       "  <thead>\n",
       "    <tr style=\"text-align: right;\">\n",
       "      <th></th>\n",
       "      <th>commune_name</th>\n",
       "      <th>German</th>\n",
       "      <th>French</th>\n",
       "      <th>Italian</th>\n",
       "      <th>Romansh</th>\n",
       "      <th>id</th>\n",
       "    </tr>\n",
       "  </thead>\n",
       "  <tbody>\n",
       "    <tr>\n",
       "      <th>3</th>\n",
       "      <td>Aeugst am Albis</td>\n",
       "      <td>1412</td>\n",
       "      <td>12</td>\n",
       "      <td>5</td>\n",
       "      <td>1</td>\n",
       "      <td>1</td>\n",
       "    </tr>\n",
       "    <tr>\n",
       "      <th>4</th>\n",
       "      <td>Affoltern am Albis</td>\n",
       "      <td>7215</td>\n",
       "      <td>58</td>\n",
       "      <td>41</td>\n",
       "      <td>13</td>\n",
       "      <td>2</td>\n",
       "    </tr>\n",
       "    <tr>\n",
       "      <th>5</th>\n",
       "      <td>Bonstetten</td>\n",
       "      <td>3282</td>\n",
       "      <td>29</td>\n",
       "      <td>27</td>\n",
       "      <td>11</td>\n",
       "      <td>3</td>\n",
       "    </tr>\n",
       "    <tr>\n",
       "      <th>6</th>\n",
       "      <td>Hausen am Albis</td>\n",
       "      <td>2706</td>\n",
       "      <td>16</td>\n",
       "      <td>16</td>\n",
       "      <td>1</td>\n",
       "      <td>4</td>\n",
       "    </tr>\n",
       "    <tr>\n",
       "      <th>7</th>\n",
       "      <td>Hedingen</td>\n",
       "      <td>2420</td>\n",
       "      <td>21</td>\n",
       "      <td>17</td>\n",
       "      <td>9</td>\n",
       "      <td>5</td>\n",
       "    </tr>\n",
       "  </tbody>\n",
       "</table>\n",
       "</div>"
      ],
      "text/plain": [
       "         commune_name  German  French  Italian  Romansh  id\n",
       "3     Aeugst am Albis    1412      12        5        1   1\n",
       "4  Affoltern am Albis    7215      58       41       13   2\n",
       "5          Bonstetten    3282      29       27       11   3\n",
       "6     Hausen am Albis    2706      16       16        1   4\n",
       "7            Hedingen    2420      21       17        9   5"
      ]
     },
     "execution_count": 586,
     "metadata": {},
     "output_type": "execute_result"
    }
   ],
   "source": [
    "res = {1999: data}\n",
    "for y in range(2000, 2016):\n",
    "    res[y] = _apply_fusion_year(res[y-1], y)\n",
    "del res[1999]\n",
    "fusioned_data = res[2015]\n",
    "fusioned_data.head()"
   ]
  },
  {
   "cell_type": "code",
   "execution_count": 587,
   "metadata": {
    "collapsed": false
   },
   "outputs": [
    {
     "name": "stdout",
     "output_type": "stream",
     "text": [
      "nbr comunes in fusioned 2324\n"
     ]
    },
    {
     "data": {
      "text/html": [
       "<div>\n",
       "<table border=\"1\" class=\"dataframe\">\n",
       "  <thead>\n",
       "    <tr style=\"text-align: right;\">\n",
       "      <th></th>\n",
       "      <th>id</th>\n",
       "      <th>German</th>\n",
       "      <th>French</th>\n",
       "      <th>Italian</th>\n",
       "      <th>Romansh</th>\n",
       "    </tr>\n",
       "  </thead>\n",
       "  <tbody>\n",
       "    <tr>\n",
       "      <th>0</th>\n",
       "      <td>1</td>\n",
       "      <td>1412</td>\n",
       "      <td>12</td>\n",
       "      <td>5</td>\n",
       "      <td>1</td>\n",
       "    </tr>\n",
       "    <tr>\n",
       "      <th>1</th>\n",
       "      <td>2</td>\n",
       "      <td>7215</td>\n",
       "      <td>58</td>\n",
       "      <td>41</td>\n",
       "      <td>13</td>\n",
       "    </tr>\n",
       "    <tr>\n",
       "      <th>2</th>\n",
       "      <td>3</td>\n",
       "      <td>3282</td>\n",
       "      <td>29</td>\n",
       "      <td>27</td>\n",
       "      <td>11</td>\n",
       "    </tr>\n",
       "    <tr>\n",
       "      <th>3</th>\n",
       "      <td>4</td>\n",
       "      <td>2706</td>\n",
       "      <td>16</td>\n",
       "      <td>16</td>\n",
       "      <td>1</td>\n",
       "    </tr>\n",
       "    <tr>\n",
       "      <th>4</th>\n",
       "      <td>5</td>\n",
       "      <td>2420</td>\n",
       "      <td>21</td>\n",
       "      <td>17</td>\n",
       "      <td>9</td>\n",
       "    </tr>\n",
       "  </tbody>\n",
       "</table>\n",
       "</div>"
      ],
      "text/plain": [
       "   id  German  French  Italian  Romansh\n",
       "0   1    1412      12        5        1\n",
       "1   2    7215      58       41       13\n",
       "2   3    3282      29       27       11\n",
       "3   4    2706      16       16        1\n",
       "4   5    2420      21       17        9"
      ]
     },
     "execution_count": 587,
     "metadata": {},
     "output_type": "execute_result"
    }
   ],
   "source": [
    "grouped_fusioned_data = fusioned_data.groupby(by=['id'], as_index=False).sum()\n",
    "print('nbr comunes in fusioned', len(grouped_fusioned_data))\n",
    "grouped_fusioned_data.head()"
   ]
  },
  {
   "cell_type": "code",
   "execution_count": 588,
   "metadata": {
    "collapsed": false,
    "scrolled": true
   },
   "outputs": [],
   "source": [
    "# assert that there are no duplicated id's\n",
    "assert len(grouped_fusioned_data[grouped_fusioned_data.duplicated(subset='id')]) == 0"
   ]
  },
  {
   "cell_type": "code",
   "execution_count": 589,
   "metadata": {
    "collapsed": false
   },
   "outputs": [
    {
     "data": {
      "text/html": [
       "<div>\n",
       "<table border=\"1\" class=\"dataframe\">\n",
       "  <thead>\n",
       "    <tr style=\"text-align: right;\">\n",
       "      <th></th>\n",
       "      <th>id</th>\n",
       "      <th>commune</th>\n",
       "    </tr>\n",
       "  </thead>\n",
       "  <tbody>\n",
       "    <tr>\n",
       "      <th>0</th>\n",
       "      <td>1</td>\n",
       "      <td>Aeugst am Albis</td>\n",
       "    </tr>\n",
       "    <tr>\n",
       "      <th>1</th>\n",
       "      <td>2</td>\n",
       "      <td>Affoltern am Albis</td>\n",
       "    </tr>\n",
       "    <tr>\n",
       "      <th>2</th>\n",
       "      <td>3</td>\n",
       "      <td>Bonstetten</td>\n",
       "    </tr>\n",
       "    <tr>\n",
       "      <th>3</th>\n",
       "      <td>4</td>\n",
       "      <td>Hausen am Albis</td>\n",
       "    </tr>\n",
       "    <tr>\n",
       "      <th>4</th>\n",
       "      <td>5</td>\n",
       "      <td>Hedingen</td>\n",
       "    </tr>\n",
       "  </tbody>\n",
       "</table>\n",
       "</div>"
      ],
      "text/plain": [
       "   id             commune\n",
       "0   1     Aeugst am Albis\n",
       "1   2  Affoltern am Albis\n",
       "2   3          Bonstetten\n",
       "3   4     Hausen am Albis\n",
       "4   5            Hedingen"
      ]
     },
     "execution_count": 589,
     "metadata": {},
     "output_type": "execute_result"
    }
   ],
   "source": [
    "# fetch all existing commune id's\n",
    "correct_ids_comune = pd.read_csv('../../municipalities/2015/id_commune_2015.csv')\n",
    "correct_ids = np.array(correct_ids_comune['id'].values)\n",
    "correct_ids_comune.head()"
   ]
  },
  {
   "cell_type": "code",
   "execution_count": 590,
   "metadata": {
    "collapsed": false,
    "scrolled": true
   },
   "outputs": [],
   "source": [
    "# check integrity\n",
    "missing_in_fusioned = []\n",
    "missing_in_id = []\n",
    "for i in correct_ids:\n",
    "    if i not in grouped_fusioned_data['id'].values:\n",
    "        missing_in_fusioned.append(i)\n",
    "for i in grouped_fusioned_data['id'].values:\n",
    "    if i not in correct_ids:\n",
    "        missing_in_id.append(i)\n"
   ]
  },
  {
   "cell_type": "code",
   "execution_count": 591,
   "metadata": {
    "collapsed": false
   },
   "outputs": [
    {
     "name": "stdout",
     "output_type": "stream",
     "text": [
      "correct_ids_comune (2324, 2)\n",
      "grouped_fusioned_data (2324, 5)\n"
     ]
    }
   ],
   "source": [
    "print(\"correct_ids_comune\", correct_ids_comune.shape)\n",
    "print(\"grouped_fusioned_data\", grouped_fusioned_data.shape)\n"
   ]
  },
  {
   "cell_type": "code",
   "execution_count": 592,
   "metadata": {
    "collapsed": false,
    "scrolled": true
   },
   "outputs": [
    {
     "name": "stdout",
     "output_type": "stream",
     "text": [
      "len(missing_in_fusioned) 0\n",
      "missing_in_fusioned []\n"
     ]
    }
   ],
   "source": [
    "print(\"len(missing_in_fusioned)\", len(missing_in_fusioned))\n",
    "print(\"missing_in_fusioned\", missing_in_fusioned)"
   ]
  },
  {
   "cell_type": "code",
   "execution_count": 593,
   "metadata": {
    "collapsed": false,
    "scrolled": true
   },
   "outputs": [
    {
     "name": "stdout",
     "output_type": "stream",
     "text": [
      "len(missing_in_id_2015) 0\n",
      "missing_in_id_2015 []\n"
     ]
    }
   ],
   "source": [
    "print(\"len(missing_in_id_2015)\", len(missing_in_id))\n",
    "print(\"missing_in_id_2015\", missing_in_id)"
   ]
  },
  {
   "cell_type": "code",
   "execution_count": 594,
   "metadata": {
    "collapsed": false
   },
   "outputs": [
    {
     "data": {
      "text/html": [
       "<div>\n",
       "<table border=\"1\" class=\"dataframe\">\n",
       "  <thead>\n",
       "    <tr style=\"text-align: right;\">\n",
       "      <th></th>\n",
       "      <th>id</th>\n",
       "      <th>commune</th>\n",
       "    </tr>\n",
       "  </thead>\n",
       "  <tbody>\n",
       "    <tr>\n",
       "      <th>1243</th>\n",
       "      <td>3762</td>\n",
       "      <td>Scuol</td>\n",
       "    </tr>\n",
       "  </tbody>\n",
       "</table>\n",
       "</div>"
      ],
      "text/plain": [
       "        id commune\n",
       "1243  3762   Scuol"
      ]
     },
     "execution_count": 594,
     "metadata": {},
     "output_type": "execute_result"
    }
   ],
   "source": [
    "correct_ids_comune[correct_ids_comune['commune'] == 'Scuol']"
   ]
  },
  {
   "cell_type": "code",
   "execution_count": 595,
   "metadata": {
    "collapsed": false,
    "scrolled": true
   },
   "outputs": [
    {
     "data": {
      "text/html": [
       "<div>\n",
       "<table border=\"1\" class=\"dataframe\">\n",
       "  <thead>\n",
       "    <tr style=\"text-align: right;\">\n",
       "      <th></th>\n",
       "      <th>id</th>\n",
       "      <th>German</th>\n",
       "      <th>French</th>\n",
       "      <th>Italian</th>\n",
       "      <th>Romansh</th>\n",
       "    </tr>\n",
       "  </thead>\n",
       "  <tbody>\n",
       "    <tr>\n",
       "      <th>0</th>\n",
       "      <td>1</td>\n",
       "      <td>1412</td>\n",
       "      <td>12</td>\n",
       "      <td>5</td>\n",
       "      <td>1</td>\n",
       "    </tr>\n",
       "    <tr>\n",
       "      <th>1</th>\n",
       "      <td>2</td>\n",
       "      <td>7215</td>\n",
       "      <td>58</td>\n",
       "      <td>41</td>\n",
       "      <td>13</td>\n",
       "    </tr>\n",
       "    <tr>\n",
       "      <th>2</th>\n",
       "      <td>3</td>\n",
       "      <td>3282</td>\n",
       "      <td>29</td>\n",
       "      <td>27</td>\n",
       "      <td>11</td>\n",
       "    </tr>\n",
       "    <tr>\n",
       "      <th>3</th>\n",
       "      <td>4</td>\n",
       "      <td>2706</td>\n",
       "      <td>16</td>\n",
       "      <td>16</td>\n",
       "      <td>1</td>\n",
       "    </tr>\n",
       "    <tr>\n",
       "      <th>4</th>\n",
       "      <td>5</td>\n",
       "      <td>2420</td>\n",
       "      <td>21</td>\n",
       "      <td>17</td>\n",
       "      <td>9</td>\n",
       "    </tr>\n",
       "  </tbody>\n",
       "</table>\n",
       "</div>"
      ],
      "text/plain": [
       "   id  German  French  Italian  Romansh\n",
       "0   1    1412      12        5        1\n",
       "1   2    7215      58       41       13\n",
       "2   3    3282      29       27       11\n",
       "3   4    2706      16       16        1\n",
       "4   5    2420      21       17        9"
      ]
     },
     "execution_count": 595,
     "metadata": {},
     "output_type": "execute_result"
    }
   ],
   "source": [
    "grouped_fusioned_data.head()"
   ]
  },
  {
   "cell_type": "markdown",
   "metadata": {},
   "source": [
    "Compute probability"
   ]
  },
  {
   "cell_type": "code",
   "execution_count": 596,
   "metadata": {
    "collapsed": false
   },
   "outputs": [
    {
     "data": {
      "text/html": [
       "<div>\n",
       "<table border=\"1\" class=\"dataframe\">\n",
       "  <thead>\n",
       "    <tr style=\"text-align: right;\">\n",
       "      <th></th>\n",
       "      <th>id</th>\n",
       "      <th>German</th>\n",
       "      <th>French</th>\n",
       "      <th>Italian</th>\n",
       "      <th>Romansh</th>\n",
       "    </tr>\n",
       "  </thead>\n",
       "  <tbody>\n",
       "    <tr>\n",
       "      <th>0</th>\n",
       "      <td>1</td>\n",
       "      <td>98.7413</td>\n",
       "      <td>0.8392</td>\n",
       "      <td>0.3497</td>\n",
       "      <td>0.0699</td>\n",
       "    </tr>\n",
       "    <tr>\n",
       "      <th>1</th>\n",
       "      <td>2</td>\n",
       "      <td>98.4714</td>\n",
       "      <td>0.7916</td>\n",
       "      <td>0.5596</td>\n",
       "      <td>0.1774</td>\n",
       "    </tr>\n",
       "    <tr>\n",
       "      <th>2</th>\n",
       "      <td>3</td>\n",
       "      <td>97.9994</td>\n",
       "      <td>0.8659</td>\n",
       "      <td>0.8062</td>\n",
       "      <td>0.3285</td>\n",
       "    </tr>\n",
       "    <tr>\n",
       "      <th>3</th>\n",
       "      <td>4</td>\n",
       "      <td>98.7952</td>\n",
       "      <td>0.5842</td>\n",
       "      <td>0.5842</td>\n",
       "      <td>0.0365</td>\n",
       "    </tr>\n",
       "    <tr>\n",
       "      <th>4</th>\n",
       "      <td>5</td>\n",
       "      <td>98.0949</td>\n",
       "      <td>0.8512</td>\n",
       "      <td>0.6891</td>\n",
       "      <td>0.3648</td>\n",
       "    </tr>\n",
       "  </tbody>\n",
       "</table>\n",
       "</div>"
      ],
      "text/plain": [
       "   id   German  French  Italian  Romansh\n",
       "0   1  98.7413  0.8392   0.3497   0.0699\n",
       "1   2  98.4714  0.7916   0.5596   0.1774\n",
       "2   3  97.9994  0.8659   0.8062   0.3285\n",
       "3   4  98.7952  0.5842   0.5842   0.0365\n",
       "4   5  98.0949  0.8512   0.6891   0.3648"
      ]
     },
     "execution_count": 596,
     "metadata": {},
     "output_type": "execute_result"
    }
   ],
   "source": [
    "denom = grouped_fusioned_data[['German', 'French', 'Italian', 'Romansh']].sum(axis=1)\n",
    "\n",
    "for col in grouped_fusioned_data.columns[1:]:\n",
    "    grouped_fusioned_data[col] = grouped_fusioned_data[col]/denom *100\n",
    "grouped_fusioned_data = grouped_fusioned_data.round(4) \n",
    "grouped_fusioned_data.head()"
   ]
  },
  {
   "cell_type": "code",
   "execution_count": 597,
   "metadata": {
    "collapsed": false
   },
   "outputs": [],
   "source": [
    "grouped_fusioned_data['Main Language'] = grouped_fusioned_data.apply(lambda row: np.argmax(row[1:]),axis=1)    "
   ]
  },
  {
   "cell_type": "code",
   "execution_count": 598,
   "metadata": {
    "collapsed": false
   },
   "outputs": [
    {
     "data": {
      "text/html": [
       "<div>\n",
       "<table border=\"1\" class=\"dataframe\">\n",
       "  <thead>\n",
       "    <tr style=\"text-align: right;\">\n",
       "      <th></th>\n",
       "      <th>id</th>\n",
       "      <th>German</th>\n",
       "      <th>French</th>\n",
       "      <th>Italian</th>\n",
       "      <th>Romansh</th>\n",
       "      <th>Main Language</th>\n",
       "    </tr>\n",
       "  </thead>\n",
       "  <tbody>\n",
       "    <tr>\n",
       "      <th>0</th>\n",
       "      <td>1</td>\n",
       "      <td>98.7413</td>\n",
       "      <td>0.8392</td>\n",
       "      <td>0.3497</td>\n",
       "      <td>0.0699</td>\n",
       "      <td>German</td>\n",
       "    </tr>\n",
       "    <tr>\n",
       "      <th>1</th>\n",
       "      <td>2</td>\n",
       "      <td>98.4714</td>\n",
       "      <td>0.7916</td>\n",
       "      <td>0.5596</td>\n",
       "      <td>0.1774</td>\n",
       "      <td>German</td>\n",
       "    </tr>\n",
       "    <tr>\n",
       "      <th>2</th>\n",
       "      <td>3</td>\n",
       "      <td>97.9994</td>\n",
       "      <td>0.8659</td>\n",
       "      <td>0.8062</td>\n",
       "      <td>0.3285</td>\n",
       "      <td>German</td>\n",
       "    </tr>\n",
       "    <tr>\n",
       "      <th>3</th>\n",
       "      <td>4</td>\n",
       "      <td>98.7952</td>\n",
       "      <td>0.5842</td>\n",
       "      <td>0.5842</td>\n",
       "      <td>0.0365</td>\n",
       "      <td>German</td>\n",
       "    </tr>\n",
       "    <tr>\n",
       "      <th>4</th>\n",
       "      <td>5</td>\n",
       "      <td>98.0949</td>\n",
       "      <td>0.8512</td>\n",
       "      <td>0.6891</td>\n",
       "      <td>0.3648</td>\n",
       "      <td>German</td>\n",
       "    </tr>\n",
       "  </tbody>\n",
       "</table>\n",
       "</div>"
      ],
      "text/plain": [
       "   id   German  French  Italian  Romansh Main Language\n",
       "0   1  98.7413  0.8392   0.3497   0.0699        German\n",
       "1   2  98.4714  0.7916   0.5596   0.1774        German\n",
       "2   3  97.9994  0.8659   0.8062   0.3285        German\n",
       "3   4  98.7952  0.5842   0.5842   0.0365        German\n",
       "4   5  98.0949  0.8512   0.6891   0.3648        German"
      ]
     },
     "execution_count": 598,
     "metadata": {},
     "output_type": "execute_result"
    }
   ],
   "source": [
    "grouped_fusioned_data.head()"
   ]
  },
  {
   "cell_type": "code",
   "execution_count": 599,
   "metadata": {
    "collapsed": false
   },
   "outputs": [
    {
     "data": {
      "text/html": [
       "<div>\n",
       "<table border=\"1\" class=\"dataframe\">\n",
       "  <thead>\n",
       "    <tr style=\"text-align: right;\">\n",
       "      <th></th>\n",
       "      <th>German</th>\n",
       "      <th>French</th>\n",
       "      <th>Italian</th>\n",
       "      <th>Romansh</th>\n",
       "      <th>Main Language</th>\n",
       "    </tr>\n",
       "    <tr>\n",
       "      <th>id</th>\n",
       "      <th></th>\n",
       "      <th></th>\n",
       "      <th></th>\n",
       "      <th></th>\n",
       "      <th></th>\n",
       "    </tr>\n",
       "  </thead>\n",
       "  <tbody>\n",
       "    <tr>\n",
       "      <th>1</th>\n",
       "      <td>98.7413</td>\n",
       "      <td>0.8392</td>\n",
       "      <td>0.3497</td>\n",
       "      <td>0.0699</td>\n",
       "      <td>German</td>\n",
       "    </tr>\n",
       "    <tr>\n",
       "      <th>2</th>\n",
       "      <td>98.4714</td>\n",
       "      <td>0.7916</td>\n",
       "      <td>0.5596</td>\n",
       "      <td>0.1774</td>\n",
       "      <td>German</td>\n",
       "    </tr>\n",
       "    <tr>\n",
       "      <th>3</th>\n",
       "      <td>97.9994</td>\n",
       "      <td>0.8659</td>\n",
       "      <td>0.8062</td>\n",
       "      <td>0.3285</td>\n",
       "      <td>German</td>\n",
       "    </tr>\n",
       "    <tr>\n",
       "      <th>4</th>\n",
       "      <td>98.7952</td>\n",
       "      <td>0.5842</td>\n",
       "      <td>0.5842</td>\n",
       "      <td>0.0365</td>\n",
       "      <td>German</td>\n",
       "    </tr>\n",
       "    <tr>\n",
       "      <th>5</th>\n",
       "      <td>98.0949</td>\n",
       "      <td>0.8512</td>\n",
       "      <td>0.6891</td>\n",
       "      <td>0.3648</td>\n",
       "      <td>German</td>\n",
       "    </tr>\n",
       "  </tbody>\n",
       "</table>\n",
       "</div>"
      ],
      "text/plain": [
       "     German  French  Italian  Romansh Main Language\n",
       "id                                                 \n",
       "1   98.7413  0.8392   0.3497   0.0699        German\n",
       "2   98.4714  0.7916   0.5596   0.1774        German\n",
       "3   97.9994  0.8659   0.8062   0.3285        German\n",
       "4   98.7952  0.5842   0.5842   0.0365        German\n",
       "5   98.0949  0.8512   0.6891   0.3648        German"
      ]
     },
     "execution_count": 599,
     "metadata": {},
     "output_type": "execute_result"
    }
   ],
   "source": [
    "grouped_fusioned_data.set_index('id', inplace=True)\n",
    "grouped_fusioned_data.head()"
   ]
  },
  {
   "cell_type": "code",
   "execution_count": 600,
   "metadata": {
    "collapsed": true
   },
   "outputs": [],
   "source": [
    "grouped_fusioned_data.to_csv(\"../../municipalities/2013/cleaned_language.csv\", index='id')\n",
    "grouped_fusioned_data.to_csv(\"../../municipalities/2014/cleaned_language.csv\", index='id')\n",
    "grouped_fusioned_data.to_csv(\"../../municipalities/2015/cleaned_language.csv\", index='id')\n",
    "grouped_fusioned_data.to_csv(\"../../municipalities/2016/cleaned_language.csv\", index='id')"
   ]
  },
  {
   "cell_type": "code",
   "execution_count": null,
   "metadata": {
    "collapsed": true
   },
   "outputs": [],
   "source": []
  }
 ],
 "metadata": {
  "anaconda-cloud": {},
  "kernelspec": {
   "display_name": "Python [conda root]",
   "language": "python",
   "name": "conda-root-py"
  },
  "language_info": {
   "codemirror_mode": {
    "name": "ipython",
    "version": 3
   },
   "file_extension": ".py",
   "mimetype": "text/x-python",
   "name": "python",
   "nbconvert_exporter": "python",
   "pygments_lexer": "ipython3",
   "version": "3.5.2"
  }
 },
 "nbformat": 4,
 "nbformat_minor": 0
}
