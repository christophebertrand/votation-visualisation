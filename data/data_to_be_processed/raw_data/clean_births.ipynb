{
 "cells": [
  {
   "cell_type": "code",
   "execution_count": 1,
   "metadata": {
    "collapsed": true
   },
   "outputs": [],
   "source": [
    "# imports\n",
    "import pandas as pd\n",
    "import numpy as np\n",
    "import seaborn as sns\n",
    "import matplotlib.pyplot as plt\n",
    "from matplotlib.pyplot import show\n",
    "\n",
    "%matplotlib inline\n",
    "sns.set_context('notebook')\n",
    "pd.options.mode.chained_assignment = None  # default='warn'\n",
    "pd.set_option('display.max_columns', 500) # show more columns\n",
    "nan = np.nan # store numpy.nan in 'nan'"
   ]
  },
  {
   "cell_type": "code",
   "execution_count": 2,
   "metadata": {
    "collapsed": false
   },
   "outputs": [],
   "source": [
    "raw_data1 = pd.read_csv('births_over30_utf8_raw.csv', sep=';', header=1)\n",
    "raw_data2 = pd.read_csv('births_total_sub30_utf8_raw.csv', sep=';', header=1)\n",
    "raw_data1.drop('Staatsangehörigkeit des Kindes', axis=1, inplace=True)\n",
    "raw_data2.drop('Staatsangehörigkeit des Kindes', axis=1, inplace=True)\n",
    "# rename the columns\n",
    "d = {'Jahr':'year', 'Kanton (-) / Bezirk (>>) / Gemeinde (......)': 'commune_name', \n",
    "                   'Geschlecht des Kindes':'kid_gender',\n",
    "                   '30-34 Jahre':'mother age 30-34',\n",
    "                   '35-39 Jahre':'mother age 35-39', \n",
    "                   '40 Jahre und mehr':'mother age 40-99',\n",
    "                   'Unter 25 Jahren':'mother age 0-25',\n",
    "                    '25-29 Jahre':'mother age 25-29',\n",
    "                    'Altersklasse der Mutter - Total': 'total births'}\n",
    "raw_data1.rename(columns=d, inplace=True)\n",
    "raw_data2.rename(columns=d, inplace=True)\n"
   ]
  },
  {
   "cell_type": "code",
   "execution_count": 3,
   "metadata": {
    "collapsed": false
   },
   "outputs": [
    {
     "data": {
      "text/html": [
       "<div>\n",
       "<table border=\"1\" class=\"dataframe\">\n",
       "  <thead>\n",
       "    <tr style=\"text-align: right;\">\n",
       "      <th></th>\n",
       "      <th>year</th>\n",
       "      <th>commune_name</th>\n",
       "      <th>kid_gender</th>\n",
       "      <th>mother age 30-34</th>\n",
       "      <th>mother age 35-39</th>\n",
       "      <th>mother age 40-99</th>\n",
       "    </tr>\n",
       "  </thead>\n",
       "  <tbody>\n",
       "    <tr>\n",
       "      <th>0</th>\n",
       "      <td>2013</td>\n",
       "      <td>Schweiz</td>\n",
       "      <td>Knabe</td>\n",
       "      <td>16150</td>\n",
       "      <td>10101</td>\n",
       "      <td>2567</td>\n",
       "    </tr>\n",
       "    <tr>\n",
       "      <th>1</th>\n",
       "      <td>2013</td>\n",
       "      <td>Schweiz</td>\n",
       "      <td>Mädchen</td>\n",
       "      <td>14950</td>\n",
       "      <td>9734</td>\n",
       "      <td>2547</td>\n",
       "    </tr>\n",
       "    <tr>\n",
       "      <th>2</th>\n",
       "      <td>2013</td>\n",
       "      <td>- Zürich</td>\n",
       "      <td>Knabe</td>\n",
       "      <td>3091</td>\n",
       "      <td>2324</td>\n",
       "      <td>550</td>\n",
       "    </tr>\n",
       "    <tr>\n",
       "      <th>3</th>\n",
       "      <td>2013</td>\n",
       "      <td>- Zürich</td>\n",
       "      <td>Mädchen</td>\n",
       "      <td>2817</td>\n",
       "      <td>2224</td>\n",
       "      <td>608</td>\n",
       "    </tr>\n",
       "    <tr>\n",
       "      <th>4</th>\n",
       "      <td>2013</td>\n",
       "      <td>&gt;&gt; Bezirk Affoltern</td>\n",
       "      <td>Knabe</td>\n",
       "      <td>111</td>\n",
       "      <td>84</td>\n",
       "      <td>18</td>\n",
       "    </tr>\n",
       "  </tbody>\n",
       "</table>\n",
       "</div>"
      ],
      "text/plain": [
       "   year         commune_name kid_gender  mother age 30-34  mother age 35-39  \\\n",
       "0  2013              Schweiz      Knabe             16150             10101   \n",
       "1  2013              Schweiz    Mädchen             14950              9734   \n",
       "2  2013             - Zürich      Knabe              3091              2324   \n",
       "3  2013             - Zürich    Mädchen              2817              2224   \n",
       "4  2013  >> Bezirk Affoltern      Knabe               111                84   \n",
       "\n",
       "   mother age 40-99  \n",
       "0              2567  \n",
       "1              2547  \n",
       "2               550  \n",
       "3               608  \n",
       "4                18  "
      ]
     },
     "execution_count": 3,
     "metadata": {},
     "output_type": "execute_result"
    }
   ],
   "source": [
    "raw_data1.head()"
   ]
  },
  {
   "cell_type": "code",
   "execution_count": 4,
   "metadata": {
    "collapsed": false
   },
   "outputs": [
    {
     "data": {
      "text/html": [
       "<div>\n",
       "<table border=\"1\" class=\"dataframe\">\n",
       "  <thead>\n",
       "    <tr style=\"text-align: right;\">\n",
       "      <th></th>\n",
       "      <th>year</th>\n",
       "      <th>commune_name</th>\n",
       "      <th>kid_gender</th>\n",
       "      <th>total births</th>\n",
       "      <th>mother age 0-25</th>\n",
       "      <th>mother age 25-29</th>\n",
       "    </tr>\n",
       "  </thead>\n",
       "  <tbody>\n",
       "    <tr>\n",
       "      <th>0</th>\n",
       "      <td>2013</td>\n",
       "      <td>Schweiz</td>\n",
       "      <td>Knabe</td>\n",
       "      <td>42595</td>\n",
       "      <td>3448</td>\n",
       "      <td>10329</td>\n",
       "    </tr>\n",
       "    <tr>\n",
       "      <th>1</th>\n",
       "      <td>2013</td>\n",
       "      <td>Schweiz</td>\n",
       "      <td>Mädchen</td>\n",
       "      <td>40136</td>\n",
       "      <td>3257</td>\n",
       "      <td>9648</td>\n",
       "    </tr>\n",
       "    <tr>\n",
       "      <th>2</th>\n",
       "      <td>2013</td>\n",
       "      <td>- Zürich</td>\n",
       "      <td>Knabe</td>\n",
       "      <td>8195</td>\n",
       "      <td>574</td>\n",
       "      <td>1656</td>\n",
       "    </tr>\n",
       "    <tr>\n",
       "      <th>3</th>\n",
       "      <td>2013</td>\n",
       "      <td>- Zürich</td>\n",
       "      <td>Mädchen</td>\n",
       "      <td>7801</td>\n",
       "      <td>550</td>\n",
       "      <td>1602</td>\n",
       "    </tr>\n",
       "    <tr>\n",
       "      <th>4</th>\n",
       "      <td>2013</td>\n",
       "      <td>&gt;&gt; Bezirk Affoltern</td>\n",
       "      <td>Knabe</td>\n",
       "      <td>274</td>\n",
       "      <td>20</td>\n",
       "      <td>41</td>\n",
       "    </tr>\n",
       "  </tbody>\n",
       "</table>\n",
       "</div>"
      ],
      "text/plain": [
       "   year         commune_name kid_gender  total births  mother age 0-25  \\\n",
       "0  2013              Schweiz      Knabe         42595             3448   \n",
       "1  2013              Schweiz    Mädchen         40136             3257   \n",
       "2  2013             - Zürich      Knabe          8195              574   \n",
       "3  2013             - Zürich    Mädchen          7801              550   \n",
       "4  2013  >> Bezirk Affoltern      Knabe           274               20   \n",
       "\n",
       "   mother age 25-29  \n",
       "0             10329  \n",
       "1              9648  \n",
       "2              1656  \n",
       "3              1602  \n",
       "4                41  "
      ]
     },
     "execution_count": 4,
     "metadata": {},
     "output_type": "execute_result"
    }
   ],
   "source": [
    "raw_data2.head()"
   ]
  },
  {
   "cell_type": "code",
   "execution_count": 5,
   "metadata": {
    "collapsed": false
   },
   "outputs": [],
   "source": [
    "# remove cantons and bezirk and remove '......' from names\n",
    "def _remove_dots(row):\n",
    "    return row['commune_name'].replace('......', '')\n",
    "def _keep_only_communes(df):\n",
    "    tmp = df[df['commune_name'].str.find('......') >= 0]\n",
    "    tmp['commune_name'] = tmp.apply(_remove_dots, axis=1)\n",
    "    return tmp\n"
   ]
  },
  {
   "cell_type": "code",
   "execution_count": 6,
   "metadata": {
    "collapsed": false
   },
   "outputs": [],
   "source": [
    "raw_data1 = _keep_only_communes(raw_data1)\n",
    "raw_data2 = _keep_only_communes(raw_data2)"
   ]
  },
  {
   "cell_type": "code",
   "execution_count": 7,
   "metadata": {
    "collapsed": false
   },
   "outputs": [
    {
     "data": {
      "text/html": [
       "<div>\n",
       "<table border=\"1\" class=\"dataframe\">\n",
       "  <thead>\n",
       "    <tr style=\"text-align: right;\">\n",
       "      <th></th>\n",
       "      <th>year</th>\n",
       "      <th>commune_name</th>\n",
       "      <th>kid_gender</th>\n",
       "      <th>mother age 30-34</th>\n",
       "      <th>mother age 35-39</th>\n",
       "      <th>mother age 40-99</th>\n",
       "      <th>total births</th>\n",
       "      <th>mother age 0-25</th>\n",
       "      <th>mother age 25-29</th>\n",
       "    </tr>\n",
       "  </thead>\n",
       "  <tbody>\n",
       "    <tr>\n",
       "      <th>0</th>\n",
       "      <td>2013</td>\n",
       "      <td>0001 Aeugst am Albis</td>\n",
       "      <td>Knabe</td>\n",
       "      <td>4</td>\n",
       "      <td>5</td>\n",
       "      <td>1</td>\n",
       "      <td>11</td>\n",
       "      <td>0</td>\n",
       "      <td>1</td>\n",
       "    </tr>\n",
       "    <tr>\n",
       "      <th>1</th>\n",
       "      <td>2013</td>\n",
       "      <td>0001 Aeugst am Albis</td>\n",
       "      <td>Mädchen</td>\n",
       "      <td>4</td>\n",
       "      <td>2</td>\n",
       "      <td>1</td>\n",
       "      <td>8</td>\n",
       "      <td>0</td>\n",
       "      <td>1</td>\n",
       "    </tr>\n",
       "    <tr>\n",
       "      <th>2</th>\n",
       "      <td>2013</td>\n",
       "      <td>0002 Affoltern am Albis</td>\n",
       "      <td>Knabe</td>\n",
       "      <td>17</td>\n",
       "      <td>14</td>\n",
       "      <td>7</td>\n",
       "      <td>61</td>\n",
       "      <td>7</td>\n",
       "      <td>16</td>\n",
       "    </tr>\n",
       "    <tr>\n",
       "      <th>3</th>\n",
       "      <td>2013</td>\n",
       "      <td>0002 Affoltern am Albis</td>\n",
       "      <td>Mädchen</td>\n",
       "      <td>16</td>\n",
       "      <td>12</td>\n",
       "      <td>0</td>\n",
       "      <td>46</td>\n",
       "      <td>4</td>\n",
       "      <td>14</td>\n",
       "    </tr>\n",
       "    <tr>\n",
       "      <th>4</th>\n",
       "      <td>2013</td>\n",
       "      <td>0003 Bonstetten</td>\n",
       "      <td>Knabe</td>\n",
       "      <td>15</td>\n",
       "      <td>9</td>\n",
       "      <td>0</td>\n",
       "      <td>28</td>\n",
       "      <td>2</td>\n",
       "      <td>2</td>\n",
       "    </tr>\n",
       "  </tbody>\n",
       "</table>\n",
       "</div>"
      ],
      "text/plain": [
       "   year             commune_name kid_gender  mother age 30-34  \\\n",
       "0  2013     0001 Aeugst am Albis      Knabe                 4   \n",
       "1  2013     0001 Aeugst am Albis    Mädchen                 4   \n",
       "2  2013  0002 Affoltern am Albis      Knabe                17   \n",
       "3  2013  0002 Affoltern am Albis    Mädchen                16   \n",
       "4  2013          0003 Bonstetten      Knabe                15   \n",
       "\n",
       "   mother age 35-39  mother age 40-99  total births  mother age 0-25  \\\n",
       "0                 5                 1            11                0   \n",
       "1                 2                 1             8                0   \n",
       "2                14                 7            61                7   \n",
       "3                12                 0            46                4   \n",
       "4                 9                 0            28                2   \n",
       "\n",
       "   mother age 25-29  \n",
       "0                 1  \n",
       "1                 1  \n",
       "2                16  \n",
       "3                14  \n",
       "4                 2  "
      ]
     },
     "execution_count": 7,
     "metadata": {},
     "output_type": "execute_result"
    }
   ],
   "source": [
    "# merge the two datasets\n",
    "data = raw_data1.merge(raw_data2, on=['year', 'commune_name', 'kid_gender'])\n",
    "data.head()"
   ]
  },
  {
   "cell_type": "code",
   "execution_count": 8,
   "metadata": {
    "collapsed": true
   },
   "outputs": [],
   "source": [
    "# parse commune_id\n",
    "def _parse_commune_id(row):\n",
    "    return int(row['commune_name'].split()[0])\n",
    "\n",
    "def _remove_id_from_name(row):\n",
    "    return ' '.join(row['commune_name'].split()[1:])"
   ]
  },
  {
   "cell_type": "code",
   "execution_count": 9,
   "metadata": {
    "collapsed": false
   },
   "outputs": [
    {
     "data": {
      "text/html": [
       "<div>\n",
       "<table border=\"1\" class=\"dataframe\">\n",
       "  <thead>\n",
       "    <tr style=\"text-align: right;\">\n",
       "      <th></th>\n",
       "      <th>year</th>\n",
       "      <th>commune_name</th>\n",
       "      <th>kid_gender</th>\n",
       "      <th>mother age 30-34</th>\n",
       "      <th>mother age 35-39</th>\n",
       "      <th>mother age 40-99</th>\n",
       "      <th>total births</th>\n",
       "      <th>mother age 0-25</th>\n",
       "      <th>mother age 25-29</th>\n",
       "      <th>id</th>\n",
       "    </tr>\n",
       "  </thead>\n",
       "  <tbody>\n",
       "    <tr>\n",
       "      <th>0</th>\n",
       "      <td>2013</td>\n",
       "      <td>Aeugst am Albis</td>\n",
       "      <td>Knabe</td>\n",
       "      <td>4</td>\n",
       "      <td>5</td>\n",
       "      <td>1</td>\n",
       "      <td>11</td>\n",
       "      <td>0</td>\n",
       "      <td>1</td>\n",
       "      <td>1</td>\n",
       "    </tr>\n",
       "    <tr>\n",
       "      <th>1</th>\n",
       "      <td>2013</td>\n",
       "      <td>Aeugst am Albis</td>\n",
       "      <td>Mädchen</td>\n",
       "      <td>4</td>\n",
       "      <td>2</td>\n",
       "      <td>1</td>\n",
       "      <td>8</td>\n",
       "      <td>0</td>\n",
       "      <td>1</td>\n",
       "      <td>1</td>\n",
       "    </tr>\n",
       "    <tr>\n",
       "      <th>2</th>\n",
       "      <td>2013</td>\n",
       "      <td>Affoltern am Albis</td>\n",
       "      <td>Knabe</td>\n",
       "      <td>17</td>\n",
       "      <td>14</td>\n",
       "      <td>7</td>\n",
       "      <td>61</td>\n",
       "      <td>7</td>\n",
       "      <td>16</td>\n",
       "      <td>2</td>\n",
       "    </tr>\n",
       "    <tr>\n",
       "      <th>3</th>\n",
       "      <td>2013</td>\n",
       "      <td>Affoltern am Albis</td>\n",
       "      <td>Mädchen</td>\n",
       "      <td>16</td>\n",
       "      <td>12</td>\n",
       "      <td>0</td>\n",
       "      <td>46</td>\n",
       "      <td>4</td>\n",
       "      <td>14</td>\n",
       "      <td>2</td>\n",
       "    </tr>\n",
       "    <tr>\n",
       "      <th>4</th>\n",
       "      <td>2013</td>\n",
       "      <td>Bonstetten</td>\n",
       "      <td>Knabe</td>\n",
       "      <td>15</td>\n",
       "      <td>9</td>\n",
       "      <td>0</td>\n",
       "      <td>28</td>\n",
       "      <td>2</td>\n",
       "      <td>2</td>\n",
       "      <td>3</td>\n",
       "    </tr>\n",
       "  </tbody>\n",
       "</table>\n",
       "</div>"
      ],
      "text/plain": [
       "   year        commune_name kid_gender  mother age 30-34  mother age 35-39  \\\n",
       "0  2013     Aeugst am Albis      Knabe                 4                 5   \n",
       "1  2013     Aeugst am Albis    Mädchen                 4                 2   \n",
       "2  2013  Affoltern am Albis      Knabe                17                14   \n",
       "3  2013  Affoltern am Albis    Mädchen                16                12   \n",
       "4  2013          Bonstetten      Knabe                15                 9   \n",
       "\n",
       "   mother age 40-99  total births  mother age 0-25  mother age 25-29  id  \n",
       "0                 1            11                0                 1   1  \n",
       "1                 1             8                0                 1   1  \n",
       "2                 7            61                7                16   2  \n",
       "3                 0            46                4                14   2  \n",
       "4                 0            28                2                 2   3  "
      ]
     },
     "execution_count": 9,
     "metadata": {},
     "output_type": "execute_result"
    }
   ],
   "source": [
    "data['id'] = data.apply(_parse_commune_id, axis=1)\n",
    "data['commune_name'] = data.apply(_remove_id_from_name, axis=1)\n",
    "data.head()"
   ]
  },
  {
   "cell_type": "code",
   "execution_count": 10,
   "metadata": {
    "collapsed": false
   },
   "outputs": [
    {
     "data": {
      "text/html": [
       "<div>\n",
       "<table border=\"1\" class=\"dataframe\">\n",
       "  <thead>\n",
       "    <tr style=\"text-align: right;\">\n",
       "      <th></th>\n",
       "      <th>year</th>\n",
       "      <th>commune_name</th>\n",
       "      <th>id</th>\n",
       "      <th>mother age 30-34</th>\n",
       "      <th>mother age 35-39</th>\n",
       "      <th>mother age 40-99</th>\n",
       "      <th>total births</th>\n",
       "      <th>mother age 0-25</th>\n",
       "      <th>mother age 25-29</th>\n",
       "    </tr>\n",
       "  </thead>\n",
       "  <tbody>\n",
       "    <tr>\n",
       "      <th>0</th>\n",
       "      <td>2013</td>\n",
       "      <td>Aadorf</td>\n",
       "      <td>4551</td>\n",
       "      <td>32</td>\n",
       "      <td>23</td>\n",
       "      <td>3</td>\n",
       "      <td>89</td>\n",
       "      <td>7</td>\n",
       "      <td>24</td>\n",
       "    </tr>\n",
       "    <tr>\n",
       "      <th>1</th>\n",
       "      <td>2013</td>\n",
       "      <td>Aarau</td>\n",
       "      <td>4001</td>\n",
       "      <td>89</td>\n",
       "      <td>64</td>\n",
       "      <td>14</td>\n",
       "      <td>224</td>\n",
       "      <td>6</td>\n",
       "      <td>51</td>\n",
       "    </tr>\n",
       "    <tr>\n",
       "      <th>2</th>\n",
       "      <td>2013</td>\n",
       "      <td>Aarberg</td>\n",
       "      <td>301</td>\n",
       "      <td>17</td>\n",
       "      <td>8</td>\n",
       "      <td>1</td>\n",
       "      <td>38</td>\n",
       "      <td>4</td>\n",
       "      <td>8</td>\n",
       "    </tr>\n",
       "    <tr>\n",
       "      <th>3</th>\n",
       "      <td>2013</td>\n",
       "      <td>Aarburg</td>\n",
       "      <td>4271</td>\n",
       "      <td>29</td>\n",
       "      <td>11</td>\n",
       "      <td>2</td>\n",
       "      <td>78</td>\n",
       "      <td>7</td>\n",
       "      <td>29</td>\n",
       "    </tr>\n",
       "    <tr>\n",
       "      <th>4</th>\n",
       "      <td>2013</td>\n",
       "      <td>Aarwangen</td>\n",
       "      <td>321</td>\n",
       "      <td>8</td>\n",
       "      <td>10</td>\n",
       "      <td>2</td>\n",
       "      <td>33</td>\n",
       "      <td>5</td>\n",
       "      <td>8</td>\n",
       "    </tr>\n",
       "  </tbody>\n",
       "</table>\n",
       "</div>"
      ],
      "text/plain": [
       "   year commune_name    id  mother age 30-34  mother age 35-39  \\\n",
       "0  2013       Aadorf  4551                32                23   \n",
       "1  2013        Aarau  4001                89                64   \n",
       "2  2013      Aarberg   301                17                 8   \n",
       "3  2013      Aarburg  4271                29                11   \n",
       "4  2013    Aarwangen   321                 8                10   \n",
       "\n",
       "   mother age 40-99  total births  mother age 0-25  mother age 25-29  \n",
       "0                 3            89                7                24  \n",
       "1                14           224                6                51  \n",
       "2                 1            38                4                 8  \n",
       "3                 2            78                7                29  \n",
       "4                 2            33                5                 8  "
      ]
     },
     "execution_count": 10,
     "metadata": {},
     "output_type": "execute_result"
    }
   ],
   "source": [
    "data = data.groupby(by=['year', 'commune_name', 'id'], as_index=False).sum()\n",
    "data.head()"
   ]
  },
  {
   "cell_type": "code",
   "execution_count": 11,
   "metadata": {
    "collapsed": false
   },
   "outputs": [],
   "source": [
    "#split years:\n",
    "def _split_years(year):\n",
    "    return data[data['year'] == year]\n",
    "data2013 = _split_years(2013)\n",
    "data2014 = _split_years(2014)\n",
    "data2015 = _split_years(2015)\n",
    "data2013.drop('year', axis=1, inplace=True)\n",
    "data2014.drop('year', axis=1, inplace=True)\n",
    "data2015.drop('year', axis=1, inplace=True)"
   ]
  },
  {
   "cell_type": "code",
   "execution_count": 12,
   "metadata": {
    "collapsed": false
   },
   "outputs": [
    {
     "data": {
      "text/html": [
       "<div>\n",
       "<table border=\"1\" class=\"dataframe\">\n",
       "  <thead>\n",
       "    <tr style=\"text-align: right;\">\n",
       "      <th></th>\n",
       "      <th>commune_name</th>\n",
       "      <th>id</th>\n",
       "      <th>mother age 30-34</th>\n",
       "      <th>mother age 35-39</th>\n",
       "      <th>mother age 40-99</th>\n",
       "      <th>total births</th>\n",
       "      <th>mother age 0-25</th>\n",
       "      <th>mother age 25-29</th>\n",
       "    </tr>\n",
       "  </thead>\n",
       "  <tbody>\n",
       "    <tr>\n",
       "      <th>0</th>\n",
       "      <td>Aadorf</td>\n",
       "      <td>4551</td>\n",
       "      <td>32</td>\n",
       "      <td>23</td>\n",
       "      <td>3</td>\n",
       "      <td>89</td>\n",
       "      <td>7</td>\n",
       "      <td>24</td>\n",
       "    </tr>\n",
       "    <tr>\n",
       "      <th>1</th>\n",
       "      <td>Aarau</td>\n",
       "      <td>4001</td>\n",
       "      <td>89</td>\n",
       "      <td>64</td>\n",
       "      <td>14</td>\n",
       "      <td>224</td>\n",
       "      <td>6</td>\n",
       "      <td>51</td>\n",
       "    </tr>\n",
       "    <tr>\n",
       "      <th>2</th>\n",
       "      <td>Aarberg</td>\n",
       "      <td>301</td>\n",
       "      <td>17</td>\n",
       "      <td>8</td>\n",
       "      <td>1</td>\n",
       "      <td>38</td>\n",
       "      <td>4</td>\n",
       "      <td>8</td>\n",
       "    </tr>\n",
       "    <tr>\n",
       "      <th>3</th>\n",
       "      <td>Aarburg</td>\n",
       "      <td>4271</td>\n",
       "      <td>29</td>\n",
       "      <td>11</td>\n",
       "      <td>2</td>\n",
       "      <td>78</td>\n",
       "      <td>7</td>\n",
       "      <td>29</td>\n",
       "    </tr>\n",
       "    <tr>\n",
       "      <th>4</th>\n",
       "      <td>Aarwangen</td>\n",
       "      <td>321</td>\n",
       "      <td>8</td>\n",
       "      <td>10</td>\n",
       "      <td>2</td>\n",
       "      <td>33</td>\n",
       "      <td>5</td>\n",
       "      <td>8</td>\n",
       "    </tr>\n",
       "  </tbody>\n",
       "</table>\n",
       "</div>"
      ],
      "text/plain": [
       "  commune_name    id  mother age 30-34  mother age 35-39  mother age 40-99  \\\n",
       "0       Aadorf  4551                32                23                 3   \n",
       "1        Aarau  4001                89                64                14   \n",
       "2      Aarberg   301                17                 8                 1   \n",
       "3      Aarburg  4271                29                11                 2   \n",
       "4    Aarwangen   321                 8                10                 2   \n",
       "\n",
       "   total births  mother age 0-25  mother age 25-29  \n",
       "0            89                7                24  \n",
       "1           224                6                51  \n",
       "2            38                4                 8  \n",
       "3            78                7                29  \n",
       "4            33                5                 8  "
      ]
     },
     "execution_count": 12,
     "metadata": {},
     "output_type": "execute_result"
    }
   ],
   "source": [
    "data2013.head()"
   ]
  },
  {
   "cell_type": "code",
   "execution_count": 13,
   "metadata": {
    "collapsed": false
   },
   "outputs": [
    {
     "data": {
      "text/html": [
       "<div>\n",
       "<table border=\"1\" class=\"dataframe\">\n",
       "  <thead>\n",
       "    <tr style=\"text-align: right;\">\n",
       "      <th></th>\n",
       "      <th>commune_name</th>\n",
       "      <th>id</th>\n",
       "      <th>mother age 30-34</th>\n",
       "      <th>mother age 35-39</th>\n",
       "      <th>mother age 40-99</th>\n",
       "      <th>total births</th>\n",
       "      <th>mother age 0-25</th>\n",
       "      <th>mother age 25-29</th>\n",
       "    </tr>\n",
       "  </thead>\n",
       "  <tbody>\n",
       "    <tr>\n",
       "      <th>2324</th>\n",
       "      <td>Aadorf</td>\n",
       "      <td>4551</td>\n",
       "      <td>32</td>\n",
       "      <td>14</td>\n",
       "      <td>3</td>\n",
       "      <td>82</td>\n",
       "      <td>14</td>\n",
       "      <td>19</td>\n",
       "    </tr>\n",
       "    <tr>\n",
       "      <th>2325</th>\n",
       "      <td>Aarau</td>\n",
       "      <td>4001</td>\n",
       "      <td>102</td>\n",
       "      <td>61</td>\n",
       "      <td>14</td>\n",
       "      <td>232</td>\n",
       "      <td>12</td>\n",
       "      <td>43</td>\n",
       "    </tr>\n",
       "    <tr>\n",
       "      <th>2326</th>\n",
       "      <td>Aarberg</td>\n",
       "      <td>301</td>\n",
       "      <td>17</td>\n",
       "      <td>14</td>\n",
       "      <td>1</td>\n",
       "      <td>45</td>\n",
       "      <td>2</td>\n",
       "      <td>11</td>\n",
       "    </tr>\n",
       "    <tr>\n",
       "      <th>2327</th>\n",
       "      <td>Aarburg</td>\n",
       "      <td>4271</td>\n",
       "      <td>38</td>\n",
       "      <td>18</td>\n",
       "      <td>3</td>\n",
       "      <td>106</td>\n",
       "      <td>16</td>\n",
       "      <td>31</td>\n",
       "    </tr>\n",
       "    <tr>\n",
       "      <th>2328</th>\n",
       "      <td>Aarwangen</td>\n",
       "      <td>321</td>\n",
       "      <td>14</td>\n",
       "      <td>4</td>\n",
       "      <td>0</td>\n",
       "      <td>29</td>\n",
       "      <td>4</td>\n",
       "      <td>7</td>\n",
       "    </tr>\n",
       "  </tbody>\n",
       "</table>\n",
       "</div>"
      ],
      "text/plain": [
       "     commune_name    id  mother age 30-34  mother age 35-39  mother age 40-99  \\\n",
       "2324       Aadorf  4551                32                14                 3   \n",
       "2325        Aarau  4001               102                61                14   \n",
       "2326      Aarberg   301                17                14                 1   \n",
       "2327      Aarburg  4271                38                18                 3   \n",
       "2328    Aarwangen   321                14                 4                 0   \n",
       "\n",
       "      total births  mother age 0-25  mother age 25-29  \n",
       "2324            82               14                19  \n",
       "2325           232               12                43  \n",
       "2326            45                2                11  \n",
       "2327           106               16                31  \n",
       "2328            29                4                 7  "
      ]
     },
     "execution_count": 13,
     "metadata": {},
     "output_type": "execute_result"
    }
   ],
   "source": [
    "data2014.head()"
   ]
  },
  {
   "cell_type": "code",
   "execution_count": 14,
   "metadata": {
    "collapsed": false,
    "scrolled": true
   },
   "outputs": [
    {
     "data": {
      "text/html": [
       "<div>\n",
       "<table border=\"1\" class=\"dataframe\">\n",
       "  <thead>\n",
       "    <tr style=\"text-align: right;\">\n",
       "      <th></th>\n",
       "      <th>commune_name</th>\n",
       "      <th>id</th>\n",
       "      <th>mother age 30-34</th>\n",
       "      <th>mother age 35-39</th>\n",
       "      <th>mother age 40-99</th>\n",
       "      <th>total births</th>\n",
       "      <th>mother age 0-25</th>\n",
       "      <th>mother age 25-29</th>\n",
       "    </tr>\n",
       "  </thead>\n",
       "  <tbody>\n",
       "    <tr>\n",
       "      <th>4648</th>\n",
       "      <td>Aadorf</td>\n",
       "      <td>4551</td>\n",
       "      <td>37</td>\n",
       "      <td>16</td>\n",
       "      <td>4</td>\n",
       "      <td>92</td>\n",
       "      <td>9</td>\n",
       "      <td>26</td>\n",
       "    </tr>\n",
       "    <tr>\n",
       "      <th>4649</th>\n",
       "      <td>Aarau</td>\n",
       "      <td>4001</td>\n",
       "      <td>100</td>\n",
       "      <td>80</td>\n",
       "      <td>22</td>\n",
       "      <td>249</td>\n",
       "      <td>11</td>\n",
       "      <td>36</td>\n",
       "    </tr>\n",
       "    <tr>\n",
       "      <th>4650</th>\n",
       "      <td>Aarberg</td>\n",
       "      <td>301</td>\n",
       "      <td>22</td>\n",
       "      <td>11</td>\n",
       "      <td>3</td>\n",
       "      <td>46</td>\n",
       "      <td>2</td>\n",
       "      <td>8</td>\n",
       "    </tr>\n",
       "    <tr>\n",
       "      <th>4651</th>\n",
       "      <td>Aarburg</td>\n",
       "      <td>4271</td>\n",
       "      <td>27</td>\n",
       "      <td>12</td>\n",
       "      <td>5</td>\n",
       "      <td>88</td>\n",
       "      <td>15</td>\n",
       "      <td>29</td>\n",
       "    </tr>\n",
       "    <tr>\n",
       "      <th>4652</th>\n",
       "      <td>Aarwangen</td>\n",
       "      <td>321</td>\n",
       "      <td>12</td>\n",
       "      <td>11</td>\n",
       "      <td>1</td>\n",
       "      <td>43</td>\n",
       "      <td>2</td>\n",
       "      <td>17</td>\n",
       "    </tr>\n",
       "  </tbody>\n",
       "</table>\n",
       "</div>"
      ],
      "text/plain": [
       "     commune_name    id  mother age 30-34  mother age 35-39  mother age 40-99  \\\n",
       "4648       Aadorf  4551                37                16                 4   \n",
       "4649        Aarau  4001               100                80                22   \n",
       "4650      Aarberg   301                22                11                 3   \n",
       "4651      Aarburg  4271                27                12                 5   \n",
       "4652    Aarwangen   321                12                11                 1   \n",
       "\n",
       "      total births  mother age 0-25  mother age 25-29  \n",
       "4648            92                9                26  \n",
       "4649           249               11                36  \n",
       "4650            46                2                 8  \n",
       "4651            88               15                29  \n",
       "4652            43                2                17  "
      ]
     },
     "execution_count": 14,
     "metadata": {},
     "output_type": "execute_result"
    }
   ],
   "source": [
    "data2015.head()"
   ]
  },
  {
   "cell_type": "code",
   "execution_count": 27,
   "metadata": {
    "collapsed": false
   },
   "outputs": [
    {
     "data": {
      "text/plain": [
       "<matplotlib.legend.Legend at 0x7f86e91bcb00>"
      ]
     },
     "execution_count": 27,
     "metadata": {},
     "output_type": "execute_result"
    },
    {
     "data": {
      "image/png": "[encoded data removed]",
      "text/plain": [
       "<matplotlib.figure.Figure at 0x7f86e91af4e0>"
      ]
     },
     "metadata": {},
     "output_type": "display_data"
    }
   ],
   "source": [
    "for col in data2013.columns[3:]:\n",
    "    if col != 'total births':\n",
    "        plt.plot([data2013[col].sum(), data2014[col].sum(), data2015[col].sum()], label=col)\n",
    "plt.legend(loc='best' )"
   ]
  },
  {
   "cell_type": "code",
   "execution_count": 16,
   "metadata": {
    "collapsed": true
   },
   "outputs": [],
   "source": [
    "data2013.to_csv(\"../cleaned_data/2013/births2013.csv\", index=False)"
   ]
  },
  {
   "cell_type": "code",
   "execution_count": 17,
   "metadata": {
    "collapsed": true
   },
   "outputs": [],
   "source": [
    "data2014.to_csv(\"../cleaned_data/2014/births2014.csv\", index=False)"
   ]
  },
  {
   "cell_type": "code",
   "execution_count": 18,
   "metadata": {
    "collapsed": true
   },
   "outputs": [],
   "source": [
    "data2015.to_csv(\"../cleaned_data/2015/births2015.csv\", index=False)"
   ]
  },
  {
   "cell_type": "code",
   "execution_count": 19,
   "metadata": {
    "collapsed": false
   },
   "outputs": [
    {
     "data": {
      "text/html": [
       "<div>\n",
       "<table border=\"1\" class=\"dataframe\">\n",
       "  <thead>\n",
       "    <tr style=\"text-align: right;\">\n",
       "      <th></th>\n",
       "      <th>commune_name</th>\n",
       "      <th>id</th>\n",
       "      <th>mother age 30-34</th>\n",
       "      <th>mother age 35-39</th>\n",
       "      <th>mother age 40-99</th>\n",
       "      <th>total births</th>\n",
       "      <th>mother age 0-25</th>\n",
       "      <th>mother age 25-29</th>\n",
       "    </tr>\n",
       "  </thead>\n",
       "  <tbody>\n",
       "    <tr>\n",
       "      <th>2323</th>\n",
       "      <td>Zürich</td>\n",
       "      <td>261</td>\n",
       "      <td>1789</td>\n",
       "      <td>1636</td>\n",
       "      <td>418</td>\n",
       "      <td>4870</td>\n",
       "      <td>265</td>\n",
       "      <td>762</td>\n",
       "    </tr>\n",
       "  </tbody>\n",
       "</table>\n",
       "</div>"
      ],
      "text/plain": [
       "     commune_name   id  mother age 30-34  mother age 35-39  mother age 40-99  \\\n",
       "2323       Zürich  261              1789              1636               418   \n",
       "\n",
       "      total births  mother age 0-25  mother age 25-29  \n",
       "2323          4870              265               762  "
      ]
     },
     "execution_count": 19,
     "metadata": {},
     "output_type": "execute_result"
    }
   ],
   "source": [
    "data2013[data2013['total births'] == data2013['total births'].max()]"
   ]
  },
  {
   "cell_type": "code",
   "execution_count": 20,
   "metadata": {
    "collapsed": false
   },
   "outputs": [
    {
     "data": {
      "text/plain": [
       "75"
      ]
     },
     "execution_count": 20,
     "metadata": {},
     "output_type": "execute_result"
    }
   ],
   "source": [
    "len(data2013[data2013['total births'] == data2013['total births'].min()])"
   ]
  },
  {
   "cell_type": "code",
   "execution_count": 21,
   "metadata": {
    "collapsed": false
   },
   "outputs": [
    {
     "data": {
      "text/plain": [
       "79"
      ]
     },
     "execution_count": 21,
     "metadata": {},
     "output_type": "execute_result"
    }
   ],
   "source": [
    "len(data2014[data2014['total births'] == data2014['total births'].min()])"
   ]
  },
  {
   "cell_type": "code",
   "execution_count": 22,
   "metadata": {
    "collapsed": false
   },
   "outputs": [
    {
     "data": {
      "text/plain": [
       "95"
      ]
     },
     "execution_count": 22,
     "metadata": {},
     "output_type": "execute_result"
    }
   ],
   "source": [
    "len(data2015[data2015['total births'] == data2015['total births'].min()])"
   ]
  },
  {
   "cell_type": "code",
   "execution_count": 23,
   "metadata": {
    "collapsed": false
   },
   "outputs": [
    {
     "data": {
      "text/plain": [
       "(2324, 8)"
      ]
     },
     "execution_count": 23,
     "metadata": {},
     "output_type": "execute_result"
    }
   ],
   "source": [
    "data2013.shape"
   ]
  },
  {
   "cell_type": "code",
   "execution_count": 24,
   "metadata": {
    "collapsed": false
   },
   "outputs": [
    {
     "data": {
      "text/plain": [
       "(2324, 8)"
      ]
     },
     "execution_count": 24,
     "metadata": {},
     "output_type": "execute_result"
    }
   ],
   "source": [
    "data2014.shape"
   ]
  },
  {
   "cell_type": "code",
   "execution_count": 25,
   "metadata": {
    "collapsed": false
   },
   "outputs": [
    {
     "data": {
      "text/plain": [
       "(2324, 8)"
      ]
     },
     "execution_count": 25,
     "metadata": {},
     "output_type": "execute_result"
    }
   ],
   "source": [
    "data2015.shape"
   ]
  },
  {
   "cell_type": "code",
   "execution_count": null,
   "metadata": {
    "collapsed": true
   },
   "outputs": [],
   "source": []
  }
 ],
 "metadata": {
  "anaconda-cloud": {},
  "kernelspec": {
   "display_name": "Python [Root]",
   "language": "python",
   "name": "Python [Root]"
  },
  "language_info": {
   "codemirror_mode": {
    "name": "ipython",
    "version": 3
   },
   "file_extension": ".py",
   "mimetype": "text/x-python",
   "name": "python",
   "nbconvert_exporter": "python",
   "pygments_lexer": "ipython3",
   "version": "3.5.2"
  }
 },
 "nbformat": 4,
 "nbformat_minor": 0
}
