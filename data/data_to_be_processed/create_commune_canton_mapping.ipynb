{
 "cells": [
  {
   "cell_type": "markdown",
   "metadata": {},
   "source": [
    "Data from: https://www.pxweb.bfs.admin.ch/default.aspx"
   ]
  },
  {
   "cell_type": "code",
   "execution_count": 1,
   "metadata": {
    "collapsed": true
   },
   "outputs": [],
   "source": [
    "# imports\n",
    "import pandas as pd\n",
    "import numpy as np\n",
    "import seaborn as sns\n",
    "import matplotlib.pyplot as plt\n",
    "from matplotlib.pyplot import show\n",
    "import json\n",
    "import warnings\n",
    "%matplotlib inline\n",
    "sns.set_context('notebook')\n",
    "pd.options.mode.chained_assignment = None  # default='warn'\n",
    "pd.set_option('display.max_columns', 500) # show more columns\n",
    "nan = np.nan # store numpy.nan in 'nan'"
   ]
  },
  {
   "cell_type": "code",
   "execution_count": 2,
   "metadata": {
    "collapsed": false
   },
   "outputs": [],
   "source": [
    "raw_data= pd.read_csv('raw_data/deaths_over40_utf8_raw.csv', sep=';', header=1)\n",
    "\n",
    "# rename the columns\n",
    "d = {'Jahr':'year', 'Kanton (-) / Bezirk (>>) / Gemeinde (......)': 'commune_name', \n",
    "     'Zivilstand - Total Unter 20 Jahre':'death age 0-20',\n",
    "     'Zivilstand - Total 20-29 Jahre':'death age 20-29',\n",
    "     'Zivilstand - Total 30-39 Jahre':'death age 30-39',\n",
    "                   'Zivilstand - Total 40-49 Jahre':'death age 40-49',\n",
    "                   'Zivilstand - Total 50-59 Jahre':'death age 50-59',\n",
    "                    'Zivilstand - Total 60-69 Jahre':'death age 60-69',\n",
    "                    'Zivilstand - Total 70-79 Jahre':'death age 70-79',\n",
    "                    'Zivilstand - Total 80-89 Jahre':'death age 80-89',\n",
    "                    'Zivilstand - Total 80 Jahre und mehr':'death age 90+',\n",
    "    'Zivilstand - Total Altersklasse - Total':'total deaths'}\n",
    "raw_data.rename(columns=d, inplace=True)\n",
    "raw_data15 = raw_data[raw_data['year'] == 2015]\n"
   ]
  },
  {
   "cell_type": "code",
   "execution_count": 3,
   "metadata": {
    "collapsed": false
   },
   "outputs": [
    {
     "data": {
      "text/html": [
       "<div>\n",
       "<table border=\"1\" class=\"dataframe\">\n",
       "  <thead>\n",
       "    <tr style=\"text-align: right;\">\n",
       "      <th></th>\n",
       "      <th>commune_name</th>\n",
       "    </tr>\n",
       "  </thead>\n",
       "  <tbody>\n",
       "    <tr>\n",
       "      <th>4998</th>\n",
       "      <td>Schweiz / Suisse / Svizzera / Switzerland</td>\n",
       "    </tr>\n",
       "    <tr>\n",
       "      <th>4999</th>\n",
       "      <td>- Zürich</td>\n",
       "    </tr>\n",
       "    <tr>\n",
       "      <th>5000</th>\n",
       "      <td>&gt;&gt; Bezirk Affoltern</td>\n",
       "    </tr>\n",
       "    <tr>\n",
       "      <th>5001</th>\n",
       "      <td>......0001 Aeugst am Albis</td>\n",
       "    </tr>\n",
       "    <tr>\n",
       "      <th>5002</th>\n",
       "      <td>......0002 Affoltern am Albis</td>\n",
       "    </tr>\n",
       "  </tbody>\n",
       "</table>\n",
       "</div>"
      ],
      "text/plain": [
       "                                   commune_name\n",
       "4998  Schweiz / Suisse / Svizzera / Switzerland\n",
       "4999                                   - Zürich\n",
       "5000                        >> Bezirk Affoltern\n",
       "5001                 ......0001 Aeugst am Albis\n",
       "5002              ......0002 Affoltern am Albis"
      ]
     },
     "execution_count": 3,
     "metadata": {},
     "output_type": "execute_result"
    }
   ],
   "source": [
    "data = pd.DataFrame(raw_data15['commune_name'])\n",
    "data.head()"
   ]
  },
  {
   "cell_type": "code",
   "execution_count": 17,
   "metadata": {
    "collapsed": false
   },
   "outputs": [
    {
     "name": "stderr",
     "output_type": "stream",
     "text": [
      "/Users/baptisteraemy/anaconda3/lib/python3.5/site-packages/ipykernel/__main__.py:23: UserWarning: unknown name: Schweiz / Suisse / Svizzera / Switzerland\n"
     ]
    },
    {
     "name": "stdout",
     "output_type": "stream",
     "text": [
      "new canton Zürich\n",
      "new canton Bern / Berne\n",
      "new canton Luzern\n",
      "new canton Uri\n",
      "new canton Schwyz\n",
      "new canton Obwalden\n",
      "new canton Nidwalden\n",
      "new canton Glarus\n",
      "new canton Zug\n",
      "new canton Fribourg / Freiburg\n",
      "new canton Solothurn\n",
      "new canton Basel-Stadt\n",
      "new canton Basel-Landschaft\n",
      "new canton Schaffhausen\n",
      "new canton Appenzell Ausserrhoden\n",
      "new canton Appenzell Innerrhoden\n",
      "new canton St. Gallen\n",
      "new canton Graubünden / Grigioni / Grischun\n",
      "new canton Aargau\n",
      "new canton Thurgau\n",
      "new canton Ticino\n",
      "new canton Vaud\n",
      "new canton Valais / Wallis\n",
      "new canton Neuchâtel\n",
      "new canton Genève\n",
      "new canton Jura\n"
     ]
    }
   ],
   "source": [
    "comune_canton_dict = {}\n",
    "curr_canton = None\n",
    "idx=1\n",
    "canton_idx=0\n",
    "for index, row in data.iterrows():\n",
    "    cn = row['commune_name']\n",
    "    if '>>' in cn:\n",
    "        continue # this is a bezirk\n",
    "    elif '......' in cn:\n",
    "        # this is a commune\n",
    "        cn = cn.replace('......', '')\n",
    "        cn_id = int(cn.split()[0])\n",
    "        cn = ' '.join(cn.split()[1:])\n",
    "        comune_canton_dict[idx] = [cn_id, cn, curr_canton, canton_idx]\n",
    "        idx+= 1\n",
    "    elif '- ' in cn:\n",
    "        # this is a canton\n",
    "        cn = cn.replace('- ', '')\n",
    "        curr_canton = cn\n",
    "        canton_idx +=1\n",
    "        print('new canton', cn)\n",
    "    else:\n",
    "        warnings.warn('unknown name: '+cn)\n"
   ]
  },
  {
   "cell_type": "code",
   "execution_count": 19,
   "metadata": {
    "collapsed": false,
    "scrolled": true
   },
   "outputs": [],
   "source": [
    "d = {'aaare': ['Bern']}\n",
    "commune_canton = pd.DataFrame.from_dict(comune_canton_dict, orient='index')\n",
    "commune_canton.rename(columns={commune_canton.columns[0]:'commune_id',\n",
    "                               commune_canton.columns[1]:'commune_name', \n",
    "                               commune_canton.columns[2]:'canton',\n",
    "                               commune_canton.columns[3]:'canton_id'}, inplace=True)\n",
    "commune_canton = commune_canton.sort_values('commune_id')"
   ]
  },
  {
   "cell_type": "code",
   "execution_count": 20,
   "metadata": {
    "collapsed": false
   },
   "outputs": [
    {
     "data": {
      "text/html": [
       "<div>\n",
       "<table border=\"1\" class=\"dataframe\">\n",
       "  <thead>\n",
       "    <tr style=\"text-align: right;\">\n",
       "      <th></th>\n",
       "      <th>commune_id</th>\n",
       "      <th>commune_name</th>\n",
       "      <th>canton</th>\n",
       "      <th>canton_id</th>\n",
       "    </tr>\n",
       "  </thead>\n",
       "  <tbody>\n",
       "    <tr>\n",
       "      <th>1</th>\n",
       "      <td>1</td>\n",
       "      <td>Aeugst am Albis</td>\n",
       "      <td>Zürich</td>\n",
       "      <td>1</td>\n",
       "    </tr>\n",
       "    <tr>\n",
       "      <th>2</th>\n",
       "      <td>2</td>\n",
       "      <td>Affoltern am Albis</td>\n",
       "      <td>Zürich</td>\n",
       "      <td>1</td>\n",
       "    </tr>\n",
       "    <tr>\n",
       "      <th>3</th>\n",
       "      <td>3</td>\n",
       "      <td>Bonstetten</td>\n",
       "      <td>Zürich</td>\n",
       "      <td>1</td>\n",
       "    </tr>\n",
       "    <tr>\n",
       "      <th>4</th>\n",
       "      <td>4</td>\n",
       "      <td>Hausen am Albis</td>\n",
       "      <td>Zürich</td>\n",
       "      <td>1</td>\n",
       "    </tr>\n",
       "    <tr>\n",
       "      <th>5</th>\n",
       "      <td>5</td>\n",
       "      <td>Hedingen</td>\n",
       "      <td>Zürich</td>\n",
       "      <td>1</td>\n",
       "    </tr>\n",
       "  </tbody>\n",
       "</table>\n",
       "</div>"
      ],
      "text/plain": [
       "   commune_id        commune_name  canton  canton_id\n",
       "1           1     Aeugst am Albis  Zürich          1\n",
       "2           2  Affoltern am Albis  Zürich          1\n",
       "3           3          Bonstetten  Zürich          1\n",
       "4           4     Hausen am Albis  Zürich          1\n",
       "5           5            Hedingen  Zürich          1"
      ]
     },
     "execution_count": 20,
     "metadata": {},
     "output_type": "execute_result"
    }
   ],
   "source": [
    "commune_canton.head()"
   ]
  },
  {
   "cell_type": "code",
   "execution_count": 21,
   "metadata": {
    "collapsed": true
   },
   "outputs": [],
   "source": [
    "commune_canton.to_csv(\"../municipalities/2013/commune_canton_map.csv\", index=False)\n",
    "commune_canton.to_csv(\"../municipalities/2014/commune_canton_map.csv\", index=False)\n",
    "commune_canton.to_csv(\"../municipalities/2015/commune_canton_map.csv\", index=False)\n",
    "commune_canton.to_csv(\"../municipalities/2016/commune_canton_map.csv\", index=False)"
   ]
  },
  {
   "cell_type": "code",
   "execution_count": null,
   "metadata": {
    "collapsed": true
   },
   "outputs": [],
   "source": []
  }
 ],
 "metadata": {
  "anaconda-cloud": {},
  "kernelspec": {
   "display_name": "Python [conda root]",
   "language": "python",
   "name": "conda-root-py"
  },
  "language_info": {
   "codemirror_mode": {
    "name": "ipython",
    "version": 3
   },
   "file_extension": ".py",
   "mimetype": "text/x-python",
   "name": "python",
   "nbconvert_exporter": "python",
   "pygments_lexer": "ipython3",
   "version": "3.5.2"
  }
 },
 "nbformat": 4,
 "nbformat_minor": 0
}
