{
 "cells": [
  {
   "cell_type": "code",
   "execution_count": 1,
   "metadata": {
    "collapsed": true
   },
   "outputs": [],
   "source": [
    "# imports\n",
    "import pandas as pd\n",
    "import numpy as np\n",
    "import seaborn as sns\n",
    "import matplotlib.pyplot as plt\n",
    "from matplotlib.pyplot import show\n",
    "\n",
    "%matplotlib inline\n",
    "sns.set_context('notebook')\n",
    "pd.options.mode.chained_assignment = None  # default='warn'\n",
    "pd.set_option('display.max_columns', 500) # show more columns\n",
    "nan = np.nan # store numpy.nan in 'nan'"
   ]
  },
  {
   "cell_type": "code",
   "execution_count": 2,
   "metadata": {
    "collapsed": false
   },
   "outputs": [],
   "source": [
    "data_to_merge = pd.read_csv('cleaned_data/2015/cleaned_politique_party_percentages2015.csv')\n",
    "data_commune = pd.read_csv('../municipalities/2015/data_commune.csv')\n",
    "data_to_merge.rename(columns={'commune_id':'id'}, inplace=True)"
   ]
  },
  {
   "cell_type": "code",
   "execution_count": 3,
   "metadata": {
    "collapsed": false
   },
   "outputs": [
    {
     "data": {
      "text/html": [
       "<div>\n",
       "<table border=\"1\" class=\"dataframe\">\n",
       "  <thead>\n",
       "    <tr style=\"text-align: right;\">\n",
       "      <th></th>\n",
       "      <th>id</th>\n",
       "      <th>FDP/PLR (PRD)</th>\n",
       "      <th>CVP/PDC</th>\n",
       "      <th>SP/PS</th>\n",
       "      <th>SVP/UDC</th>\n",
       "      <th>GLP/PVL</th>\n",
       "      <th>BDP/PBD</th>\n",
       "      <th>GPS/PES</th>\n",
       "      <th>Other/Autres</th>\n",
       "    </tr>\n",
       "  </thead>\n",
       "  <tbody>\n",
       "    <tr>\n",
       "      <th>0</th>\n",
       "      <td>1</td>\n",
       "      <td>18.69</td>\n",
       "      <td>2.08</td>\n",
       "      <td>18.65</td>\n",
       "      <td>30.93</td>\n",
       "      <td>8.44</td>\n",
       "      <td>2.62</td>\n",
       "      <td>7.08</td>\n",
       "      <td>11.54</td>\n",
       "    </tr>\n",
       "    <tr>\n",
       "      <th>1</th>\n",
       "      <td>2</td>\n",
       "      <td>14.23</td>\n",
       "      <td>4.59</td>\n",
       "      <td>19.08</td>\n",
       "      <td>33.79</td>\n",
       "      <td>7.36</td>\n",
       "      <td>4.16</td>\n",
       "      <td>6.21</td>\n",
       "      <td>10.59</td>\n",
       "    </tr>\n",
       "    <tr>\n",
       "      <th>2</th>\n",
       "      <td>3</td>\n",
       "      <td>16.47</td>\n",
       "      <td>3.38</td>\n",
       "      <td>20.40</td>\n",
       "      <td>29.10</td>\n",
       "      <td>11.86</td>\n",
       "      <td>3.80</td>\n",
       "      <td>6.66</td>\n",
       "      <td>8.32</td>\n",
       "    </tr>\n",
       "    <tr>\n",
       "      <th>3</th>\n",
       "      <td>4</td>\n",
       "      <td>12.79</td>\n",
       "      <td>2.88</td>\n",
       "      <td>19.39</td>\n",
       "      <td>34.94</td>\n",
       "      <td>8.75</td>\n",
       "      <td>4.66</td>\n",
       "      <td>8.02</td>\n",
       "      <td>8.56</td>\n",
       "    </tr>\n",
       "    <tr>\n",
       "      <th>4</th>\n",
       "      <td>5</td>\n",
       "      <td>15.81</td>\n",
       "      <td>3.92</td>\n",
       "      <td>22.48</td>\n",
       "      <td>30.11</td>\n",
       "      <td>9.63</td>\n",
       "      <td>3.77</td>\n",
       "      <td>6.47</td>\n",
       "      <td>7.82</td>\n",
       "    </tr>\n",
       "  </tbody>\n",
       "</table>\n",
       "</div>"
      ],
      "text/plain": [
       "   id  FDP/PLR (PRD)  CVP/PDC  SP/PS  SVP/UDC  GLP/PVL  BDP/PBD  GPS/PES  \\\n",
       "0   1          18.69     2.08  18.65    30.93     8.44     2.62     7.08   \n",
       "1   2          14.23     4.59  19.08    33.79     7.36     4.16     6.21   \n",
       "2   3          16.47     3.38  20.40    29.10    11.86     3.80     6.66   \n",
       "3   4          12.79     2.88  19.39    34.94     8.75     4.66     8.02   \n",
       "4   5          15.81     3.92  22.48    30.11     9.63     3.77     6.47   \n",
       "\n",
       "   Other/Autres  \n",
       "0         11.54  \n",
       "1         10.59  \n",
       "2          8.32  \n",
       "3          8.56  \n",
       "4          7.82  "
      ]
     },
     "execution_count": 3,
     "metadata": {},
     "output_type": "execute_result"
    }
   ],
   "source": [
    "data_to_merge.head()"
   ]
  },
  {
   "cell_type": "code",
   "execution_count": 4,
   "metadata": {
    "collapsed": false
   },
   "outputs": [
    {
     "data": {
      "text/html": [
       "<div>\n",
       "<table border=\"1\" class=\"dataframe\">\n",
       "  <thead>\n",
       "    <tr style=\"text-align: right;\">\n",
       "      <th></th>\n",
       "      <th>commune</th>\n",
       "      <th>id</th>\n",
       "      <th>total_inhabitants</th>\n",
       "      <th>percentage_18</th>\n",
       "      <th>percentage_40</th>\n",
       "      <th>percentage_65</th>\n",
       "      <th>percentage_100</th>\n",
       "      <th>percentage_men</th>\n",
       "      <th>percentage_swiss</th>\n",
       "    </tr>\n",
       "  </thead>\n",
       "  <tbody>\n",
       "    <tr>\n",
       "      <th>0</th>\n",
       "      <td>Aeugst am Albis</td>\n",
       "      <td>1</td>\n",
       "      <td>1981</td>\n",
       "      <td>0.19</td>\n",
       "      <td>0.23</td>\n",
       "      <td>0.42</td>\n",
       "      <td>0.16</td>\n",
       "      <td>0.50</td>\n",
       "      <td>0.87</td>\n",
       "    </tr>\n",
       "    <tr>\n",
       "      <th>1</th>\n",
       "      <td>Affoltern am Albis</td>\n",
       "      <td>2</td>\n",
       "      <td>11707</td>\n",
       "      <td>0.18</td>\n",
       "      <td>0.30</td>\n",
       "      <td>0.35</td>\n",
       "      <td>0.17</td>\n",
       "      <td>0.50</td>\n",
       "      <td>0.73</td>\n",
       "    </tr>\n",
       "    <tr>\n",
       "      <th>2</th>\n",
       "      <td>Bonstetten</td>\n",
       "      <td>3</td>\n",
       "      <td>5326</td>\n",
       "      <td>0.22</td>\n",
       "      <td>0.26</td>\n",
       "      <td>0.37</td>\n",
       "      <td>0.15</td>\n",
       "      <td>0.49</td>\n",
       "      <td>0.86</td>\n",
       "    </tr>\n",
       "    <tr>\n",
       "      <th>3</th>\n",
       "      <td>Hausen am Albis</td>\n",
       "      <td>4</td>\n",
       "      <td>3477</td>\n",
       "      <td>0.20</td>\n",
       "      <td>0.23</td>\n",
       "      <td>0.40</td>\n",
       "      <td>0.17</td>\n",
       "      <td>0.49</td>\n",
       "      <td>0.86</td>\n",
       "    </tr>\n",
       "    <tr>\n",
       "      <th>4</th>\n",
       "      <td>Hedingen</td>\n",
       "      <td>5</td>\n",
       "      <td>3659</td>\n",
       "      <td>0.21</td>\n",
       "      <td>0.25</td>\n",
       "      <td>0.39</td>\n",
       "      <td>0.15</td>\n",
       "      <td>0.50</td>\n",
       "      <td>0.85</td>\n",
       "    </tr>\n",
       "  </tbody>\n",
       "</table>\n",
       "</div>"
      ],
      "text/plain": [
       "              commune  id  total_inhabitants  percentage_18  percentage_40  \\\n",
       "0     Aeugst am Albis   1               1981           0.19           0.23   \n",
       "1  Affoltern am Albis   2              11707           0.18           0.30   \n",
       "2          Bonstetten   3               5326           0.22           0.26   \n",
       "3     Hausen am Albis   4               3477           0.20           0.23   \n",
       "4            Hedingen   5               3659           0.21           0.25   \n",
       "\n",
       "   percentage_65  percentage_100  percentage_men  percentage_swiss  \n",
       "0           0.42            0.16            0.50              0.87  \n",
       "1           0.35            0.17            0.50              0.73  \n",
       "2           0.37            0.15            0.49              0.86  \n",
       "3           0.40            0.17            0.49              0.86  \n",
       "4           0.39            0.15            0.50              0.85  "
      ]
     },
     "execution_count": 4,
     "metadata": {},
     "output_type": "execute_result"
    }
   ],
   "source": [
    "data_commune.head()"
   ]
  },
  {
   "cell_type": "code",
   "execution_count": 6,
   "metadata": {
    "collapsed": false,
    "scrolled": true
   },
   "outputs": [
    {
     "data": {
      "text/html": [
       "<div>\n",
       "<table border=\"1\" class=\"dataframe\">\n",
       "  <thead>\n",
       "    <tr style=\"text-align: right;\">\n",
       "      <th></th>\n",
       "      <th>commune</th>\n",
       "      <th>id</th>\n",
       "      <th>total_inhabitants</th>\n",
       "      <th>percentage_18</th>\n",
       "      <th>percentage_40</th>\n",
       "      <th>percentage_65</th>\n",
       "      <th>percentage_100</th>\n",
       "      <th>percentage_men</th>\n",
       "      <th>percentage_swiss</th>\n",
       "      <th>FDP/PLR (PRD)</th>\n",
       "      <th>CVP/PDC</th>\n",
       "      <th>SP/PS</th>\n",
       "      <th>SVP/UDC</th>\n",
       "      <th>GLP/PVL</th>\n",
       "      <th>BDP/PBD</th>\n",
       "      <th>GPS/PES</th>\n",
       "      <th>Other/Autres</th>\n",
       "    </tr>\n",
       "  </thead>\n",
       "  <tbody>\n",
       "    <tr>\n",
       "      <th>0</th>\n",
       "      <td>Aeugst am Albis</td>\n",
       "      <td>1</td>\n",
       "      <td>1981</td>\n",
       "      <td>0.19</td>\n",
       "      <td>0.23</td>\n",
       "      <td>0.42</td>\n",
       "      <td>0.16</td>\n",
       "      <td>0.50</td>\n",
       "      <td>0.87</td>\n",
       "      <td>18.69</td>\n",
       "      <td>2.08</td>\n",
       "      <td>18.65</td>\n",
       "      <td>30.93</td>\n",
       "      <td>8.44</td>\n",
       "      <td>2.62</td>\n",
       "      <td>7.08</td>\n",
       "      <td>11.54</td>\n",
       "    </tr>\n",
       "    <tr>\n",
       "      <th>1</th>\n",
       "      <td>Affoltern am Albis</td>\n",
       "      <td>2</td>\n",
       "      <td>11707</td>\n",
       "      <td>0.18</td>\n",
       "      <td>0.30</td>\n",
       "      <td>0.35</td>\n",
       "      <td>0.17</td>\n",
       "      <td>0.50</td>\n",
       "      <td>0.73</td>\n",
       "      <td>14.23</td>\n",
       "      <td>4.59</td>\n",
       "      <td>19.08</td>\n",
       "      <td>33.79</td>\n",
       "      <td>7.36</td>\n",
       "      <td>4.16</td>\n",
       "      <td>6.21</td>\n",
       "      <td>10.59</td>\n",
       "    </tr>\n",
       "    <tr>\n",
       "      <th>2</th>\n",
       "      <td>Bonstetten</td>\n",
       "      <td>3</td>\n",
       "      <td>5326</td>\n",
       "      <td>0.22</td>\n",
       "      <td>0.26</td>\n",
       "      <td>0.37</td>\n",
       "      <td>0.15</td>\n",
       "      <td>0.49</td>\n",
       "      <td>0.86</td>\n",
       "      <td>16.47</td>\n",
       "      <td>3.38</td>\n",
       "      <td>20.40</td>\n",
       "      <td>29.10</td>\n",
       "      <td>11.86</td>\n",
       "      <td>3.80</td>\n",
       "      <td>6.66</td>\n",
       "      <td>8.32</td>\n",
       "    </tr>\n",
       "    <tr>\n",
       "      <th>3</th>\n",
       "      <td>Hausen am Albis</td>\n",
       "      <td>4</td>\n",
       "      <td>3477</td>\n",
       "      <td>0.20</td>\n",
       "      <td>0.23</td>\n",
       "      <td>0.40</td>\n",
       "      <td>0.17</td>\n",
       "      <td>0.49</td>\n",
       "      <td>0.86</td>\n",
       "      <td>12.79</td>\n",
       "      <td>2.88</td>\n",
       "      <td>19.39</td>\n",
       "      <td>34.94</td>\n",
       "      <td>8.75</td>\n",
       "      <td>4.66</td>\n",
       "      <td>8.02</td>\n",
       "      <td>8.56</td>\n",
       "    </tr>\n",
       "    <tr>\n",
       "      <th>4</th>\n",
       "      <td>Hedingen</td>\n",
       "      <td>5</td>\n",
       "      <td>3659</td>\n",
       "      <td>0.21</td>\n",
       "      <td>0.25</td>\n",
       "      <td>0.39</td>\n",
       "      <td>0.15</td>\n",
       "      <td>0.50</td>\n",
       "      <td>0.85</td>\n",
       "      <td>15.81</td>\n",
       "      <td>3.92</td>\n",
       "      <td>22.48</td>\n",
       "      <td>30.11</td>\n",
       "      <td>9.63</td>\n",
       "      <td>3.77</td>\n",
       "      <td>6.47</td>\n",
       "      <td>7.82</td>\n",
       "    </tr>\n",
       "  </tbody>\n",
       "</table>\n",
       "</div>"
      ],
      "text/plain": [
       "              commune  id  total_inhabitants  percentage_18  percentage_40  \\\n",
       "0     Aeugst am Albis   1               1981           0.19           0.23   \n",
       "1  Affoltern am Albis   2              11707           0.18           0.30   \n",
       "2          Bonstetten   3               5326           0.22           0.26   \n",
       "3     Hausen am Albis   4               3477           0.20           0.23   \n",
       "4            Hedingen   5               3659           0.21           0.25   \n",
       "\n",
       "   percentage_65  percentage_100  percentage_men  percentage_swiss  \\\n",
       "0           0.42            0.16            0.50              0.87   \n",
       "1           0.35            0.17            0.50              0.73   \n",
       "2           0.37            0.15            0.49              0.86   \n",
       "3           0.40            0.17            0.49              0.86   \n",
       "4           0.39            0.15            0.50              0.85   \n",
       "\n",
       "   FDP/PLR (PRD)  CVP/PDC  SP/PS  SVP/UDC  GLP/PVL  BDP/PBD  GPS/PES  \\\n",
       "0          18.69     2.08  18.65    30.93     8.44     2.62     7.08   \n",
       "1          14.23     4.59  19.08    33.79     7.36     4.16     6.21   \n",
       "2          16.47     3.38  20.40    29.10    11.86     3.80     6.66   \n",
       "3          12.79     2.88  19.39    34.94     8.75     4.66     8.02   \n",
       "4          15.81     3.92  22.48    30.11     9.63     3.77     6.47   \n",
       "\n",
       "   Other/Autres  \n",
       "0         11.54  \n",
       "1         10.59  \n",
       "2          8.32  \n",
       "3          8.56  \n",
       "4          7.82  "
      ]
     },
     "execution_count": 6,
     "metadata": {},
     "output_type": "execute_result"
    }
   ],
   "source": [
    "merged = data_commune.merge(data_to_merge, on='id')\n",
    "merged.head()"
   ]
  },
  {
   "cell_type": "code",
   "execution_count": 8,
   "metadata": {
    "collapsed": false
   },
   "outputs": [
    {
     "name": "stdout",
     "output_type": "stream",
     "text": [
      "True\n",
      "False\n"
     ]
    }
   ],
   "source": [
    "# all merged and no left out (all outputs must be True)\n",
    "print(sum(merged['id'] != merged['id']) == 0)\n",
    "print(len(merged) == len(data_commune) == len(data_to_merge))"
   ]
  },
  {
   "cell_type": "code",
   "execution_count": 15,
   "metadata": {
    "collapsed": false
   },
   "outputs": [],
   "source": [
    "if 'commune_id' in merged.commune:\n",
    "    merged.drop('commune_id', axis=1, inplace=True)"
   ]
  },
  {
   "cell_type": "code",
   "execution_count": 18,
   "metadata": {
    "collapsed": false
   },
   "outputs": [
    {
     "data": {
      "text/html": [
       "<div>\n",
       "<table border=\"1\" class=\"dataframe\">\n",
       "  <thead>\n",
       "    <tr style=\"text-align: right;\">\n",
       "      <th></th>\n",
       "      <th>commune</th>\n",
       "      <th>total_inhabitants</th>\n",
       "      <th>percentage_18</th>\n",
       "      <th>percentage_40</th>\n",
       "      <th>percentage_65</th>\n",
       "      <th>percentage_100</th>\n",
       "      <th>percentage_men</th>\n",
       "      <th>percentage_swiss</th>\n",
       "      <th>FDP/PLR (PRD)</th>\n",
       "      <th>CVP/PDC</th>\n",
       "      <th>SP/PS</th>\n",
       "      <th>SVP/UDC</th>\n",
       "      <th>GLP/PVL</th>\n",
       "      <th>BDP/PBD</th>\n",
       "      <th>GPS/PES</th>\n",
       "      <th>Other/Autres</th>\n",
       "    </tr>\n",
       "    <tr>\n",
       "      <th>id</th>\n",
       "      <th></th>\n",
       "      <th></th>\n",
       "      <th></th>\n",
       "      <th></th>\n",
       "      <th></th>\n",
       "      <th></th>\n",
       "      <th></th>\n",
       "      <th></th>\n",
       "      <th></th>\n",
       "      <th></th>\n",
       "      <th></th>\n",
       "      <th></th>\n",
       "      <th></th>\n",
       "      <th></th>\n",
       "      <th></th>\n",
       "      <th></th>\n",
       "    </tr>\n",
       "  </thead>\n",
       "  <tbody>\n",
       "    <tr>\n",
       "      <th>1</th>\n",
       "      <td>Aeugst am Albis</td>\n",
       "      <td>1981</td>\n",
       "      <td>0.19</td>\n",
       "      <td>0.23</td>\n",
       "      <td>0.42</td>\n",
       "      <td>0.16</td>\n",
       "      <td>0.50</td>\n",
       "      <td>0.87</td>\n",
       "      <td>18.69</td>\n",
       "      <td>2.08</td>\n",
       "      <td>18.65</td>\n",
       "      <td>30.93</td>\n",
       "      <td>8.44</td>\n",
       "      <td>2.62</td>\n",
       "      <td>7.08</td>\n",
       "      <td>11.54</td>\n",
       "    </tr>\n",
       "    <tr>\n",
       "      <th>2</th>\n",
       "      <td>Affoltern am Albis</td>\n",
       "      <td>11707</td>\n",
       "      <td>0.18</td>\n",
       "      <td>0.30</td>\n",
       "      <td>0.35</td>\n",
       "      <td>0.17</td>\n",
       "      <td>0.50</td>\n",
       "      <td>0.73</td>\n",
       "      <td>14.23</td>\n",
       "      <td>4.59</td>\n",
       "      <td>19.08</td>\n",
       "      <td>33.79</td>\n",
       "      <td>7.36</td>\n",
       "      <td>4.16</td>\n",
       "      <td>6.21</td>\n",
       "      <td>10.59</td>\n",
       "    </tr>\n",
       "    <tr>\n",
       "      <th>3</th>\n",
       "      <td>Bonstetten</td>\n",
       "      <td>5326</td>\n",
       "      <td>0.22</td>\n",
       "      <td>0.26</td>\n",
       "      <td>0.37</td>\n",
       "      <td>0.15</td>\n",
       "      <td>0.49</td>\n",
       "      <td>0.86</td>\n",
       "      <td>16.47</td>\n",
       "      <td>3.38</td>\n",
       "      <td>20.40</td>\n",
       "      <td>29.10</td>\n",
       "      <td>11.86</td>\n",
       "      <td>3.80</td>\n",
       "      <td>6.66</td>\n",
       "      <td>8.32</td>\n",
       "    </tr>\n",
       "    <tr>\n",
       "      <th>4</th>\n",
       "      <td>Hausen am Albis</td>\n",
       "      <td>3477</td>\n",
       "      <td>0.20</td>\n",
       "      <td>0.23</td>\n",
       "      <td>0.40</td>\n",
       "      <td>0.17</td>\n",
       "      <td>0.49</td>\n",
       "      <td>0.86</td>\n",
       "      <td>12.79</td>\n",
       "      <td>2.88</td>\n",
       "      <td>19.39</td>\n",
       "      <td>34.94</td>\n",
       "      <td>8.75</td>\n",
       "      <td>4.66</td>\n",
       "      <td>8.02</td>\n",
       "      <td>8.56</td>\n",
       "    </tr>\n",
       "    <tr>\n",
       "      <th>5</th>\n",
       "      <td>Hedingen</td>\n",
       "      <td>3659</td>\n",
       "      <td>0.21</td>\n",
       "      <td>0.25</td>\n",
       "      <td>0.39</td>\n",
       "      <td>0.15</td>\n",
       "      <td>0.50</td>\n",
       "      <td>0.85</td>\n",
       "      <td>15.81</td>\n",
       "      <td>3.92</td>\n",
       "      <td>22.48</td>\n",
       "      <td>30.11</td>\n",
       "      <td>9.63</td>\n",
       "      <td>3.77</td>\n",
       "      <td>6.47</td>\n",
       "      <td>7.82</td>\n",
       "    </tr>\n",
       "  </tbody>\n",
       "</table>\n",
       "</div>"
      ],
      "text/plain": [
       "               commune  total_inhabitants  percentage_18  percentage_40  \\\n",
       "id                                                                        \n",
       "1      Aeugst am Albis               1981           0.19           0.23   \n",
       "2   Affoltern am Albis              11707           0.18           0.30   \n",
       "3           Bonstetten               5326           0.22           0.26   \n",
       "4      Hausen am Albis               3477           0.20           0.23   \n",
       "5             Hedingen               3659           0.21           0.25   \n",
       "\n",
       "    percentage_65  percentage_100  percentage_men  percentage_swiss  \\\n",
       "id                                                                    \n",
       "1            0.42            0.16            0.50              0.87   \n",
       "2            0.35            0.17            0.50              0.73   \n",
       "3            0.37            0.15            0.49              0.86   \n",
       "4            0.40            0.17            0.49              0.86   \n",
       "5            0.39            0.15            0.50              0.85   \n",
       "\n",
       "    FDP/PLR (PRD)  CVP/PDC  SP/PS  SVP/UDC  GLP/PVL  BDP/PBD  GPS/PES  \\\n",
       "id                                                                      \n",
       "1           18.69     2.08  18.65    30.93     8.44     2.62     7.08   \n",
       "2           14.23     4.59  19.08    33.79     7.36     4.16     6.21   \n",
       "3           16.47     3.38  20.40    29.10    11.86     3.80     6.66   \n",
       "4           12.79     2.88  19.39    34.94     8.75     4.66     8.02   \n",
       "5           15.81     3.92  22.48    30.11     9.63     3.77     6.47   \n",
       "\n",
       "    Other/Autres  \n",
       "id                \n",
       "1          11.54  \n",
       "2          10.59  \n",
       "3           8.32  \n",
       "4           8.56  \n",
       "5           7.82  "
      ]
     },
     "execution_count": 18,
     "metadata": {},
     "output_type": "execute_result"
    }
   ],
   "source": [
    "merged.head()"
   ]
  },
  {
   "cell_type": "code",
   "execution_count": 10,
   "metadata": {
    "collapsed": false
   },
   "outputs": [
    {
     "data": {
      "text/plain": [
       "(2324, 17)"
      ]
     },
     "execution_count": 10,
     "metadata": {},
     "output_type": "execute_result"
    }
   ],
   "source": [
    "merged.shape"
   ]
  },
  {
   "cell_type": "code",
   "execution_count": 11,
   "metadata": {
    "collapsed": false
   },
   "outputs": [
    {
     "data": {
      "text/plain": [
       "(2325, 9)"
      ]
     },
     "execution_count": 11,
     "metadata": {},
     "output_type": "execute_result"
    }
   ],
   "source": [
    "data_commune.shape"
   ]
  },
  {
   "cell_type": "code",
   "execution_count": 12,
   "metadata": {
    "collapsed": false
   },
   "outputs": [
    {
     "data": {
      "text/plain": [
       "(2347, 9)"
      ]
     },
     "execution_count": 12,
     "metadata": {},
     "output_type": "execute_result"
    }
   ],
   "source": [
    "data_to_merge.shape"
   ]
  },
  {
   "cell_type": "code",
   "execution_count": 13,
   "metadata": {
    "collapsed": false
   },
   "outputs": [
    {
     "data": {
      "text/plain": [
       "commune              False\n",
       "id                   False\n",
       "total_inhabitants    False\n",
       "percentage_18        False\n",
       "percentage_40        False\n",
       "percentage_65        False\n",
       "percentage_100       False\n",
       "percentage_men       False\n",
       "percentage_swiss     False\n",
       "FDP/PLR (PRD)        False\n",
       "CVP/PDC              False\n",
       "SP/PS                False\n",
       "SVP/UDC              False\n",
       "GLP/PVL              False\n",
       "BDP/PBD              False\n",
       "GPS/PES              False\n",
       "Other/Autres         False\n",
       "dtype: bool"
      ]
     },
     "execution_count": 13,
     "metadata": {},
     "output_type": "execute_result"
    }
   ],
   "source": [
    "(merged.isnull() == True).any()"
   ]
  },
  {
   "cell_type": "code",
   "execution_count": 17,
   "metadata": {
    "collapsed": true
   },
   "outputs": [],
   "source": [
    "merged.to_csv('../municipalities/2015/data_commune.csv')"
   ]
  },
  {
   "cell_type": "code",
   "execution_count": null,
   "metadata": {
    "collapsed": true
   },
   "outputs": [],
   "source": []
  }
 ],
 "metadata": {
  "kernelspec": {
   "display_name": "Python [Root]",
   "language": "python",
   "name": "Python [Root]"
  },
  "language_info": {
   "codemirror_mode": {
    "name": "ipython",
    "version": 3
   },
   "file_extension": ".py",
   "mimetype": "text/x-python",
   "name": "python",
   "nbconvert_exporter": "python",
   "pygments_lexer": "ipython3",
   "version": "3.5.2"
  }
 },
 "nbformat": 4,
 "nbformat_minor": 0
}
