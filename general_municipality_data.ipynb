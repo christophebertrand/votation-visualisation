{
 "cells": [
  {
   "cell_type": "code",
   "execution_count": 1,
   "metadata": {
    "collapsed": true
   },
   "outputs": [],
   "source": [
    "# imports\n",
    "import pandas as pd\n",
    "import numpy as np\n",
    "import seaborn as sns\n",
    "import matplotlib.pyplot as plt\n",
    "from matplotlib.pyplot import show\n",
    "import re"
   ]
  },
  {
   "cell_type": "code",
   "execution_count": 2,
   "metadata": {
    "collapsed": true
   },
   "outputs": [],
   "source": [
    "df = pd.read_csv('data/population_cleaned.csv')"
   ]
  },
  {
   "cell_type": "code",
   "execution_count": 3,
   "metadata": {
    "collapsed": false
   },
   "outputs": [
    {
     "data": {
      "text/html": [
       "<div>\n",
       "<table border=\"1\" class=\"dataframe\">\n",
       "  <thead>\n",
       "    <tr style=\"text-align: right;\">\n",
       "      <th></th>\n",
       "      <th>age</th>\n",
       "      <th>nationality</th>\n",
       "      <th>sex</th>\n",
       "      <th>commune</th>\n",
       "      <th>year</th>\n",
       "      <th>value</th>\n",
       "    </tr>\n",
       "  </thead>\n",
       "  <tbody>\n",
       "    <tr>\n",
       "      <th>0</th>\n",
       "      <td>0</td>\n",
       "      <td>S</td>\n",
       "      <td>M</td>\n",
       "      <td>Aeugst am Albis</td>\n",
       "      <td>2010</td>\n",
       "      <td>8</td>\n",
       "    </tr>\n",
       "    <tr>\n",
       "      <th>1</th>\n",
       "      <td>1</td>\n",
       "      <td>S</td>\n",
       "      <td>M</td>\n",
       "      <td>Aeugst am Albis</td>\n",
       "      <td>2010</td>\n",
       "      <td>9</td>\n",
       "    </tr>\n",
       "    <tr>\n",
       "      <th>2</th>\n",
       "      <td>2</td>\n",
       "      <td>S</td>\n",
       "      <td>M</td>\n",
       "      <td>Aeugst am Albis</td>\n",
       "      <td>2010</td>\n",
       "      <td>7</td>\n",
       "    </tr>\n",
       "    <tr>\n",
       "      <th>3</th>\n",
       "      <td>3</td>\n",
       "      <td>S</td>\n",
       "      <td>M</td>\n",
       "      <td>Aeugst am Albis</td>\n",
       "      <td>2010</td>\n",
       "      <td>13</td>\n",
       "    </tr>\n",
       "    <tr>\n",
       "      <th>4</th>\n",
       "      <td>4</td>\n",
       "      <td>S</td>\n",
       "      <td>M</td>\n",
       "      <td>Aeugst am Albis</td>\n",
       "      <td>2010</td>\n",
       "      <td>5</td>\n",
       "    </tr>\n",
       "  </tbody>\n",
       "</table>\n",
       "</div>"
      ],
      "text/plain": [
       "   age nationality sex          commune  year  value\n",
       "0    0           S   M  Aeugst am Albis  2010      8\n",
       "1    1           S   M  Aeugst am Albis  2010      9\n",
       "2    2           S   M  Aeugst am Albis  2010      7\n",
       "3    3           S   M  Aeugst am Albis  2010     13\n",
       "4    4           S   M  Aeugst am Albis  2010      5"
      ]
     },
     "execution_count": 3,
     "metadata": {},
     "output_type": "execute_result"
    }
   ],
   "source": [
    "df.head()"
   ]
  },
  {
   "cell_type": "code",
   "execution_count": 4,
   "metadata": {
    "collapsed": true
   },
   "outputs": [],
   "source": [
    "#group the ages by categories :{[0, 18), [18, 40), [40, 65), [65, 100)}\n",
    "d = pd.DataFrame(columns=['commune', 'sex', 'year', 'nationality', 'age', 'value'])\n",
    "for l, u in [(0, 18), (18, 40), (40, 65), (65, 100)]:\n",
    "    tmp = df[df['age'] >= l]\n",
    "    tmp = tmp[tmp['age'] < u]\n",
    "    tmp = tmp.groupby(['commune', 'sex', 'year', 'nationality'], as_index=False).sum()\n",
    "    tmp['age'] = int(u)\n",
    "    d = pd.concat([d, tmp])\n",
    "for s in ['year', 'age', 'value']:\n",
    "    d[s] = d[s].astype(int)\n",
    "df = d"
   ]
  },
  {
   "cell_type": "code",
   "execution_count": 5,
   "metadata": {
    "collapsed": false
   },
   "outputs": [
    {
     "data": {
      "text/html": [
       "<div>\n",
       "<table border=\"1\" class=\"dataframe\">\n",
       "  <thead>\n",
       "    <tr style=\"text-align: right;\">\n",
       "      <th></th>\n",
       "      <th>commune</th>\n",
       "      <th>sex</th>\n",
       "      <th>year</th>\n",
       "      <th>nationality</th>\n",
       "      <th>age</th>\n",
       "      <th>value</th>\n",
       "    </tr>\n",
       "  </thead>\n",
       "  <tbody>\n",
       "    <tr>\n",
       "      <th>0</th>\n",
       "      <td>Aadorf</td>\n",
       "      <td>F</td>\n",
       "      <td>2010</td>\n",
       "      <td>A</td>\n",
       "      <td>18</td>\n",
       "      <td>122</td>\n",
       "    </tr>\n",
       "    <tr>\n",
       "      <th>1</th>\n",
       "      <td>Aadorf</td>\n",
       "      <td>F</td>\n",
       "      <td>2010</td>\n",
       "      <td>S</td>\n",
       "      <td>18</td>\n",
       "      <td>650</td>\n",
       "    </tr>\n",
       "    <tr>\n",
       "      <th>2</th>\n",
       "      <td>Aadorf</td>\n",
       "      <td>F</td>\n",
       "      <td>2011</td>\n",
       "      <td>A</td>\n",
       "      <td>18</td>\n",
       "      <td>120</td>\n",
       "    </tr>\n",
       "    <tr>\n",
       "      <th>3</th>\n",
       "      <td>Aadorf</td>\n",
       "      <td>F</td>\n",
       "      <td>2011</td>\n",
       "      <td>S</td>\n",
       "      <td>18</td>\n",
       "      <td>656</td>\n",
       "    </tr>\n",
       "    <tr>\n",
       "      <th>4</th>\n",
       "      <td>Aadorf</td>\n",
       "      <td>F</td>\n",
       "      <td>2012</td>\n",
       "      <td>A</td>\n",
       "      <td>18</td>\n",
       "      <td>108</td>\n",
       "    </tr>\n",
       "  </tbody>\n",
       "</table>\n",
       "</div>"
      ],
      "text/plain": [
       "  commune sex  year nationality  age  value\n",
       "0  Aadorf   F  2010           A   18    122\n",
       "1  Aadorf   F  2010           S   18    650\n",
       "2  Aadorf   F  2011           A   18    120\n",
       "3  Aadorf   F  2011           S   18    656\n",
       "4  Aadorf   F  2012           A   18    108"
      ]
     },
     "execution_count": 5,
     "metadata": {},
     "output_type": "execute_result"
    }
   ],
   "source": [
    "df.head()"
   ]
  },
  {
   "cell_type": "code",
   "execution_count": 6,
   "metadata": {
    "collapsed": false
   },
   "outputs": [],
   "source": [
    "ids =  pd.read_csv('data/data_to_be_processed/ids')\n",
    "ids.rename(columns={'name':'commune'}, inplace=True)\n",
    "ids = ids.sort_values('commune', ascending=True)"
   ]
  },
  {
   "cell_type": "markdown",
   "metadata": {},
   "source": [
    "no data are available for 2016. We have therefore decided to keep the data from 2015 and sum the data of the municipalities that have merged in beginning of 2016"
   ]
  },
  {
   "cell_type": "code",
   "execution_count": 7,
   "metadata": {
    "collapsed": true
   },
   "outputs": [],
   "source": [
    "def create_2016_data(data):\n",
    "    f = pd.read_csv(\"data/fusion_mappings.csv\")\n",
    "    f = f[f.date.str.contains('2016')]\n",
    "    fu = pd.merge(f, data, left_on='pre_name', right_on='commune', how='outer')\n",
    "    fu['commune'] = fu['post_name'].fillna(fu['commune'])\n",
    "    fu.drop(['pre_id', 'pre_name', 'post_id', 'post_name', 'date'], axis=1, inplace=True)\n",
    "    fu = fu.groupby(['commune', 'sex', 'nationality', 'age'], as_index=False).sum()\n",
    "    return fu"
   ]
  },
  {
   "cell_type": "code",
   "execution_count": 8,
   "metadata": {
    "collapsed": false
   },
   "outputs": [],
   "source": [
    "for year in range (2013, 2017):\n",
    "    #filter out by year\n",
    "    if(year == 2016):\n",
    "        tmp = df[df['year'] == 2015]\n",
    "        tmp = tmp.drop('year', axis=1)\n",
    "        tmp = create_2016_data(tmp)\n",
    "    else:\n",
    "        tmp = df[df['year'] == year]\n",
    "        tmp = tmp.drop('year', axis=1)\n",
    "        \n",
    "    #compute total population by municipality\n",
    "    total = tmp.groupby('commune').sum()\n",
    "    total = total.drop('age', axis=1)\n",
    "    total.columns = ['total_inhabitants']\n",
    "    #for each age category compute the percentage of inhabitants in it and add the row to total\n",
    "    for i in [18, 40, 65, 100]:\n",
    "        age = tmp[tmp['age'] == i].groupby('commune').sum()\n",
    "        age = age.drop('age', axis=1)\n",
    "        age.columns = ['percentage_%d' %i]\n",
    "        total = pd.merge(total, age, left_index=True, right_index=True)\n",
    "        total['percentage_%d' %i] = total['percentage_%d' %i] / total['total_inhabitants']\n",
    "    #compute percentage of men in each municipality\n",
    "    men = tmp[tmp.sex == 'M'].groupby('commune').sum()\n",
    "    men = men.drop('age', axis=1)\n",
    "    men.columns = ['percentage_men']\n",
    "    total = pd.merge(total, men, left_index=True, right_index=True)\n",
    "    total['percentage_men'] =  total['percentage_men'] / total['total_inhabitants']\n",
    "    #compute percentage of swissin each municipality\n",
    "    swiss = tmp[tmp.nationality == 'S'].groupby('commune').sum()\n",
    "    swiss = swiss.drop('age', axis=1)\n",
    "    swiss.columns = ['percentage_swiss']\n",
    "    total = pd.merge(total, swiss, left_index=True, right_index=True)\n",
    "    total['percentage_swiss'] = total['percentage_swiss'] / total['total_inhabitants']\n",
    "    \n",
    "    total = total.reset_index(level=0)\n",
    "    #merge dataframe with municiplity ids\n",
    "#     TODO we need the correct ID per year\n",
    "#     total = pd.merge(ids, total, left_on='commune', right_on='commune')\n",
    "#     total = total.sort_values('id')\n",
    "#     total['id'] = total['id'].astype(int)\n",
    "    #round percentages to 2 decimals\n",
    "    total = total.round(2)\n",
    "    total.to_csv('data/%d/data_commune.csv' % year, index=False)"
   ]
  },
  {
   "cell_type": "code",
   "execution_count": 9,
   "metadata": {
    "collapsed": false
   },
   "outputs": [],
   "source": [
    "foo = pd.merge(ids, total, left_on='commune', right_on='commune', how='outer')\n",
    "inds = foo[pd.isnull(foo).any(1)]"
   ]
  },
  {
   "cell_type": "code",
   "execution_count": 10,
   "metadata": {
    "collapsed": false
   },
   "outputs": [
    {
     "data": {
      "text/html": [
       "<div>\n",
       "<table border=\"1\" class=\"dataframe\">\n",
       "  <thead>\n",
       "    <tr style=\"text-align: right;\">\n",
       "      <th></th>\n",
       "      <th>id</th>\n",
       "      <th>commune</th>\n",
       "      <th>total_inhabitants</th>\n",
       "      <th>percentage_18</th>\n",
       "      <th>percentage_40</th>\n",
       "      <th>percentage_65</th>\n",
       "      <th>percentage_100</th>\n",
       "      <th>percentage_men</th>\n",
       "      <th>percentage_swiss</th>\n",
       "    </tr>\n",
       "  </thead>\n",
       "  <tbody>\n",
       "    <tr>\n",
       "      <th>2278</th>\n",
       "      <td>NaN</td>\n",
       "      <td>Clavaleyres</td>\n",
       "      <td>49</td>\n",
       "      <td>0.16</td>\n",
       "      <td>0.24</td>\n",
       "      <td>0.35</td>\n",
       "      <td>0.24</td>\n",
       "      <td>0.53</td>\n",
       "      <td>0.96</td>\n",
       "    </tr>\n",
       "    <tr>\n",
       "      <th>2279</th>\n",
       "      <td>NaN</td>\n",
       "      <td>Deisswil bei Münchenbuchsee</td>\n",
       "      <td>85</td>\n",
       "      <td>0.12</td>\n",
       "      <td>0.29</td>\n",
       "      <td>0.40</td>\n",
       "      <td>0.19</td>\n",
       "      <td>0.48</td>\n",
       "      <td>1.00</td>\n",
       "    </tr>\n",
       "    <tr>\n",
       "      <th>2280</th>\n",
       "      <td>NaN</td>\n",
       "      <td>Hellsau</td>\n",
       "      <td>201</td>\n",
       "      <td>0.22</td>\n",
       "      <td>0.25</td>\n",
       "      <td>0.38</td>\n",
       "      <td>0.15</td>\n",
       "      <td>0.49</td>\n",
       "      <td>0.95</td>\n",
       "    </tr>\n",
       "    <tr>\n",
       "      <th>2281</th>\n",
       "      <td>NaN</td>\n",
       "      <td>Jaberg</td>\n",
       "      <td>252</td>\n",
       "      <td>0.16</td>\n",
       "      <td>0.25</td>\n",
       "      <td>0.46</td>\n",
       "      <td>0.13</td>\n",
       "      <td>0.47</td>\n",
       "      <td>0.97</td>\n",
       "    </tr>\n",
       "    <tr>\n",
       "      <th>2282</th>\n",
       "      <td>NaN</td>\n",
       "      <td>La Baroche</td>\n",
       "      <td>1184</td>\n",
       "      <td>0.20</td>\n",
       "      <td>0.22</td>\n",
       "      <td>0.35</td>\n",
       "      <td>0.23</td>\n",
       "      <td>0.50</td>\n",
       "      <td>0.93</td>\n",
       "    </tr>\n",
       "    <tr>\n",
       "      <th>2283</th>\n",
       "      <td>NaN</td>\n",
       "      <td>Meienried</td>\n",
       "      <td>52</td>\n",
       "      <td>0.06</td>\n",
       "      <td>0.27</td>\n",
       "      <td>0.50</td>\n",
       "      <td>0.17</td>\n",
       "      <td>0.56</td>\n",
       "      <td>0.96</td>\n",
       "    </tr>\n",
       "    <tr>\n",
       "      <th>2284</th>\n",
       "      <td>NaN</td>\n",
       "      <td>Niedermuhlern</td>\n",
       "      <td>463</td>\n",
       "      <td>0.17</td>\n",
       "      <td>0.27</td>\n",
       "      <td>0.38</td>\n",
       "      <td>0.18</td>\n",
       "      <td>0.51</td>\n",
       "      <td>0.95</td>\n",
       "    </tr>\n",
       "    <tr>\n",
       "      <th>2285</th>\n",
       "      <td>NaN</td>\n",
       "      <td>Noflen</td>\n",
       "      <td>304</td>\n",
       "      <td>0.21</td>\n",
       "      <td>0.34</td>\n",
       "      <td>0.31</td>\n",
       "      <td>0.15</td>\n",
       "      <td>0.53</td>\n",
       "      <td>0.95</td>\n",
       "    </tr>\n",
       "    <tr>\n",
       "      <th>2286</th>\n",
       "      <td>NaN</td>\n",
       "      <td>Rüti bei Lyssach</td>\n",
       "      <td>171</td>\n",
       "      <td>0.19</td>\n",
       "      <td>0.30</td>\n",
       "      <td>0.36</td>\n",
       "      <td>0.15</td>\n",
       "      <td>0.51</td>\n",
       "      <td>0.95</td>\n",
       "    </tr>\n",
       "  </tbody>\n",
       "</table>\n",
       "</div>"
      ],
      "text/plain": [
       "      id                      commune  total_inhabitants  percentage_18  \\\n",
       "2278 NaN                  Clavaleyres                 49           0.16   \n",
       "2279 NaN  Deisswil bei Münchenbuchsee                 85           0.12   \n",
       "2280 NaN                      Hellsau                201           0.22   \n",
       "2281 NaN                       Jaberg                252           0.16   \n",
       "2282 NaN                   La Baroche               1184           0.20   \n",
       "2283 NaN                    Meienried                 52           0.06   \n",
       "2284 NaN                Niedermuhlern                463           0.17   \n",
       "2285 NaN                       Noflen                304           0.21   \n",
       "2286 NaN             Rüti bei Lyssach                171           0.19   \n",
       "\n",
       "      percentage_40  percentage_65  percentage_100  percentage_men  \\\n",
       "2278           0.24           0.35            0.24            0.53   \n",
       "2279           0.29           0.40            0.19            0.48   \n",
       "2280           0.25           0.38            0.15            0.49   \n",
       "2281           0.25           0.46            0.13            0.47   \n",
       "2282           0.22           0.35            0.23            0.50   \n",
       "2283           0.27           0.50            0.17            0.56   \n",
       "2284           0.27           0.38            0.18            0.51   \n",
       "2285           0.34           0.31            0.15            0.53   \n",
       "2286           0.30           0.36            0.15            0.51   \n",
       "\n",
       "      percentage_swiss  \n",
       "2278              0.96  \n",
       "2279              1.00  \n",
       "2280              0.95  \n",
       "2281              0.97  \n",
       "2282              0.93  \n",
       "2283              0.96  \n",
       "2284              0.95  \n",
       "2285              0.95  \n",
       "2286              0.95  "
      ]
     },
     "execution_count": 10,
     "metadata": {},
     "output_type": "execute_result"
    }
   ],
   "source": [
    "inds"
   ]
  },
  {
   "cell_type": "code",
   "execution_count": 11,
   "metadata": {
    "collapsed": false
   },
   "outputs": [
    {
     "data": {
      "text/plain": [
       "(2287, 8)"
      ]
     },
     "execution_count": 11,
     "metadata": {},
     "output_type": "execute_result"
    }
   ],
   "source": [
    "total.shape"
   ]
  },
  {
   "cell_type": "code",
   "execution_count": null,
   "metadata": {
    "collapsed": true
   },
   "outputs": [],
   "source": []
  }
 ],
 "metadata": {
  "anaconda-cloud": {},
  "kernelspec": {
   "display_name": "Python [Root]",
   "language": "python",
   "name": "Python [Root]"
  },
  "language_info": {
   "codemirror_mode": {
    "name": "ipython",
    "version": 3
   },
   "file_extension": ".py",
   "mimetype": "text/x-python",
   "name": "python",
   "nbconvert_exporter": "python",
   "pygments_lexer": "ipython3",
   "version": "3.5.2"
  }
 },
 "nbformat": 4,
 "nbformat_minor": 0
}
