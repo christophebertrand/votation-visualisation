{
 "cells": [
  {
   "cell_type": "code",
   "execution_count": 1,
   "metadata": {
    "collapsed": true
   },
   "outputs": [],
   "source": [
    "# imports\n",
    "import pandas as pd\n",
    "import numpy as np\n",
    "import seaborn as sns\n",
    "import matplotlib.pyplot as plt\n",
    "from matplotlib.pyplot import show\n",
    "import re"
   ]
  },
  {
   "cell_type": "code",
   "execution_count": 2,
   "metadata": {
    "collapsed": true
   },
   "outputs": [],
   "source": [
    "df = pd.read_csv('data/population_cleaned.csv')"
   ]
  },
  {
   "cell_type": "code",
   "execution_count": 3,
   "metadata": {
    "collapsed": false
   },
   "outputs": [
    {
     "data": {
      "text/html": [
       "<div>\n",
       "<table border=\"1\" class=\"dataframe\">\n",
       "  <thead>\n",
       "    <tr style=\"text-align: right;\">\n",
       "      <th></th>\n",
       "      <th>age</th>\n",
       "      <th>nationality</th>\n",
       "      <th>sex</th>\n",
       "      <th>commune</th>\n",
       "      <th>year</th>\n",
       "      <th>value</th>\n",
       "    </tr>\n",
       "  </thead>\n",
       "  <tbody>\n",
       "    <tr>\n",
       "      <th>0</th>\n",
       "      <td>0</td>\n",
       "      <td>S</td>\n",
       "      <td>M</td>\n",
       "      <td>Aeugst am Albis</td>\n",
       "      <td>2010</td>\n",
       "      <td>8</td>\n",
       "    </tr>\n",
       "    <tr>\n",
       "      <th>1</th>\n",
       "      <td>1</td>\n",
       "      <td>S</td>\n",
       "      <td>M</td>\n",
       "      <td>Aeugst am Albis</td>\n",
       "      <td>2010</td>\n",
       "      <td>9</td>\n",
       "    </tr>\n",
       "    <tr>\n",
       "      <th>2</th>\n",
       "      <td>2</td>\n",
       "      <td>S</td>\n",
       "      <td>M</td>\n",
       "      <td>Aeugst am Albis</td>\n",
       "      <td>2010</td>\n",
       "      <td>7</td>\n",
       "    </tr>\n",
       "    <tr>\n",
       "      <th>3</th>\n",
       "      <td>3</td>\n",
       "      <td>S</td>\n",
       "      <td>M</td>\n",
       "      <td>Aeugst am Albis</td>\n",
       "      <td>2010</td>\n",
       "      <td>13</td>\n",
       "    </tr>\n",
       "    <tr>\n",
       "      <th>4</th>\n",
       "      <td>4</td>\n",
       "      <td>S</td>\n",
       "      <td>M</td>\n",
       "      <td>Aeugst am Albis</td>\n",
       "      <td>2010</td>\n",
       "      <td>5</td>\n",
       "    </tr>\n",
       "  </tbody>\n",
       "</table>\n",
       "</div>"
      ],
      "text/plain": [
       "   age nationality sex          commune  year  value\n",
       "0    0           S   M  Aeugst am Albis  2010      8\n",
       "1    1           S   M  Aeugst am Albis  2010      9\n",
       "2    2           S   M  Aeugst am Albis  2010      7\n",
       "3    3           S   M  Aeugst am Albis  2010     13\n",
       "4    4           S   M  Aeugst am Albis  2010      5"
      ]
     },
     "execution_count": 3,
     "metadata": {},
     "output_type": "execute_result"
    }
   ],
   "source": [
    "df.head()"
   ]
  },
  {
   "cell_type": "code",
   "execution_count": 4,
   "metadata": {
    "collapsed": true
   },
   "outputs": [],
   "source": [
    "#group the ages by categories :{[0, 18), [18, 40), [40, 65), [65, 100)}\n",
    "d = pd.DataFrame(columns=['commune', 'sex', 'year', 'nationality', 'age', 'value'])\n",
    "for l, u in [(0, 18), (18, 40), (40, 65), (65, 100)]:\n",
    "    tmp = df[df['age'] >= l]\n",
    "    tmp = tmp[tmp['age'] < u]\n",
    "    tmp = tmp.groupby(['commune', 'sex', 'year', 'nationality'], as_index=False).sum()\n",
    "    tmp['age'] = int(u)\n",
    "    d = pd.concat([d, tmp])\n",
    "for s in ['year', 'age', 'value']:\n",
    "    d[s] = d[s].astype(int)\n",
    "df = d"
   ]
  },
  {
   "cell_type": "code",
   "execution_count": 5,
   "metadata": {
    "collapsed": false
   },
   "outputs": [
    {
     "data": {
      "text/html": [
       "<div>\n",
       "<table border=\"1\" class=\"dataframe\">\n",
       "  <thead>\n",
       "    <tr style=\"text-align: right;\">\n",
       "      <th></th>\n",
       "      <th>commune</th>\n",
       "      <th>sex</th>\n",
       "      <th>year</th>\n",
       "      <th>nationality</th>\n",
       "      <th>age</th>\n",
       "      <th>value</th>\n",
       "    </tr>\n",
       "  </thead>\n",
       "  <tbody>\n",
       "    <tr>\n",
       "      <th>0</th>\n",
       "      <td>Aadorf</td>\n",
       "      <td>F</td>\n",
       "      <td>2010</td>\n",
       "      <td>A</td>\n",
       "      <td>18</td>\n",
       "      <td>122</td>\n",
       "    </tr>\n",
       "    <tr>\n",
       "      <th>1</th>\n",
       "      <td>Aadorf</td>\n",
       "      <td>F</td>\n",
       "      <td>2010</td>\n",
       "      <td>S</td>\n",
       "      <td>18</td>\n",
       "      <td>650</td>\n",
       "    </tr>\n",
       "    <tr>\n",
       "      <th>2</th>\n",
       "      <td>Aadorf</td>\n",
       "      <td>F</td>\n",
       "      <td>2011</td>\n",
       "      <td>A</td>\n",
       "      <td>18</td>\n",
       "      <td>120</td>\n",
       "    </tr>\n",
       "    <tr>\n",
       "      <th>3</th>\n",
       "      <td>Aadorf</td>\n",
       "      <td>F</td>\n",
       "      <td>2011</td>\n",
       "      <td>S</td>\n",
       "      <td>18</td>\n",
       "      <td>656</td>\n",
       "    </tr>\n",
       "    <tr>\n",
       "      <th>4</th>\n",
       "      <td>Aadorf</td>\n",
       "      <td>F</td>\n",
       "      <td>2012</td>\n",
       "      <td>A</td>\n",
       "      <td>18</td>\n",
       "      <td>108</td>\n",
       "    </tr>\n",
       "  </tbody>\n",
       "</table>\n",
       "</div>"
      ],
      "text/plain": [
       "  commune sex  year nationality  age  value\n",
       "0  Aadorf   F  2010           A   18    122\n",
       "1  Aadorf   F  2010           S   18    650\n",
       "2  Aadorf   F  2011           A   18    120\n",
       "3  Aadorf   F  2011           S   18    656\n",
       "4  Aadorf   F  2012           A   18    108"
      ]
     },
     "execution_count": 5,
     "metadata": {},
     "output_type": "execute_result"
    }
   ],
   "source": [
    "df.head()"
   ]
  },
  {
   "cell_type": "code",
   "execution_count": 6,
   "metadata": {
    "collapsed": false
   },
   "outputs": [],
   "source": [
    "ids =  pd.read_csv('data/data_to_be_processed/ids')\n",
    "ids.rename(columns={'name':'commune'}, inplace=True)\n",
    "ids = ids.sort_values('commune', ascending=True)"
   ]
  },
  {
   "cell_type": "code",
   "execution_count": 7,
   "metadata": {
    "collapsed": false
   },
   "outputs": [],
   "source": [
    "for year in range (2013, 2016):\n",
    "    #filter out by year\n",
    "    tmp = df[df['year'] == year]\n",
    "    tmp = tmp.drop('year', axis=1)\n",
    "    #compute total population by municipality\n",
    "    total = tmp.groupby('commune').sum()\n",
    "    total = total.drop('age', axis=1)\n",
    "    total.columns = ['total_inhabitants']\n",
    "    #for each age category compute the percentage of inhabitants in it and add the row to total\n",
    "    for i in [18, 40, 65, 100]:\n",
    "        age = tmp[tmp['age'] == i].groupby('commune').sum()\n",
    "        age = age.drop('age', axis=1)\n",
    "        age.columns = ['percentage_%d' %i]\n",
    "        total = pd.merge(total, age, left_index=True, right_index=True)\n",
    "        total['percentage_%d' %i] = total['percentage_%d' %i] / total['total_inhabitants']\n",
    "    #compute percentage of men in each municipality\n",
    "    men = tmp[tmp.sex == 'M'].groupby('commune').sum()\n",
    "    men = men.drop('age', axis=1)\n",
    "    men.columns = ['percentage_men']\n",
    "    total = pd.merge(total, men, left_index=True, right_index=True)\n",
    "    total['percentage_men'] =  total['percentage_men'] / total['total_inhabitants']\n",
    "    #compute percentage of swissin each municipality\n",
    "    swiss = tmp[tmp.nationality == 'S'].groupby('commune').sum()\n",
    "    swiss = swiss.drop('age', axis=1)\n",
    "    swiss.columns = ['percentage_swiss']\n",
    "    total = pd.merge(total, swiss, left_index=True, right_index=True)\n",
    "    total['percentage_swiss'] = total['percentage_swiss'] / total['total_inhabitants']\n",
    "    \n",
    "    total = total.reset_index(level=0)\n",
    "    #merge dataframe with municiplity ids\n",
    "    total = pd.merge(ids, total, left_on='commune', right_on='commune')\n",
    "    total = total.sort_values('id')\n",
    "    total['id'] = total['id'].astype(int)\n",
    "    #round percentages to 2 decimals\n",
    "    total = total.round(2)\n",
    "    total.to_csv('data/%d/data_commune.csv' % year, index=False)"
   ]
  },
  {
   "cell_type": "code",
   "execution_count": 8,
   "metadata": {
    "collapsed": false
   },
   "outputs": [
    {
     "data": {
      "text/html": [
       "<div>\n",
       "<table border=\"1\" class=\"dataframe\">\n",
       "  <thead>\n",
       "    <tr style=\"text-align: right;\">\n",
       "      <th></th>\n",
       "      <th>id</th>\n",
       "      <th>commune</th>\n",
       "      <th>total_inhabitants</th>\n",
       "      <th>percentage_18</th>\n",
       "      <th>percentage_40</th>\n",
       "      <th>percentage_65</th>\n",
       "      <th>percentage_100</th>\n",
       "      <th>percentage_men</th>\n",
       "      <th>percentage_swiss</th>\n",
       "    </tr>\n",
       "  </thead>\n",
       "  <tbody>\n",
       "    <tr>\n",
       "      <th>20</th>\n",
       "      <td>1</td>\n",
       "      <td>Aeugst am Albis</td>\n",
       "      <td>1981</td>\n",
       "      <td>0.19</td>\n",
       "      <td>0.23</td>\n",
       "      <td>0.42</td>\n",
       "      <td>0.16</td>\n",
       "      <td>0.50</td>\n",
       "      <td>0.87</td>\n",
       "    </tr>\n",
       "    <tr>\n",
       "      <th>22</th>\n",
       "      <td>2</td>\n",
       "      <td>Affoltern am Albis</td>\n",
       "      <td>11707</td>\n",
       "      <td>0.18</td>\n",
       "      <td>0.30</td>\n",
       "      <td>0.35</td>\n",
       "      <td>0.17</td>\n",
       "      <td>0.50</td>\n",
       "      <td>0.73</td>\n",
       "    </tr>\n",
       "    <tr>\n",
       "      <th>233</th>\n",
       "      <td>3</td>\n",
       "      <td>Bonstetten</td>\n",
       "      <td>5326</td>\n",
       "      <td>0.22</td>\n",
       "      <td>0.26</td>\n",
       "      <td>0.37</td>\n",
       "      <td>0.15</td>\n",
       "      <td>0.49</td>\n",
       "      <td>0.86</td>\n",
       "    </tr>\n",
       "    <tr>\n",
       "      <th>849</th>\n",
       "      <td>4</td>\n",
       "      <td>Hausen am Albis</td>\n",
       "      <td>3477</td>\n",
       "      <td>0.20</td>\n",
       "      <td>0.23</td>\n",
       "      <td>0.40</td>\n",
       "      <td>0.17</td>\n",
       "      <td>0.49</td>\n",
       "      <td>0.86</td>\n",
       "    </tr>\n",
       "    <tr>\n",
       "      <th>856</th>\n",
       "      <td>5</td>\n",
       "      <td>Hedingen</td>\n",
       "      <td>3659</td>\n",
       "      <td>0.21</td>\n",
       "      <td>0.25</td>\n",
       "      <td>0.39</td>\n",
       "      <td>0.15</td>\n",
       "      <td>0.50</td>\n",
       "      <td>0.85</td>\n",
       "    </tr>\n",
       "  </tbody>\n",
       "</table>\n",
       "</div>"
      ],
      "text/plain": [
       "     id             commune  total_inhabitants  percentage_18  percentage_40  \\\n",
       "20    1     Aeugst am Albis               1981           0.19           0.23   \n",
       "22    2  Affoltern am Albis              11707           0.18           0.30   \n",
       "233   3          Bonstetten               5326           0.22           0.26   \n",
       "849   4     Hausen am Albis               3477           0.20           0.23   \n",
       "856   5            Hedingen               3659           0.21           0.25   \n",
       "\n",
       "     percentage_65  percentage_100  percentage_men  percentage_swiss  \n",
       "20            0.42            0.16            0.50              0.87  \n",
       "22            0.35            0.17            0.50              0.73  \n",
       "233           0.37            0.15            0.49              0.86  \n",
       "849           0.40            0.17            0.49              0.86  \n",
       "856           0.39            0.15            0.50              0.85  "
      ]
     },
     "execution_count": 8,
     "metadata": {},
     "output_type": "execute_result"
    }
   ],
   "source": [
    "total.head()"
   ]
  },
  {
   "cell_type": "code",
   "execution_count": null,
   "metadata": {
    "collapsed": true
   },
   "outputs": [],
   "source": []
  }
 ],
 "metadata": {
  "anaconda-cloud": {},
  "kernelspec": {
   "display_name": "Python [Root]",
   "language": "python",
   "name": "Python [Root]"
  },
  "language_info": {
   "codemirror_mode": {
    "name": "ipython",
    "version": 3
   },
   "file_extension": ".py",
   "mimetype": "text/x-python",
   "name": "python",
   "nbconvert_exporter": "python",
   "pygments_lexer": "ipython3",
   "version": "3.5.2"
  }
 },
 "nbformat": 4,
 "nbformat_minor": 0
}
