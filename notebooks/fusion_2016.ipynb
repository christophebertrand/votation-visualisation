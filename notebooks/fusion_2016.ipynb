{
 "cells": [
  {
   "cell_type": "markdown",
   "metadata": {},
   "source": [
    "The data used here can be found [here](http://www.portal-stat.admin.ch/gde-tool/core/xshared/gewo.php?lng=de-de)."
   ]
  },
  {
   "cell_type": "code",
   "execution_count": 23,
   "metadata": {
    "collapsed": true
   },
   "outputs": [],
   "source": [
    "# imports\n",
    "import pandas as pd\n",
    "import numpy as np\n",
    "import seaborn as sns\n",
    "import matplotlib.pyplot as plt\n",
    "from matplotlib.pyplot import show\n",
    "import re"
   ]
  },
  {
   "cell_type": "code",
   "execution_count": 24,
   "metadata": {
    "collapsed": false,
    "scrolled": false
   },
   "outputs": [
    {
     "name": "stdout",
     "output_type": "stream",
     "text": [
      "WARNING *** OLE2 inconsistency: SSCS size is 0 but SSAT size is non-zero\n",
      "WARNING *** OLE2 inconsistency: SSCS size is 0 but SSAT size is non-zero\n"
     ]
    },
    {
     "data": {
      "text/plain": [
       "(802, 5)"
      ]
     },
     "execution_count": 24,
     "metadata": {},
     "output_type": "execute_result"
    }
   ],
   "source": [
    "# xl.sheet_names\n",
    "x = pd.read_excel(\"../data/data_to_be_processed/raw_data/municipalities_fusion.xls\", sheetname='exportList', skiprows=13)\n",
    "x.drop([x.columns[i] for i in [0,1,2,5,6]], axis=1, inplace=True)\n",
    "x.columns = ['pre_id', 'pre_name', 'post_id', 'post_name', 'date']\n",
    "\n",
    "r = pd.read_excel(\"../data/data_to_be_processed/raw_data/municipalities_renaming.xls\", sheetname='exportList', skiprows=13)\n",
    "r.drop([r.columns[i] for i in [0,1,2,5,6]], axis=1, inplace=True)\n",
    "r.columns = ['pre_id', 'pre_name', 'post_id', 'post_name', 'date']\n",
    "r.head(200)\n",
    "r = r[r.pre_name == r.post_name]\n",
    "x = x.append(r, ignore_index=True)\n",
    "x.shape"
   ]
  },
  {
   "cell_type": "code",
   "execution_count": 25,
   "metadata": {
    "collapsed": false
   },
   "outputs": [
    {
     "data": {
      "text/plain": [
       "(24, 5)"
      ]
     },
     "execution_count": 25,
     "metadata": {},
     "output_type": "execute_result"
    }
   ],
   "source": [
    "r[r.pre_name == r.post_name].shape"
   ]
  },
  {
   "cell_type": "code",
   "execution_count": 26,
   "metadata": {
    "collapsed": false
   },
   "outputs": [
    {
     "data": {
      "text/plain": [
       "(802, 5)"
      ]
     },
     "execution_count": 26,
     "metadata": {},
     "output_type": "execute_result"
    }
   ],
   "source": [
    "x.shape"
   ]
  },
  {
   "cell_type": "code",
   "execution_count": 27,
   "metadata": {
    "collapsed": false
   },
   "outputs": [
    {
     "data": {
      "text/html": [
       "<div>\n",
       "<table border=\"1\" class=\"dataframe\">\n",
       "  <thead>\n",
       "    <tr style=\"text-align: right;\">\n",
       "      <th></th>\n",
       "      <th>pre_id</th>\n",
       "      <th>pre_name</th>\n",
       "      <th>post_id</th>\n",
       "      <th>post_name</th>\n",
       "      <th>date</th>\n",
       "    </tr>\n",
       "  </thead>\n",
       "  <tbody>\n",
       "    <tr>\n",
       "      <th>502</th>\n",
       "      <td>548</td>\n",
       "      <td>Ruppoldsried</td>\n",
       "      <td>310</td>\n",
       "      <td>Rapperswil (BE)</td>\n",
       "      <td>01.01.2013</td>\n",
       "    </tr>\n",
       "    <tr>\n",
       "      <th>700</th>\n",
       "      <td>532</td>\n",
       "      <td>Bangerten</td>\n",
       "      <td>310</td>\n",
       "      <td>Rapperswil (BE)</td>\n",
       "      <td>01.01.2016</td>\n",
       "    </tr>\n",
       "    <tr>\n",
       "      <th>783</th>\n",
       "      <td>310</td>\n",
       "      <td>Rapperswil (BE)</td>\n",
       "      <td>310</td>\n",
       "      <td>Rapperswil (BE)</td>\n",
       "      <td>01.01.2016</td>\n",
       "    </tr>\n",
       "  </tbody>\n",
       "</table>\n",
       "</div>"
      ],
      "text/plain": [
       "     pre_id         pre_name  post_id        post_name        date\n",
       "502     548     Ruppoldsried      310  Rapperswil (BE)  01.01.2013\n",
       "700     532        Bangerten      310  Rapperswil (BE)  01.01.2016\n",
       "783     310  Rapperswil (BE)      310  Rapperswil (BE)  01.01.2016"
      ]
     },
     "execution_count": 27,
     "metadata": {},
     "output_type": "execute_result"
    }
   ],
   "source": [
    "x[x.post_name == 'Rapperswil (BE)']"
   ]
  },
  {
   "cell_type": "code",
   "execution_count": 28,
   "metadata": {
    "collapsed": false,
    "scrolled": true
   },
   "outputs": [
    {
     "data": {
      "text/html": [
       "<div>\n",
       "<table border=\"1\" class=\"dataframe\">\n",
       "  <thead>\n",
       "    <tr style=\"text-align: right;\">\n",
       "      <th></th>\n",
       "      <th>pre_id</th>\n",
       "      <th>pre_name</th>\n",
       "      <th>post_id</th>\n",
       "      <th>post_name</th>\n",
       "      <th>date</th>\n",
       "    </tr>\n",
       "  </thead>\n",
       "  <tbody>\n",
       "    <tr>\n",
       "      <th>5</th>\n",
       "      <td>6053</td>\n",
       "      <td>Biel (VS)</td>\n",
       "      <td>6073</td>\n",
       "      <td>Grafschaft</td>\n",
       "      <td>01.10.2000</td>\n",
       "    </tr>\n",
       "    <tr>\n",
       "      <th>6</th>\n",
       "      <td>6068</td>\n",
       "      <td>Ritzingen</td>\n",
       "      <td>6073</td>\n",
       "      <td>Grafschaft</td>\n",
       "      <td>01.10.2000</td>\n",
       "    </tr>\n",
       "    <tr>\n",
       "      <th>7</th>\n",
       "      <td>6069</td>\n",
       "      <td>Selkingen</td>\n",
       "      <td>6073</td>\n",
       "      <td>Grafschaft</td>\n",
       "      <td>01.10.2000</td>\n",
       "    </tr>\n",
       "    <tr>\n",
       "      <th>8</th>\n",
       "      <td>6108</td>\n",
       "      <td>Guttet</td>\n",
       "      <td>6117</td>\n",
       "      <td>Guttet-Feschel</td>\n",
       "      <td>01.10.2000</td>\n",
       "    </tr>\n",
       "    <tr>\n",
       "      <th>9</th>\n",
       "      <td>6106</td>\n",
       "      <td>Feschel</td>\n",
       "      <td>6117</td>\n",
       "      <td>Guttet-Feschel</td>\n",
       "      <td>01.10.2000</td>\n",
       "    </tr>\n",
       "  </tbody>\n",
       "</table>\n",
       "</div>"
      ],
      "text/plain": [
       "   pre_id   pre_name  post_id       post_name        date\n",
       "5    6053  Biel (VS)     6073      Grafschaft  01.10.2000\n",
       "6    6068  Ritzingen     6073      Grafschaft  01.10.2000\n",
       "7    6069  Selkingen     6073      Grafschaft  01.10.2000\n",
       "8    6108     Guttet     6117  Guttet-Feschel  01.10.2000\n",
       "9    6106    Feschel     6117  Guttet-Feschel  01.10.2000"
      ]
     },
     "execution_count": 28,
     "metadata": {},
     "output_type": "execute_result"
    }
   ],
   "source": [
    "#some municipalities have not fusionned on the 01.01.201**\n",
    "t = x.loc[(x.date.str.contains('01.01') == False)]\n",
    "t.head()"
   ]
  },
  {
   "cell_type": "code",
   "execution_count": 29,
   "metadata": {
    "collapsed": false,
    "scrolled": true
   },
   "outputs": [],
   "source": [
    "x = x.append(pd.DataFrame([[5248,'Casima',5249,'Castel San Pietro','04.04.2004']], columns=x.columns), ignore_index=True)\n",
    "x = x.append(pd.DataFrame([[5256,'Monte',5249,'Castel San Pietro','04.04.2004']], columns=x.columns), ignore_index=True)\n"
   ]
  },
  {
   "cell_type": "code",
   "execution_count": 30,
   "metadata": {
    "collapsed": false
   },
   "outputs": [
    {
     "data": {
      "text/plain": [
       "(804, 5)"
      ]
     },
     "execution_count": 30,
     "metadata": {},
     "output_type": "execute_result"
    }
   ],
   "source": [
    "x.shape"
   ]
  },
  {
   "cell_type": "markdown",
   "metadata": {},
   "source": [
    "We must remove all the fusion that append during the year 2016 => > 01.01.2016"
   ]
  },
  {
   "cell_type": "code",
   "execution_count": 31,
   "metadata": {
    "collapsed": false
   },
   "outputs": [
    {
     "data": {
      "text/plain": [
       "0     2000-01-01\n",
       "1     2000-01-01\n",
       "2     2000-01-01\n",
       "3     2000-01-01\n",
       "4     2000-01-01\n",
       "5     2000-10-01\n",
       "6     2000-10-01\n",
       "7     2000-10-01\n",
       "8     2000-10-01\n",
       "9     2000-10-01\n",
       "10    2001-01-01\n",
       "11    2001-01-01\n",
       "12    2001-01-01\n",
       "13    2001-01-01\n",
       "14    2001-01-01\n",
       "15    2001-01-01\n",
       "16    2001-01-01\n",
       "17    2001-01-01\n",
       "18    2001-01-01\n",
       "19    2001-01-01\n",
       "20    2001-01-01\n",
       "21    2001-01-01\n",
       "22    2001-01-01\n",
       "23    2001-01-01\n",
       "24    2001-01-01\n",
       "25    2001-01-01\n",
       "26    2001-01-01\n",
       "27    2001-01-01\n",
       "28    2001-01-01\n",
       "29    2001-01-01\n",
       "         ...    \n",
       "774   2017-01-01\n",
       "775   2017-01-01\n",
       "776   2017-01-01\n",
       "777   2017-01-01\n",
       "778   2015-01-01\n",
       "779   2015-01-01\n",
       "780   2015-01-01\n",
       "781   2015-01-01\n",
       "782   2015-01-01\n",
       "783   2016-01-01\n",
       "784   2016-01-01\n",
       "785   2016-01-01\n",
       "786   2016-01-01\n",
       "787   2016-01-01\n",
       "788   2016-01-01\n",
       "789   2016-01-01\n",
       "790   2016-01-01\n",
       "791   2016-04-10\n",
       "792   2016-04-10\n",
       "793   2017-01-01\n",
       "794   2017-01-01\n",
       "795   2017-01-01\n",
       "796   2017-01-01\n",
       "797   2017-01-01\n",
       "798   2017-01-01\n",
       "799   2017-01-01\n",
       "800   2017-01-01\n",
       "801   2017-01-01\n",
       "802   2004-04-04\n",
       "803   2004-04-04\n",
       "Name: date, dtype: datetime64[ns]"
      ]
     },
     "execution_count": 31,
     "metadata": {},
     "output_type": "execute_result"
    }
   ],
   "source": [
    "pd.to_datetime(x.date, dayfirst=True)"
   ]
  },
  {
   "cell_type": "code",
   "execution_count": 33,
   "metadata": {
    "collapsed": true
   },
   "outputs": [],
   "source": [
    "x.to_csv('../data/data_to_be_processed/cleaned_data/fusion_mappings.csv', index=False)"
   ]
  },
  {
   "cell_type": "code",
   "execution_count": 34,
   "metadata": {
    "collapsed": false
   },
   "outputs": [],
   "source": [
    "x = x[pd.to_datetime(x.date, dayfirst=True) <= np.datetime64('2016')]"
   ]
  },
  {
   "cell_type": "code",
   "execution_count": 35,
   "metadata": {
    "collapsed": true
   },
   "outputs": [],
   "source": [
    "x.to_csv('../data/data_to_be_processed/cleaned_data/fusion_mappingsBefore02-01-2016.csv', index=False)"
   ]
  },
  {
   "cell_type": "code",
   "execution_count": null,
   "metadata": {
    "collapsed": true
   },
   "outputs": [],
   "source": []
  }
 ],
 "metadata": {
  "anaconda-cloud": {},
  "kernelspec": {
   "display_name": "Python [conda root]",
   "language": "python",
   "name": "conda-root-py"
  },
  "language_info": {
   "codemirror_mode": {
    "name": "ipython",
    "version": 3
   },
   "file_extension": ".py",
   "mimetype": "text/x-python",
   "name": "python",
   "nbconvert_exporter": "python",
   "pygments_lexer": "ipython3",
   "version": "3.5.2"
  }
 },
 "nbformat": 4,
 "nbformat_minor": 0
}
