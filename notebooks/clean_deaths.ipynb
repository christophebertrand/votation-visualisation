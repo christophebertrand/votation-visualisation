{
 "cells": [
  {
   "cell_type": "markdown",
   "metadata": {},
   "source": [
    "Data from https://www.pxweb.bfs.admin.ch/default.aspx"
   ]
  },
  {
   "cell_type": "code",
   "execution_count": 1,
   "metadata": {
    "collapsed": true
   },
   "outputs": [],
   "source": [
    "# imports\n",
    "import pandas as pd\n",
    "import numpy as np\n",
    "import seaborn as sns\n",
    "import matplotlib.pyplot as plt\n",
    "from matplotlib.pyplot import show\n",
    "\n",
    "%matplotlib inline\n",
    "sns.set_context('notebook')\n",
    "pd.options.mode.chained_assignment = None  # default='warn'\n",
    "pd.set_option('display.max_columns', 500) # show more columns\n",
    "nan = np.nan # store numpy.nan in 'nan'"
   ]
  },
  {
   "cell_type": "code",
   "execution_count": 2,
   "metadata": {
    "collapsed": false
   },
   "outputs": [],
   "source": [
    "raw_o40= pd.read_csv('../data/data_to_be_processed/raw_data/deaths_over40_utf8_raw.csv', sep=';', header=1)\n",
    "raw_sub40 = pd.read_csv('../data/data_to_be_processed/raw_data/deaths_sub40_utf8_raw.csv', sep=';', header=1)\n",
    "raw_tot = pd.read_csv('../data/data_to_be_processed/raw_data/deaths_total_utf8_raw.csv', sep=';', header=1)\n",
    "\n",
    "# rename the columns\n",
    "d = {'Jahr':'year', 'Kanton (-) / Bezirk (>>) / Gemeinde (......)': 'commune_name', \n",
    "     'Zivilstand - Total Unter 20 Jahre':'death age 0-20',\n",
    "     'Zivilstand - Total 20-29 Jahre':'death age 20-29',\n",
    "     'Zivilstand - Total 30-39 Jahre':'death age 30-39',\n",
    "                   'Zivilstand - Total 40-49 Jahre':'death age 40-49',\n",
    "                   'Zivilstand - Total 50-59 Jahre':'death age 50-59',\n",
    "                    'Zivilstand - Total 60-69 Jahre':'death age 60-69',\n",
    "                    'Zivilstand - Total 70-79 Jahre':'death age 70-79',\n",
    "                    'Zivilstand - Total 80-89 Jahre':'death age 80-89',\n",
    "                    'Zivilstand - Total 80 Jahre und mehr':'death age 90+',\n",
    "    'Zivilstand - Total Altersklasse - Total':'total deaths'}\n",
    "raw_sub40.rename(columns=d, inplace=True)\n",
    "raw_o40.rename(columns=d, inplace=True)\n",
    "raw_tot.rename(columns=d, inplace=True)\n",
    "\n",
    "raw_o40.drop(['Geschlecht', 'Staatsangehörigkeit'], inplace=True, axis=1)\n",
    "raw_sub40.drop(['Geschlecht', 'Staatsangehörigkeit'], inplace=True, axis=1)\n",
    "raw_tot.drop(['Geschlecht'], inplace=True, axis=1)\n"
   ]
  },
  {
   "cell_type": "code",
   "execution_count": 3,
   "metadata": {
    "collapsed": true
   },
   "outputs": [],
   "source": [
    "# remove cantons and bezirk and remove '......' from names\n",
    "def _remove_dots(row):\n",
    "    return row['commune_name'].replace('......', '')\n",
    "def _keep_only_communes(df):\n",
    "    tmp = df[df['commune_name'].str.find('....') >= 0]\n",
    "    tmp['commune_name'] = tmp.apply(_remove_dots, axis=1)\n",
    "    return tmp"
   ]
  },
  {
   "cell_type": "code",
   "execution_count": 4,
   "metadata": {
    "collapsed": false
   },
   "outputs": [],
   "source": [
    "raw_o40 = _keep_only_communes(raw_o40)\n",
    "raw_sub40 = _keep_only_communes(raw_sub40)\n",
    "raw_tot = _keep_only_communes(raw_tot)"
   ]
  },
  {
   "cell_type": "code",
   "execution_count": 5,
   "metadata": {
    "collapsed": false
   },
   "outputs": [
    {
     "data": {
      "text/html": [
       "<div>\n",
       "<table border=\"1\" class=\"dataframe\">\n",
       "  <thead>\n",
       "    <tr style=\"text-align: right;\">\n",
       "      <th></th>\n",
       "      <th>year</th>\n",
       "      <th>commune_name</th>\n",
       "      <th>death age 40-49</th>\n",
       "      <th>death age 50-59</th>\n",
       "      <th>death age 60-69</th>\n",
       "      <th>death age 70-79</th>\n",
       "      <th>death age 80-89</th>\n",
       "      <th>Zivilstand - Total 90 Jahre und mehr</th>\n",
       "    </tr>\n",
       "  </thead>\n",
       "  <tbody>\n",
       "    <tr>\n",
       "      <th>3</th>\n",
       "      <td>2013</td>\n",
       "      <td>0001 Aeugst am Albis</td>\n",
       "      <td>1</td>\n",
       "      <td>1</td>\n",
       "      <td>0</td>\n",
       "      <td>3</td>\n",
       "      <td>7</td>\n",
       "      <td>1</td>\n",
       "    </tr>\n",
       "    <tr>\n",
       "      <th>4</th>\n",
       "      <td>2013</td>\n",
       "      <td>0002 Affoltern am Albis</td>\n",
       "      <td>1</td>\n",
       "      <td>3</td>\n",
       "      <td>10</td>\n",
       "      <td>19</td>\n",
       "      <td>28</td>\n",
       "      <td>13</td>\n",
       "    </tr>\n",
       "    <tr>\n",
       "      <th>5</th>\n",
       "      <td>2013</td>\n",
       "      <td>0003 Bonstetten</td>\n",
       "      <td>2</td>\n",
       "      <td>1</td>\n",
       "      <td>3</td>\n",
       "      <td>6</td>\n",
       "      <td>6</td>\n",
       "      <td>6</td>\n",
       "    </tr>\n",
       "    <tr>\n",
       "      <th>6</th>\n",
       "      <td>2013</td>\n",
       "      <td>0004 Hausen am Albis</td>\n",
       "      <td>2</td>\n",
       "      <td>1</td>\n",
       "      <td>8</td>\n",
       "      <td>8</td>\n",
       "      <td>10</td>\n",
       "      <td>5</td>\n",
       "    </tr>\n",
       "    <tr>\n",
       "      <th>7</th>\n",
       "      <td>2013</td>\n",
       "      <td>0005 Hedingen</td>\n",
       "      <td>1</td>\n",
       "      <td>5</td>\n",
       "      <td>2</td>\n",
       "      <td>4</td>\n",
       "      <td>5</td>\n",
       "      <td>5</td>\n",
       "    </tr>\n",
       "  </tbody>\n",
       "</table>\n",
       "</div>"
      ],
      "text/plain": [
       "   year             commune_name  death age 40-49  death age 50-59  \\\n",
       "3  2013     0001 Aeugst am Albis                1                1   \n",
       "4  2013  0002 Affoltern am Albis                1                3   \n",
       "5  2013          0003 Bonstetten                2                1   \n",
       "6  2013     0004 Hausen am Albis                2                1   \n",
       "7  2013            0005 Hedingen                1                5   \n",
       "\n",
       "   death age 60-69  death age 70-79  death age 80-89  \\\n",
       "3                0                3                7   \n",
       "4               10               19               28   \n",
       "5                3                6                6   \n",
       "6                8                8               10   \n",
       "7                2                4                5   \n",
       "\n",
       "   Zivilstand - Total 90 Jahre und mehr  \n",
       "3                                     1  \n",
       "4                                    13  \n",
       "5                                     6  \n",
       "6                                     5  \n",
       "7                                     5  "
      ]
     },
     "execution_count": 5,
     "metadata": {},
     "output_type": "execute_result"
    }
   ],
   "source": [
    "raw_o40.head()"
   ]
  },
  {
   "cell_type": "code",
   "execution_count": 6,
   "metadata": {
    "collapsed": false
   },
   "outputs": [
    {
     "data": {
      "text/html": [
       "<div>\n",
       "<table border=\"1\" class=\"dataframe\">\n",
       "  <thead>\n",
       "    <tr style=\"text-align: right;\">\n",
       "      <th></th>\n",
       "      <th>year</th>\n",
       "      <th>commune_name</th>\n",
       "      <th>death age 0-20</th>\n",
       "      <th>death age 20-29</th>\n",
       "      <th>death age 30-39</th>\n",
       "    </tr>\n",
       "  </thead>\n",
       "  <tbody>\n",
       "    <tr>\n",
       "      <th>3</th>\n",
       "      <td>2013</td>\n",
       "      <td>0001 Aeugst am Albis</td>\n",
       "      <td>0</td>\n",
       "      <td>0</td>\n",
       "      <td>0</td>\n",
       "    </tr>\n",
       "    <tr>\n",
       "      <th>4</th>\n",
       "      <td>2013</td>\n",
       "      <td>0002 Affoltern am Albis</td>\n",
       "      <td>0</td>\n",
       "      <td>1</td>\n",
       "      <td>0</td>\n",
       "    </tr>\n",
       "    <tr>\n",
       "      <th>5</th>\n",
       "      <td>2013</td>\n",
       "      <td>0003 Bonstetten</td>\n",
       "      <td>0</td>\n",
       "      <td>0</td>\n",
       "      <td>0</td>\n",
       "    </tr>\n",
       "    <tr>\n",
       "      <th>6</th>\n",
       "      <td>2013</td>\n",
       "      <td>0004 Hausen am Albis</td>\n",
       "      <td>0</td>\n",
       "      <td>1</td>\n",
       "      <td>0</td>\n",
       "    </tr>\n",
       "    <tr>\n",
       "      <th>7</th>\n",
       "      <td>2013</td>\n",
       "      <td>0005 Hedingen</td>\n",
       "      <td>0</td>\n",
       "      <td>0</td>\n",
       "      <td>0</td>\n",
       "    </tr>\n",
       "  </tbody>\n",
       "</table>\n",
       "</div>"
      ],
      "text/plain": [
       "   year             commune_name  death age 0-20  death age 20-29  \\\n",
       "3  2013     0001 Aeugst am Albis               0                0   \n",
       "4  2013  0002 Affoltern am Albis               0                1   \n",
       "5  2013          0003 Bonstetten               0                0   \n",
       "6  2013     0004 Hausen am Albis               0                1   \n",
       "7  2013            0005 Hedingen               0                0   \n",
       "\n",
       "   death age 30-39  \n",
       "3                0  \n",
       "4                0  \n",
       "5                0  \n",
       "6                0  \n",
       "7                0  "
      ]
     },
     "execution_count": 6,
     "metadata": {},
     "output_type": "execute_result"
    }
   ],
   "source": [
    "raw_sub40.head()"
   ]
  },
  {
   "cell_type": "code",
   "execution_count": 7,
   "metadata": {
    "collapsed": false
   },
   "outputs": [
    {
     "data": {
      "text/html": [
       "<div>\n",
       "<table border=\"1\" class=\"dataframe\">\n",
       "  <thead>\n",
       "    <tr style=\"text-align: right;\">\n",
       "      <th></th>\n",
       "      <th>year</th>\n",
       "      <th>commune_name</th>\n",
       "      <th>Staatsangehörigkeit</th>\n",
       "      <th>total deaths</th>\n",
       "    </tr>\n",
       "  </thead>\n",
       "  <tbody>\n",
       "    <tr>\n",
       "      <th>9</th>\n",
       "      <td>2013</td>\n",
       "      <td>0001 Aeugst am Albis</td>\n",
       "      <td>Staatsangehörigkeit - Total</td>\n",
       "      <td>13</td>\n",
       "    </tr>\n",
       "    <tr>\n",
       "      <th>10</th>\n",
       "      <td>2013</td>\n",
       "      <td>0001 Aeugst am Albis</td>\n",
       "      <td>Schweiz</td>\n",
       "      <td>12</td>\n",
       "    </tr>\n",
       "    <tr>\n",
       "      <th>11</th>\n",
       "      <td>2013</td>\n",
       "      <td>0001 Aeugst am Albis</td>\n",
       "      <td>Ausland</td>\n",
       "      <td>1</td>\n",
       "    </tr>\n",
       "    <tr>\n",
       "      <th>12</th>\n",
       "      <td>2013</td>\n",
       "      <td>0002 Affoltern am Albis</td>\n",
       "      <td>Staatsangehörigkeit - Total</td>\n",
       "      <td>75</td>\n",
       "    </tr>\n",
       "    <tr>\n",
       "      <th>13</th>\n",
       "      <td>2013</td>\n",
       "      <td>0002 Affoltern am Albis</td>\n",
       "      <td>Schweiz</td>\n",
       "      <td>67</td>\n",
       "    </tr>\n",
       "  </tbody>\n",
       "</table>\n",
       "</div>"
      ],
      "text/plain": [
       "    year             commune_name          Staatsangehörigkeit  total deaths\n",
       "9   2013     0001 Aeugst am Albis  Staatsangehörigkeit - Total            13\n",
       "10  2013     0001 Aeugst am Albis                      Schweiz            12\n",
       "11  2013     0001 Aeugst am Albis                      Ausland             1\n",
       "12  2013  0002 Affoltern am Albis  Staatsangehörigkeit - Total            75\n",
       "13  2013  0002 Affoltern am Albis                      Schweiz            67"
      ]
     },
     "execution_count": 7,
     "metadata": {},
     "output_type": "execute_result"
    }
   ],
   "source": [
    "raw_tot.head()"
   ]
  },
  {
   "cell_type": "markdown",
   "metadata": {},
   "source": [
    "Continue only with total deaths"
   ]
  },
  {
   "cell_type": "code",
   "execution_count": 8,
   "metadata": {
    "collapsed": true
   },
   "outputs": [],
   "source": [
    "# parse commune_id\n",
    "def _parse_commune_id(row):\n",
    "    return int(row['commune_name'].split()[0])\n",
    "\n",
    "def _remove_id_from_name(row):\n",
    "    return ' '.join(row['commune_name'].split()[1:])"
   ]
  },
  {
   "cell_type": "code",
   "execution_count": 9,
   "metadata": {
    "collapsed": true
   },
   "outputs": [],
   "source": [
    "data = raw_tot\n",
    "data['id'] = data.apply(_parse_commune_id, axis=1)\n",
    "data['commune_name'] = data.apply(_remove_id_from_name, axis=1)"
   ]
  },
  {
   "cell_type": "code",
   "execution_count": 10,
   "metadata": {
    "collapsed": false
   },
   "outputs": [
    {
     "data": {
      "text/html": [
       "<div>\n",
       "<table border=\"1\" class=\"dataframe\">\n",
       "  <thead>\n",
       "    <tr style=\"text-align: right;\">\n",
       "      <th></th>\n",
       "      <th>year</th>\n",
       "      <th>total deaths</th>\n",
       "      <th>id</th>\n",
       "    </tr>\n",
       "  </thead>\n",
       "  <tbody>\n",
       "    <tr>\n",
       "      <th>9</th>\n",
       "      <td>2013</td>\n",
       "      <td>13</td>\n",
       "      <td>1</td>\n",
       "    </tr>\n",
       "    <tr>\n",
       "      <th>12</th>\n",
       "      <td>2013</td>\n",
       "      <td>75</td>\n",
       "      <td>2</td>\n",
       "    </tr>\n",
       "    <tr>\n",
       "      <th>15</th>\n",
       "      <td>2013</td>\n",
       "      <td>24</td>\n",
       "      <td>3</td>\n",
       "    </tr>\n",
       "    <tr>\n",
       "      <th>18</th>\n",
       "      <td>2013</td>\n",
       "      <td>35</td>\n",
       "      <td>4</td>\n",
       "    </tr>\n",
       "    <tr>\n",
       "      <th>21</th>\n",
       "      <td>2013</td>\n",
       "      <td>22</td>\n",
       "      <td>5</td>\n",
       "    </tr>\n",
       "  </tbody>\n",
       "</table>\n",
       "</div>"
      ],
      "text/plain": [
       "    year  total deaths  id\n",
       "9   2013            13   1\n",
       "12  2013            75   2\n",
       "15  2013            24   3\n",
       "18  2013            35   4\n",
       "21  2013            22   5"
      ]
     },
     "execution_count": 10,
     "metadata": {},
     "output_type": "execute_result"
    }
   ],
   "source": [
    "data = data[data['Staatsangehörigkeit'] == 'Staatsangehörigkeit - Total']\n",
    "data.drop(['Staatsangehörigkeit', 'commune_name'], axis=1, inplace=True)\n",
    "data.head()"
   ]
  },
  {
   "cell_type": "code",
   "execution_count": 11,
   "metadata": {
    "collapsed": true
   },
   "outputs": [],
   "source": [
    "#split years:\n",
    "def _split_years(year):\n",
    "    return data[data['year'] == year]\n",
    "data2013 = _split_years(2013)\n",
    "data2014 = _split_years(2014)\n",
    "data2015 = _split_years(2015)\n",
    "data2013.drop('year', axis=1, inplace=True)\n",
    "data2014.drop('year', axis=1, inplace=True)\n",
    "data2015.drop('year', axis=1, inplace=True)"
   ]
  },
  {
   "cell_type": "code",
   "execution_count": 12,
   "metadata": {
    "collapsed": false
   },
   "outputs": [
    {
     "data": {
      "text/html": [
       "<div>\n",
       "<table border=\"1\" class=\"dataframe\">\n",
       "  <thead>\n",
       "    <tr style=\"text-align: right;\">\n",
       "      <th></th>\n",
       "      <th>total deaths</th>\n",
       "      <th>id</th>\n",
       "    </tr>\n",
       "  </thead>\n",
       "  <tbody>\n",
       "    <tr>\n",
       "      <th>9</th>\n",
       "      <td>13</td>\n",
       "      <td>1</td>\n",
       "    </tr>\n",
       "    <tr>\n",
       "      <th>12</th>\n",
       "      <td>75</td>\n",
       "      <td>2</td>\n",
       "    </tr>\n",
       "    <tr>\n",
       "      <th>15</th>\n",
       "      <td>24</td>\n",
       "      <td>3</td>\n",
       "    </tr>\n",
       "    <tr>\n",
       "      <th>18</th>\n",
       "      <td>35</td>\n",
       "      <td>4</td>\n",
       "    </tr>\n",
       "    <tr>\n",
       "      <th>21</th>\n",
       "      <td>22</td>\n",
       "      <td>5</td>\n",
       "    </tr>\n",
       "  </tbody>\n",
       "</table>\n",
       "</div>"
      ],
      "text/plain": [
       "    total deaths  id\n",
       "9             13   1\n",
       "12            75   2\n",
       "15            24   3\n",
       "18            35   4\n",
       "21            22   5"
      ]
     },
     "execution_count": 12,
     "metadata": {},
     "output_type": "execute_result"
    }
   ],
   "source": [
    "data2013.head()"
   ]
  },
  {
   "cell_type": "code",
   "execution_count": 13,
   "metadata": {
    "collapsed": true
   },
   "outputs": [],
   "source": [
    "data2013.to_csv(\"../data/municipalities/2013/deaths.csv\", index=False)\n",
    "data2014.to_csv(\"../data/municipalities/2014/deaths.csv\", index=False)\n",
    "data2015.to_csv(\"../data/municipalities/2015/deaths.csv\", index=False)\n"
   ]
  }
 ],
 "metadata": {
  "anaconda-cloud": {},
  "kernelspec": {
   "display_name": "Python [conda root]",
   "language": "python",
   "name": "conda-root-py"
  },
  "language_info": {
   "codemirror_mode": {
    "name": "ipython",
    "version": 3
   },
   "file_extension": ".py",
   "mimetype": "text/x-python",
   "name": "python",
   "nbconvert_exporter": "python",
   "pygments_lexer": "ipython3",
   "version": "3.5.2"
  }
 },
 "nbformat": 4,
 "nbformat_minor": 0
}
