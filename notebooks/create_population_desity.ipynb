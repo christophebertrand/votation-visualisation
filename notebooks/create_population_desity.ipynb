{
 "cells": [
  {
   "cell_type": "code",
   "execution_count": 1,
   "metadata": {
    "collapsed": true
   },
   "outputs": [],
   "source": [
    "# imports\n",
    "import pandas as pd\n",
    "import numpy as np\n",
    "import seaborn as sns\n",
    "import matplotlib.pyplot as plt\n",
    "from matplotlib.pyplot import show\n",
    "\n",
    "%matplotlib inline\n",
    "sns.set_context('notebook')\n",
    "pd.options.mode.chained_assignment = None  # default='warn'\n",
    "pd.set_option('display.max_columns', 500) # show more columns\n",
    "nan = np.nan # store numpy.nan in 'nan'"
   ]
  },
  {
   "cell_type": "code",
   "execution_count": 2,
   "metadata": {
    "collapsed": true
   },
   "outputs": [],
   "source": [
    "area = pd.read_csv('../data/municipalities/2013/area_data.csv')\n",
    "pop13 = pd.read_csv('../data/municipalities/2013/data_commune.csv')\n",
    "pop14 = pd.read_csv('../data/municipalities/2014/data_commune.csv')\n",
    "pop15 = pd.read_csv('../data/municipalities/2015/data_commune.csv')\n",
    "pop16 = pd.read_csv('../data/municipalities/2016/data_commune.csv')"
   ]
  },
  {
   "cell_type": "code",
   "execution_count": 3,
   "metadata": {
    "collapsed": true
   },
   "outputs": [],
   "source": [
    "d13 = area.merge(on='id', right=pop13[['id', 'total_inhabitants']])\n",
    "d14 = area.merge(on='id', right=pop14[['id', 'total_inhabitants']])\n",
    "d15 = area.merge(on='id', right=pop15[['id', 'total_inhabitants']])\n",
    "d16 = area.merge(on='id', right=pop16[['id', 'total_inhabitants']])"
   ]
  },
  {
   "cell_type": "code",
   "execution_count": 4,
   "metadata": {
    "collapsed": true
   },
   "outputs": [],
   "source": [
    "d13['inhabitant per km^2'] = d13['total_inhabitants'] / d13['area_km^2']\n",
    "d14['inhabitant per km^2'] = d14['total_inhabitants'] / d14['area_km^2']\n",
    "d15['inhabitant per km^2'] = d15['total_inhabitants'] / d15['area_km^2']\n",
    "d16['inhabitant per km^2'] = d16['total_inhabitants'] / d16['area_km^2']"
   ]
  },
  {
   "cell_type": "code",
   "execution_count": 5,
   "metadata": {
    "collapsed": false
   },
   "outputs": [],
   "source": [
    "d13['inhabitant per km^2'] = np.round(d13['inhabitant per km^2'], 2)\n",
    "d14['inhabitant per km^2'] = np.round(d14['inhabitant per km^2'], 2)\n",
    "d15['inhabitant per km^2'] = np.round(d15['inhabitant per km^2'], 2)\n",
    "d16['inhabitant per km^2'] = np.round(d16['inhabitant per km^2'], 2)"
   ]
  },
  {
   "cell_type": "code",
   "execution_count": 6,
   "metadata": {
    "collapsed": false
   },
   "outputs": [],
   "source": [
    "d13.drop(['area_km^2', 'total_inhabitants'], axis=1, inplace=True)\n",
    "d14.drop(['area_km^2', 'total_inhabitants'], axis=1, inplace=True)\n",
    "d15.drop(['area_km^2', 'total_inhabitants'], axis=1, inplace=True)\n",
    "d16.drop(['area_km^2', 'total_inhabitants'], axis=1, inplace=True)"
   ]
  },
  {
   "cell_type": "code",
   "execution_count": 7,
   "metadata": {
    "collapsed": false,
    "scrolled": true
   },
   "outputs": [
    {
     "data": {
      "text/html": [
       "<div>\n",
       "<table border=\"1\" class=\"dataframe\">\n",
       "  <thead>\n",
       "    <tr style=\"text-align: right;\">\n",
       "      <th></th>\n",
       "      <th>id</th>\n",
       "      <th>area_km^2</th>\n",
       "    </tr>\n",
       "  </thead>\n",
       "  <tbody>\n",
       "    <tr>\n",
       "      <th>0</th>\n",
       "      <td>4551</td>\n",
       "      <td>19.90</td>\n",
       "    </tr>\n",
       "    <tr>\n",
       "      <th>1</th>\n",
       "      <td>4001</td>\n",
       "      <td>12.33</td>\n",
       "    </tr>\n",
       "    <tr>\n",
       "      <th>2</th>\n",
       "      <td>301</td>\n",
       "      <td>7.92</td>\n",
       "    </tr>\n",
       "    <tr>\n",
       "      <th>3</th>\n",
       "      <td>4271</td>\n",
       "      <td>4.42</td>\n",
       "    </tr>\n",
       "    <tr>\n",
       "      <th>4</th>\n",
       "      <td>321</td>\n",
       "      <td>9.87</td>\n",
       "    </tr>\n",
       "  </tbody>\n",
       "</table>\n",
       "</div>"
      ],
      "text/plain": [
       "     id  area_km^2\n",
       "0  4551      19.90\n",
       "1  4001      12.33\n",
       "2   301       7.92\n",
       "3  4271       4.42\n",
       "4   321       9.87"
      ]
     },
     "execution_count": 7,
     "metadata": {},
     "output_type": "execute_result"
    }
   ],
   "source": [
    "area.head()"
   ]
  },
  {
   "cell_type": "code",
   "execution_count": 8,
   "metadata": {
    "collapsed": false,
    "scrolled": true
   },
   "outputs": [
    {
     "data": {
      "text/html": [
       "<div>\n",
       "<table border=\"1\" class=\"dataframe\">\n",
       "  <thead>\n",
       "    <tr style=\"text-align: right;\">\n",
       "      <th></th>\n",
       "      <th>id</th>\n",
       "      <th>inhabitant per km^2</th>\n",
       "    </tr>\n",
       "  </thead>\n",
       "  <tbody>\n",
       "    <tr>\n",
       "      <th>0</th>\n",
       "      <td>4551</td>\n",
       "      <td>425.78</td>\n",
       "    </tr>\n",
       "    <tr>\n",
       "      <th>1</th>\n",
       "      <td>4001</td>\n",
       "      <td>1636.42</td>\n",
       "    </tr>\n",
       "    <tr>\n",
       "      <th>2</th>\n",
       "      <td>301</td>\n",
       "      <td>539.52</td>\n",
       "    </tr>\n",
       "    <tr>\n",
       "      <th>3</th>\n",
       "      <td>4271</td>\n",
       "      <td>1636.20</td>\n",
       "    </tr>\n",
       "    <tr>\n",
       "      <th>4</th>\n",
       "      <td>321</td>\n",
       "      <td>430.80</td>\n",
       "    </tr>\n",
       "  </tbody>\n",
       "</table>\n",
       "</div>"
      ],
      "text/plain": [
       "     id  inhabitant per km^2\n",
       "0  4551               425.78\n",
       "1  4001              1636.42\n",
       "2   301               539.52\n",
       "3  4271              1636.20\n",
       "4   321               430.80"
      ]
     },
     "execution_count": 8,
     "metadata": {},
     "output_type": "execute_result"
    }
   ],
   "source": [
    "d13.head()"
   ]
  },
  {
   "cell_type": "code",
   "execution_count": 9,
   "metadata": {
    "collapsed": false
   },
   "outputs": [
    {
     "data": {
      "text/html": [
       "<div>\n",
       "<table border=\"1\" class=\"dataframe\">\n",
       "  <thead>\n",
       "    <tr style=\"text-align: right;\">\n",
       "      <th></th>\n",
       "      <th>id</th>\n",
       "      <th>inhabitant per km^2</th>\n",
       "    </tr>\n",
       "  </thead>\n",
       "  <tbody>\n",
       "    <tr>\n",
       "      <th>0</th>\n",
       "      <td>4551</td>\n",
       "      <td>432.11</td>\n",
       "    </tr>\n",
       "    <tr>\n",
       "      <th>1</th>\n",
       "      <td>4001</td>\n",
       "      <td>1657.75</td>\n",
       "    </tr>\n",
       "    <tr>\n",
       "      <th>2</th>\n",
       "      <td>301</td>\n",
       "      <td>558.33</td>\n",
       "    </tr>\n",
       "    <tr>\n",
       "      <th>3</th>\n",
       "      <td>4271</td>\n",
       "      <td>1711.31</td>\n",
       "    </tr>\n",
       "    <tr>\n",
       "      <th>4</th>\n",
       "      <td>321</td>\n",
       "      <td>436.68</td>\n",
       "    </tr>\n",
       "  </tbody>\n",
       "</table>\n",
       "</div>"
      ],
      "text/plain": [
       "     id  inhabitant per km^2\n",
       "0  4551               432.11\n",
       "1  4001              1657.75\n",
       "2   301               558.33\n",
       "3  4271              1711.31\n",
       "4   321               436.68"
      ]
     },
     "execution_count": 9,
     "metadata": {},
     "output_type": "execute_result"
    }
   ],
   "source": [
    "d14.head()"
   ]
  },
  {
   "cell_type": "code",
   "execution_count": 10,
   "metadata": {
    "collapsed": false
   },
   "outputs": [
    {
     "data": {
      "text/html": [
       "<div>\n",
       "<table border=\"1\" class=\"dataframe\">\n",
       "  <thead>\n",
       "    <tr style=\"text-align: right;\">\n",
       "      <th></th>\n",
       "      <th>id</th>\n",
       "      <th>inhabitant per km^2</th>\n",
       "    </tr>\n",
       "  </thead>\n",
       "  <tbody>\n",
       "    <tr>\n",
       "      <th>0</th>\n",
       "      <td>4551</td>\n",
       "      <td>441.86</td>\n",
       "    </tr>\n",
       "    <tr>\n",
       "      <th>1</th>\n",
       "      <td>4001</td>\n",
       "      <td>1678.99</td>\n",
       "    </tr>\n",
       "    <tr>\n",
       "      <th>2</th>\n",
       "      <td>301</td>\n",
       "      <td>571.59</td>\n",
       "    </tr>\n",
       "    <tr>\n",
       "      <th>3</th>\n",
       "      <td>4271</td>\n",
       "      <td>1746.83</td>\n",
       "    </tr>\n",
       "    <tr>\n",
       "      <th>4</th>\n",
       "      <td>321</td>\n",
       "      <td>446.40</td>\n",
       "    </tr>\n",
       "  </tbody>\n",
       "</table>\n",
       "</div>"
      ],
      "text/plain": [
       "     id  inhabitant per km^2\n",
       "0  4551               441.86\n",
       "1  4001              1678.99\n",
       "2   301               571.59\n",
       "3  4271              1746.83\n",
       "4   321               446.40"
      ]
     },
     "execution_count": 10,
     "metadata": {},
     "output_type": "execute_result"
    }
   ],
   "source": [
    "d15.head()"
   ]
  },
  {
   "cell_type": "code",
   "execution_count": 11,
   "metadata": {
    "collapsed": false
   },
   "outputs": [
    {
     "data": {
      "text/html": [
       "<div>\n",
       "<table border=\"1\" class=\"dataframe\">\n",
       "  <thead>\n",
       "    <tr style=\"text-align: right;\">\n",
       "      <th></th>\n",
       "      <th>id</th>\n",
       "      <th>inhabitant per km^2</th>\n",
       "    </tr>\n",
       "  </thead>\n",
       "  <tbody>\n",
       "    <tr>\n",
       "      <th>0</th>\n",
       "      <td>4551</td>\n",
       "      <td>441.86</td>\n",
       "    </tr>\n",
       "    <tr>\n",
       "      <th>1</th>\n",
       "      <td>4001</td>\n",
       "      <td>1678.99</td>\n",
       "    </tr>\n",
       "    <tr>\n",
       "      <th>2</th>\n",
       "      <td>301</td>\n",
       "      <td>571.59</td>\n",
       "    </tr>\n",
       "    <tr>\n",
       "      <th>3</th>\n",
       "      <td>4271</td>\n",
       "      <td>1746.83</td>\n",
       "    </tr>\n",
       "    <tr>\n",
       "      <th>4</th>\n",
       "      <td>321</td>\n",
       "      <td>446.40</td>\n",
       "    </tr>\n",
       "  </tbody>\n",
       "</table>\n",
       "</div>"
      ],
      "text/plain": [
       "     id  inhabitant per km^2\n",
       "0  4551               441.86\n",
       "1  4001              1678.99\n",
       "2   301               571.59\n",
       "3  4271              1746.83\n",
       "4   321               446.40"
      ]
     },
     "execution_count": 11,
     "metadata": {},
     "output_type": "execute_result"
    }
   ],
   "source": [
    "d16.head()"
   ]
  },
  {
   "cell_type": "code",
   "execution_count": 16,
   "metadata": {
    "collapsed": false
   },
   "outputs": [
    {
     "name": "stdout",
     "output_type": "stream",
     "text": [
      "correct_ids_comune (2324, 2)\n",
      "data (2324, 2)\n",
      "\n",
      "len(missing_in_data) 0\n",
      "missing_in_data []\n",
      "len(missing_in_id) 0\n",
      "missing_in_id []\n"
     ]
    }
   ],
   "source": [
    "# check integrity\n",
    "ids_commune = pd.read_csv(\"../data/municipalities/2015/id_commune_2015.csv\")\n",
    "correct_ids = np.array(ids_commune['id'].values)\n",
    "\n",
    "data = d13\n",
    "\n",
    "missing_in_data = []\n",
    "missing_in_id = []\n",
    "for i in correct_ids:\n",
    "    if i not in data['id'].values:\n",
    "        missing_in_data.append(i)\n",
    "for i in data['id'].values:\n",
    "    if i not in correct_ids:\n",
    "        missing_in_id.append(i)\n",
    "\n",
    "print(\"correct_ids_comune\", ids_commune.shape)\n",
    "print(\"data\", data.shape)\n",
    "print()\n",
    "\n",
    "print(\"len(missing_in_data)\", len(missing_in_data))\n",
    "print(\"missing_in_data\", missing_in_data)\n",
    "\n",
    "print(\"len(missing_in_id)\", len(missing_in_id))\n",
    "print(\"missing_in_id\", missing_in_id)"
   ]
  },
  {
   "cell_type": "code",
   "execution_count": 13,
   "metadata": {
    "collapsed": true
   },
   "outputs": [],
   "source": [
    "d13.to_csv('../data/municipalities/2013/population_density.csv', index=False)\n",
    "d14.to_csv('../data/municipalities/2014/population_density.csv', index=False)\n",
    "d15.to_csv('../data/municipalities/2015/population_density.csv', index=False)\n",
    "d16.to_csv('../data/municipalities/2016/population_density.csv', index=False)"
   ]
  },
  {
   "cell_type": "code",
   "execution_count": null,
   "metadata": {
    "collapsed": true
   },
   "outputs": [],
   "source": []
  },
  {
   "cell_type": "code",
   "execution_count": null,
   "metadata": {
    "collapsed": true
   },
   "outputs": [],
   "source": []
  },
  {
   "cell_type": "code",
   "execution_count": null,
   "metadata": {
    "collapsed": true
   },
   "outputs": [],
   "source": []
  }
 ],
 "metadata": {
  "anaconda-cloud": {},
  "kernelspec": {
   "display_name": "Python [conda root]",
   "language": "python",
   "name": "conda-root-py"
  },
  "language_info": {
   "codemirror_mode": {
    "name": "ipython",
    "version": 3
   },
   "file_extension": ".py",
   "mimetype": "text/x-python",
   "name": "python",
   "nbconvert_exporter": "python",
   "pygments_lexer": "ipython3",
   "version": "3.5.2"
  }
 },
 "nbformat": 4,
 "nbformat_minor": 0
}
